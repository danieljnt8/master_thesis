{
 "cells": [
  {
   "cell_type": "code",
   "execution_count": 1,
   "id": "ef9d42ed-6904-47ad-85e7-4411411a9fd5",
   "metadata": {},
   "outputs": [],
   "source": [
    "import os\n",
    "import random\n",
    "import warnings\n",
    "from dataclasses import dataclass\n",
    "import numpy as np\n",
    "import torch\n",
    "from transformers import DecisionTransformerConfig, DecisionTransformerModel, Trainer, TrainingArguments\n",
    "from datasets import load_from_disk\n",
    "from tqdm.auto import trange, tqdm\n",
    "import datasets\n"
   ]
  },
  {
   "cell_type": "code",
   "execution_count": 2,
   "id": "55ba93e1-ce20-4601-a8fb-b8c3bd8dc6a0",
   "metadata": {},
   "outputs": [],
   "source": [
    "from datasets import load_dataset\n",
    "dataset = load_dataset(\"edbeeching/decision_transformer_gym_replay\", \"halfcheetah-expert-v2\")"
   ]
  },
  {
   "cell_type": "code",
   "execution_count": 3,
   "id": "a6acb71f-d45a-46ec-ac56-cc43da9554ef",
   "metadata": {},
   "outputs": [],
   "source": [
    "class DecisionTransformerGymDataCollator:\n",
    "    return_tensors: str = \"pt\"\n",
    "    max_len: int = 20 #subsets of the episode we use for training\n",
    "    state_dim: int = 17  # size of state space\n",
    "    act_dim: int = 6  # size of action space\n",
    "    max_ep_len: int = 1000 # max episode length in the dataset\n",
    "    scale: float = 1000.0  # normalization of rewards/returns\n",
    "    state_mean: np.array = None  # to store state means\n",
    "    state_std: np.array = None  # to store state stds\n",
    "    p_sample: np.array = None  # a distribution to take account trajectory lengths\n",
    "    n_traj: int = 0 # to store the number of trajectories in the dataset\n",
    "\n",
    "    def __init__(self, dataset) -> None:\n",
    "        self.act_dim = len(dataset[0][\"actions\"][0])\n",
    "        self.state_dim = len(dataset[0][\"observations\"][0])\n",
    "        self.dataset = dataset\n",
    "        # calculate dataset stats for normalization of states\n",
    "        states = []\n",
    "        traj_lens = []\n",
    "        for obs in dataset[\"observations\"]:\n",
    "            states.extend(obs)\n",
    "            traj_lens.append(len(obs))\n",
    "        self.n_traj = len(traj_lens)\n",
    "        states = np.vstack(states)\n",
    "        self.state_mean, self.state_std = np.mean(states, axis=0), np.std(states, axis=0) + 1e-6\n",
    "        \n",
    "        traj_lens = np.array(traj_lens)\n",
    "        self.p_sample = traj_lens / sum(traj_lens)\n",
    "\n",
    "    def _discount_cumsum(self, x, gamma):\n",
    "        discount_cumsum = np.zeros_like(x)\n",
    "        discount_cumsum[-1] = x[-1]\n",
    "        for t in reversed(range(x.shape[0] - 1)):\n",
    "            discount_cumsum[t] = x[t] + gamma * discount_cumsum[t + 1]\n",
    "        return discount_cumsum\n",
    "\n",
    "    def __call__(self, features):\n",
    "        batch_size = len(features)\n",
    "        # this is a bit of a hack to be able to sample of a non-uniform distribution\n",
    "        batch_inds = np.random.choice(\n",
    "            np.arange(self.n_traj),\n",
    "            size=batch_size,\n",
    "            replace=True,\n",
    "            p=self.p_sample,  # reweights so we sample according to timesteps\n",
    "        )\n",
    "        # a batch of dataset features\n",
    "        s, a, r, d, rtg, timesteps, mask = [], [], [], [], [], [], []\n",
    "        \n",
    "        for ind in batch_inds:\n",
    "            # for feature in features:\n",
    "            feature = self.dataset[int(ind)]\n",
    "            si = random.randint(0, len(feature[\"rewards\"]) - 1)\n",
    "\n",
    "            # get sequences from dataset\n",
    "            s.append(np.array(feature[\"observations\"][si : si + self.max_len]).reshape(1, -1, self.state_dim))\n",
    "            a.append(np.array(feature[\"actions\"][si : si + self.max_len]).reshape(1, -1, self.act_dim))\n",
    "            r.append(np.array(feature[\"rewards\"][si : si + self.max_len]).reshape(1, -1, 1))\n",
    "\n",
    "            d.append(np.array(feature[\"dones\"][si : si + self.max_len]).reshape(1, -1))\n",
    "            timesteps.append(np.arange(si, si + s[-1].shape[1]).reshape(1, -1))\n",
    "            timesteps[-1][timesteps[-1] >= self.max_ep_len] = self.max_ep_len - 1  # padding cutoff\n",
    "            rtg.append(\n",
    "                self._discount_cumsum(np.array(feature[\"rewards\"][si:]), gamma=1.0)[\n",
    "                    : s[-1].shape[1]   # TODO check the +1 removed here\n",
    "                ].reshape(1, -1, 1)\n",
    "            )\n",
    "            if rtg[-1].shape[1] < s[-1].shape[1]:\n",
    "                print(\"if true\")\n",
    "                rtg[-1] = np.concatenate([rtg[-1], np.zeros((1, 1, 1))], axis=1)\n",
    "\n",
    "            # padding and state + reward normalization\n",
    "            tlen = s[-1].shape[1]\n",
    "            s[-1] = np.concatenate([np.zeros((1, self.max_len - tlen, self.state_dim)), s[-1]], axis=1)\n",
    "            s[-1] = (s[-1] - self.state_mean) / self.state_std\n",
    "            a[-1] = np.concatenate(\n",
    "                [np.ones((1, self.max_len - tlen, self.act_dim)) * -10.0, a[-1]],\n",
    "                axis=1,\n",
    "            )\n",
    "            r[-1] = np.concatenate([np.zeros((1, self.max_len - tlen, 1)), r[-1]], axis=1)\n",
    "            d[-1] = np.concatenate([np.ones((1, self.max_len - tlen)) * 2, d[-1]], axis=1)\n",
    "            rtg[-1] = np.concatenate([np.zeros((1, self.max_len - tlen, 1)), rtg[-1]], axis=1) / self.scale\n",
    "            timesteps[-1] = np.concatenate([np.zeros((1, self.max_len - tlen)), timesteps[-1]], axis=1)\n",
    "            mask.append(np.concatenate([np.zeros((1, self.max_len - tlen)), np.ones((1, tlen))], axis=1))\n",
    "\n",
    "        s = torch.from_numpy(np.concatenate(s, axis=0)).float()\n",
    "        a = torch.from_numpy(np.concatenate(a, axis=0)).float()\n",
    "        r = torch.from_numpy(np.concatenate(r, axis=0)).float()\n",
    "        d = torch.from_numpy(np.concatenate(d, axis=0))\n",
    "        rtg = torch.from_numpy(np.concatenate(rtg, axis=0)).float()\n",
    "        timesteps = torch.from_numpy(np.concatenate(timesteps, axis=0)).long()\n",
    "        mask = torch.from_numpy(np.concatenate(mask, axis=0)).float()\n",
    "\n",
    "        return {\n",
    "            \"states\": s,\n",
    "            \"actions\": a,\n",
    "            \"rewards\": r,\n",
    "            \"returns_to_go\": rtg,\n",
    "            \"timesteps\": timesteps,\n",
    "            \"attention_mask\": mask,\n",
    "        }"
   ]
  },
  {
   "cell_type": "code",
   "execution_count": 4,
   "id": "4255494d-cec0-4205-8f6d-aba3addb0c4f",
   "metadata": {},
   "outputs": [],
   "source": [
    "return_tensors: str = \"pt\"\n",
    "max_len: int = 20 #subsets of the episode we use for training\n",
    "state_dim: int = 17  # size of state space\n",
    "act_dim: int = 6  # size of action space\n",
    "max_ep_len: int = 1000 # max episode length in the dataset\n",
    "scale: float = 1000.0  # normalization of rewards/returns\n",
    "state_mean: np.array = None  # to store state means\n",
    "state_std: np.array = None  # to store state stds\n",
    "p_sample: np.array = None  # a distribution to take account trajectory lengths\n",
    "n_traj: int = 0 # to store the number of trajectories in the dataset\n"
   ]
  },
  {
   "cell_type": "code",
   "execution_count": 6,
   "id": "9cbba653-8e5a-4c84-97dc-71b978d808b4",
   "metadata": {},
   "outputs": [],
   "source": [
    "dataset = dataset[\"train\"]"
   ]
  },
  {
   "cell_type": "code",
   "execution_count": 7,
   "id": "20e6abb1-5ead-4e11-bc32-b70b64cb5cba",
   "metadata": {},
   "outputs": [],
   "source": [
    "act_dim = len(dataset[0][\"actions\"][0])\n",
    "state_dim = len(dataset[0][\"observations\"][0])\n",
    "dataset = dataset"
   ]
  },
  {
   "cell_type": "code",
   "execution_count": 8,
   "id": "b8d8ebed-591c-4870-8e35-c7b94c897122",
   "metadata": {},
   "outputs": [],
   "source": [
    "states = []\n",
    "traj_lens = []\n",
    "for obs in dataset[\"observations\"]:\n",
    "    states.extend(obs)\n",
    "    traj_lens.append(len(obs))\n",
    "n_traj = len(traj_lens)\n",
    "states = np.vstack(states)\n",
    "state_mean, state_std = np.mean(states, axis=0), np.std(states, axis=0) + 1e-6\n",
    "        \n",
    "traj_lens = np.array(traj_lens)\n",
    "p_sample = traj_lens / sum(traj_lens)"
   ]
  },
  {
   "cell_type": "code",
   "execution_count": 28,
   "id": "7d112977-eb9e-4d50-98e7-e884a03b7e09",
   "metadata": {},
   "outputs": [],
   "source": [
    "batch_size = 1"
   ]
  },
  {
   "cell_type": "code",
   "execution_count": 29,
   "id": "8e973b21-cd53-4015-99e9-2c6b3ded77fc",
   "metadata": {},
   "outputs": [
    {
     "data": {
      "text/plain": [
       "1000"
      ]
     },
     "execution_count": 29,
     "metadata": {},
     "output_type": "execute_result"
    }
   ],
   "source": [
    "n_traj"
   ]
  },
  {
   "cell_type": "code",
   "execution_count": 30,
   "id": "3f57a9cb-c6b7-4d0a-abf5-04989bad6654",
   "metadata": {},
   "outputs": [],
   "source": [
    "batch_inds = np.random.choice(np.arange(n_traj),size = batch_size, replace =True, p = p_sample)"
   ]
  },
  {
   "cell_type": "code",
   "execution_count": 31,
   "id": "c2255819-225c-499d-a9d7-55f8674e80ec",
   "metadata": {},
   "outputs": [
    {
     "data": {
      "text/plain": [
       "array([400])"
      ]
     },
     "execution_count": 31,
     "metadata": {},
     "output_type": "execute_result"
    }
   ],
   "source": [
    "batch_inds"
   ]
  },
  {
   "cell_type": "code",
   "execution_count": 63,
   "id": "f97347cf-f0c5-4fde-8ea8-08723143cd6a",
   "metadata": {},
   "outputs": [],
   "source": [
    "s, a, r, d, rtg, timesteps, mask = [], [], [], [], [], [], []"
   ]
  },
  {
   "cell_type": "code",
   "execution_count": 64,
   "id": "ea857386-51bd-4a68-aaea-748aa5fff44c",
   "metadata": {},
   "outputs": [],
   "source": [
    "feature = dataset[400]"
   ]
  },
  {
   "cell_type": "code",
   "execution_count": 65,
   "id": "985d7006-a148-44ae-9df4-1db48155de18",
   "metadata": {},
   "outputs": [],
   "source": [
    "si = random.randint(0, len(feature[\"rewards\"]) - 1)"
   ]
  },
  {
   "cell_type": "code",
   "execution_count": 66,
   "id": "353a4202-7f5c-4cdb-a4b8-55cc7fffb66f",
   "metadata": {},
   "outputs": [],
   "source": [
    "si = 990"
   ]
  },
  {
   "cell_type": "code",
   "execution_count": 67,
   "id": "0a53503d-d9d5-4d2b-993d-55a0a7255636",
   "metadata": {},
   "outputs": [],
   "source": [
    "obs = np.array(feature[\"observations\"][si : si + max_len]).reshape(1, -1, state_dim)"
   ]
  },
  {
   "cell_type": "code",
   "execution_count": 68,
   "id": "46143f3a-2f9c-4f00-8844-569b4fbec839",
   "metadata": {},
   "outputs": [],
   "source": [
    "act = np.array(feature[\"actions\"][si : si + max_len]).reshape(1, -1, act_dim)\n",
    "rew = np.array(feature[\"rewards\"][si : si + max_len]).reshape(1, -1, 1)"
   ]
  },
  {
   "cell_type": "code",
   "execution_count": 69,
   "id": "e9a19d8b-af8e-49ef-b06b-ed8935f49c17",
   "metadata": {},
   "outputs": [],
   "source": [
    "done = np.array(feature[\"dones\"][si : si + max_len]).reshape(1, -1)"
   ]
  },
  {
   "cell_type": "code",
   "execution_count": 70,
   "id": "ed2d8f5e-dc53-4244-9e7b-1853bdecda9e",
   "metadata": {},
   "outputs": [],
   "source": [
    "s.append(obs)\n",
    "a.append(act)\n",
    "r.append(rew)\n",
    "d.append(done)"
   ]
  },
  {
   "cell_type": "code",
   "execution_count": 71,
   "id": "ded5afc6-d765-4b61-b02c-4433f406ebdc",
   "metadata": {},
   "outputs": [],
   "source": [
    "timesteps.append(np.arange(si, si + s[-1].shape[1]).reshape(1, -1))"
   ]
  },
  {
   "cell_type": "code",
   "execution_count": 73,
   "id": "4ea68e9a-e3c9-4b08-9392-c9b354c0e334",
   "metadata": {},
   "outputs": [
    {
     "data": {
      "text/plain": [
       "[array([[990, 991, 992, 993, 994, 995, 996, 997, 998, 999]])]"
      ]
     },
     "execution_count": 73,
     "metadata": {},
     "output_type": "execute_result"
    }
   ],
   "source": [
    "timesteps"
   ]
  },
  {
   "cell_type": "code",
   "execution_count": 74,
   "id": "6130675d-c69c-492a-adab-011bf5a3190d",
   "metadata": {},
   "outputs": [
    {
     "data": {
      "text/plain": [
       "array([[False, False, False, False, False,  True,  True,  True,  True,\n",
       "         True]])"
      ]
     },
     "execution_count": 74,
     "metadata": {},
     "output_type": "execute_result"
    }
   ],
   "source": [
    "timesteps[-1] >=995"
   ]
  },
  {
   "cell_type": "code",
   "execution_count": 75,
   "id": "9d6f2713-99d7-4901-8fe8-90eaf2393886",
   "metadata": {},
   "outputs": [],
   "source": [
    "max_ep_len = 995"
   ]
  },
  {
   "cell_type": "code",
   "execution_count": 76,
   "id": "3f06caf4-721f-469a-b33c-a8027e1e63dc",
   "metadata": {},
   "outputs": [],
   "source": [
    "timesteps[-1][timesteps[-1] >= max_ep_len] = max_ep_len - 1"
   ]
  },
  {
   "cell_type": "code",
   "execution_count": 77,
   "id": "55ca2df5-8df3-4c89-8f50-2d5a01fd964c",
   "metadata": {},
   "outputs": [
    {
     "data": {
      "text/plain": [
       "[array([[990, 991, 992, 993, 994, 994, 994, 994, 994, 994]])]"
      ]
     },
     "execution_count": 77,
     "metadata": {},
     "output_type": "execute_result"
    }
   ],
   "source": [
    "timesteps"
   ]
  },
  {
   "cell_type": "code",
   "execution_count": 80,
   "id": "5e9c5d29-1946-4b8c-9af6-9035a21ca416",
   "metadata": {},
   "outputs": [],
   "source": [
    "x = np.array(feature[\"rewards\"][si:])"
   ]
  },
  {
   "cell_type": "code",
   "execution_count": 81,
   "id": "5680ac4e-77bd-4278-b384-e7c38971e13d",
   "metadata": {},
   "outputs": [],
   "source": [
    "discount_cumsum = np.zeros_like(x)"
   ]
  },
  {
   "cell_type": "code",
   "execution_count": 82,
   "id": "9c78fd24-25db-427e-aad6-1076ebbd3df5",
   "metadata": {},
   "outputs": [
    {
     "data": {
      "text/plain": [
       "array([0., 0., 0., 0., 0., 0., 0., 0., 0., 0.])"
      ]
     },
     "execution_count": 82,
     "metadata": {},
     "output_type": "execute_result"
    }
   ],
   "source": [
    "discount_cumsum"
   ]
  },
  {
   "cell_type": "code",
   "execution_count": 83,
   "id": "bda1b934-d37f-4391-9acb-807517a98670",
   "metadata": {},
   "outputs": [],
   "source": [
    "discount_cumsum[-1] = x[-1]"
   ]
  },
  {
   "cell_type": "code",
   "execution_count": 84,
   "id": "4e3d8513-b8f1-4323-a5d9-d4244b134eb3",
   "metadata": {},
   "outputs": [
    {
     "data": {
      "text/plain": [
       "array([ 0.        ,  0.        ,  0.        ,  0.        ,  0.        ,\n",
       "        0.        ,  0.        ,  0.        ,  0.        , 10.98636818])"
      ]
     },
     "execution_count": 84,
     "metadata": {},
     "output_type": "execute_result"
    }
   ],
   "source": [
    "discount_cumsum"
   ]
  },
  {
   "cell_type": "code",
   "execution_count": 86,
   "id": "fba996d7-cf85-415a-9fd9-dfc99ae7fee4",
   "metadata": {},
   "outputs": [
    {
     "name": "stdout",
     "output_type": "stream",
     "text": [
      "8\n",
      "7\n",
      "6\n",
      "5\n",
      "4\n",
      "3\n",
      "2\n",
      "1\n",
      "0\n"
     ]
    }
   ],
   "source": [
    "for t in reversed(range(x.shape[0] - 1)):\n",
    "    print(t)"
   ]
  },
  {
   "cell_type": "code",
   "execution_count": 88,
   "id": "e91672a3-33b2-4835-be89-8bedef1787a7",
   "metadata": {},
   "outputs": [
    {
     "data": {
      "text/plain": [
       "10"
      ]
     },
     "execution_count": 88,
     "metadata": {},
     "output_type": "execute_result"
    }
   ],
   "source": [
    "x.shape[0]"
   ]
  },
  {
   "cell_type": "code",
   "execution_count": 89,
   "id": "e3b0b3e5-27b1-4840-97a9-54c4dce58593",
   "metadata": {},
   "outputs": [
    {
     "data": {
      "text/plain": [
       "11.682415962219238"
      ]
     },
     "execution_count": 89,
     "metadata": {},
     "output_type": "execute_result"
    }
   ],
   "source": [
    "x[8]"
   ]
  },
  {
   "cell_type": "code",
   "execution_count": 92,
   "id": "5aa3fabd-1dc5-41ea-a84e-d9fafffdaec7",
   "metadata": {},
   "outputs": [],
   "source": [
    "for t in reversed(range(x.shape[0] - 1)):\n",
    "    discount_cumsum[t] = x[t] + 1 * discount_cumsum[t + 1]"
   ]
  },
  {
   "cell_type": "code",
   "execution_count": 97,
   "id": "66dae1a6-5663-4e82-8bfd-987b5710176e",
   "metadata": {},
   "outputs": [
    {
     "data": {
      "text/plain": [
       "array([[[115.7624464 ],\n",
       "        [103.89986229],\n",
       "        [ 92.61529922],\n",
       "        [ 80.94272327],\n",
       "        [ 69.47979927],\n",
       "        [ 58.13008118],\n",
       "        [ 45.9987936 ],\n",
       "        [ 34.39903355],\n",
       "        [ 22.66878414],\n",
       "        [ 10.98636818]]])"
      ]
     },
     "execution_count": 97,
     "metadata": {},
     "output_type": "execute_result"
    }
   ],
   "source": [
    "discount_cumsum[:s[-1].shape[1]].reshape(1,-1,1)"
   ]
  },
  {
   "cell_type": "code",
   "execution_count": 98,
   "id": "6c439fb4-54ec-4004-afba-8acb0ab2e4c7",
   "metadata": {},
   "outputs": [],
   "source": [
    "tlen = s[-1].shape[1]"
   ]
  },
  {
   "cell_type": "code",
   "execution_count": 100,
   "id": "b046897f-b51d-444a-a315-236d7a43b99f",
   "metadata": {},
   "outputs": [
    {
     "data": {
      "text/plain": [
       "20"
      ]
     },
     "execution_count": 100,
     "metadata": {},
     "output_type": "execute_result"
    }
   ],
   "source": [
    "max_len"
   ]
  },
  {
   "cell_type": "code",
   "execution_count": 102,
   "id": "392312c3-46ed-4601-b50a-29b021b46563",
   "metadata": {},
   "outputs": [
    {
     "data": {
      "text/plain": [
       "array([[[ 0.00000000e+00,  0.00000000e+00,  0.00000000e+00,\n",
       "          0.00000000e+00,  0.00000000e+00,  0.00000000e+00,\n",
       "          0.00000000e+00,  0.00000000e+00,  0.00000000e+00,\n",
       "          0.00000000e+00,  0.00000000e+00,  0.00000000e+00,\n",
       "          0.00000000e+00,  0.00000000e+00,  0.00000000e+00,\n",
       "          0.00000000e+00,  0.00000000e+00],\n",
       "        [ 0.00000000e+00,  0.00000000e+00,  0.00000000e+00,\n",
       "          0.00000000e+00,  0.00000000e+00,  0.00000000e+00,\n",
       "          0.00000000e+00,  0.00000000e+00,  0.00000000e+00,\n",
       "          0.00000000e+00,  0.00000000e+00,  0.00000000e+00,\n",
       "          0.00000000e+00,  0.00000000e+00,  0.00000000e+00,\n",
       "          0.00000000e+00,  0.00000000e+00],\n",
       "        [ 0.00000000e+00,  0.00000000e+00,  0.00000000e+00,\n",
       "          0.00000000e+00,  0.00000000e+00,  0.00000000e+00,\n",
       "          0.00000000e+00,  0.00000000e+00,  0.00000000e+00,\n",
       "          0.00000000e+00,  0.00000000e+00,  0.00000000e+00,\n",
       "          0.00000000e+00,  0.00000000e+00,  0.00000000e+00,\n",
       "          0.00000000e+00,  0.00000000e+00],\n",
       "        [ 0.00000000e+00,  0.00000000e+00,  0.00000000e+00,\n",
       "          0.00000000e+00,  0.00000000e+00,  0.00000000e+00,\n",
       "          0.00000000e+00,  0.00000000e+00,  0.00000000e+00,\n",
       "          0.00000000e+00,  0.00000000e+00,  0.00000000e+00,\n",
       "          0.00000000e+00,  0.00000000e+00,  0.00000000e+00,\n",
       "          0.00000000e+00,  0.00000000e+00],\n",
       "        [ 0.00000000e+00,  0.00000000e+00,  0.00000000e+00,\n",
       "          0.00000000e+00,  0.00000000e+00,  0.00000000e+00,\n",
       "          0.00000000e+00,  0.00000000e+00,  0.00000000e+00,\n",
       "          0.00000000e+00,  0.00000000e+00,  0.00000000e+00,\n",
       "          0.00000000e+00,  0.00000000e+00,  0.00000000e+00,\n",
       "          0.00000000e+00,  0.00000000e+00],\n",
       "        [ 0.00000000e+00,  0.00000000e+00,  0.00000000e+00,\n",
       "          0.00000000e+00,  0.00000000e+00,  0.00000000e+00,\n",
       "          0.00000000e+00,  0.00000000e+00,  0.00000000e+00,\n",
       "          0.00000000e+00,  0.00000000e+00,  0.00000000e+00,\n",
       "          0.00000000e+00,  0.00000000e+00,  0.00000000e+00,\n",
       "          0.00000000e+00,  0.00000000e+00],\n",
       "        [ 0.00000000e+00,  0.00000000e+00,  0.00000000e+00,\n",
       "          0.00000000e+00,  0.00000000e+00,  0.00000000e+00,\n",
       "          0.00000000e+00,  0.00000000e+00,  0.00000000e+00,\n",
       "          0.00000000e+00,  0.00000000e+00,  0.00000000e+00,\n",
       "          0.00000000e+00,  0.00000000e+00,  0.00000000e+00,\n",
       "          0.00000000e+00,  0.00000000e+00],\n",
       "        [ 0.00000000e+00,  0.00000000e+00,  0.00000000e+00,\n",
       "          0.00000000e+00,  0.00000000e+00,  0.00000000e+00,\n",
       "          0.00000000e+00,  0.00000000e+00,  0.00000000e+00,\n",
       "          0.00000000e+00,  0.00000000e+00,  0.00000000e+00,\n",
       "          0.00000000e+00,  0.00000000e+00,  0.00000000e+00,\n",
       "          0.00000000e+00,  0.00000000e+00],\n",
       "        [ 0.00000000e+00,  0.00000000e+00,  0.00000000e+00,\n",
       "          0.00000000e+00,  0.00000000e+00,  0.00000000e+00,\n",
       "          0.00000000e+00,  0.00000000e+00,  0.00000000e+00,\n",
       "          0.00000000e+00,  0.00000000e+00,  0.00000000e+00,\n",
       "          0.00000000e+00,  0.00000000e+00,  0.00000000e+00,\n",
       "          0.00000000e+00,  0.00000000e+00],\n",
       "        [ 0.00000000e+00,  0.00000000e+00,  0.00000000e+00,\n",
       "          0.00000000e+00,  0.00000000e+00,  0.00000000e+00,\n",
       "          0.00000000e+00,  0.00000000e+00,  0.00000000e+00,\n",
       "          0.00000000e+00,  0.00000000e+00,  0.00000000e+00,\n",
       "          0.00000000e+00,  0.00000000e+00,  0.00000000e+00,\n",
       "          0.00000000e+00,  0.00000000e+00],\n",
       "        [-7.56377131e-02, -9.95525770e-05, -2.76162148e-01,\n",
       "         -3.63291502e-02, -9.52134579e-02,  7.18114555e-01,\n",
       "          3.87777328e-01, -1.52363583e-01,  1.29665918e+01,\n",
       "          1.13924456e+00,  6.22763515e-01,  6.65901279e+00,\n",
       "          2.15471649e+01, -5.68932581e+00, -2.33958888e+00,\n",
       "         -1.53899584e+01, -7.07885647e+00],\n",
       "        [-1.34387836e-02,  9.37894657e-02,  5.54493546e-01,\n",
       "         -1.90715775e-01,  1.02965929e-01, -1.24526419e-01,\n",
       "         -2.18009815e-01, -3.15890074e-01,  1.17108784e+01,\n",
       "          5.03809750e-01,  2.46471095e+00,  1.53871613e+01,\n",
       "         -1.11915140e+01,  7.25414228e+00, -2.42836914e+01,\n",
       "         -9.40340519e+00, -1.07062364e+00],\n",
       "        [-5.68734929e-02,  1.84308976e-01,  9.36820030e-01,\n",
       "         -1.14091814e-01, -1.01943567e-01, -1.13368952e+00,\n",
       "         -2.81212509e-01, -1.33018866e-01,  1.23102493e+01,\n",
       "         -9.37927008e-01, -5.57178378e-01,  6.45203972e+00,\n",
       "          7.86909342e+00, -7.74837208e+00,  1.14642870e+00,\n",
       "         -2.82334399e+00,  4.09147549e+00],\n",
       "        [-4.20480408e-02,  1.74184695e-01,  3.27862710e-01,\n",
       "          6.59214735e-01, -3.43397349e-01, -2.58203149e-01,\n",
       "         -2.75152981e-01,  1.79219529e-01,  1.22434454e+01,\n",
       "          2.93977171e-01,  3.14766556e-01, -2.01552010e+01,\n",
       "          1.21680994e+01, -3.15534854e+00,  2.29521618e+01,\n",
       "          4.82415247e+00,  6.95007420e+00],\n",
       "        [-2.57350877e-03,  2.00059026e-01, -5.07384419e-01,\n",
       "         -7.74513036e-02, -4.08881366e-01,  4.86752778e-01,\n",
       "          1.11471541e-01,  3.38778138e-01,  1.14216452e+01,\n",
       "          6.52956188e-01,  2.58164555e-01, -8.81469536e+00,\n",
       "         -2.65630913e+01,  1.11321068e+00,  7.51842976e+00,\n",
       "          1.42493067e+01,  3.29718757e+00],\n",
       "        [-2.11387128e-02,  1.14995167e-01, -5.43221891e-01,\n",
       "         -8.63793850e-01, -3.56605887e-01,  7.28644311e-01,\n",
       "          6.96478069e-01,  2.83975273e-01,  1.20241642e+01,\n",
       "         -4.02982771e-01, -3.18681431e+00,  4.21925664e-01,\n",
       "          1.29122126e+00, -6.77427530e-01, -6.35737956e-01,\n",
       "          1.03299408e+01, -2.31047964e+00],\n",
       "        [-1.46356877e-02, -5.23264557e-02, -2.13642746e-01,\n",
       "         -3.51504982e-01, -4.25887406e-01,  6.90813482e-01,\n",
       "          2.83756137e-01, -2.52221767e-02,  1.26278496e+01,\n",
       "          1.51202753e-01, -3.60275745e+00,  1.10170774e+01,\n",
       "          1.25561743e+01,  6.50128245e-01, -1.55583060e+00,\n",
       "         -1.59644585e+01, -7.80358362e+00],\n",
       "        [ 1.04676718e-02, -1.18361048e-01,  4.73092347e-01,\n",
       "         -4.46237959e-02,  1.70298945e-02, -2.12853730e-01,\n",
       "         -1.55686781e-01,  2.22848095e-02,  1.15415764e+01,\n",
       "          1.42761022e-01,  8.97560060e-01,  1.28637772e+01,\n",
       "          2.18040752e+00,  1.19028339e+01, -2.55083847e+01,\n",
       "         -5.07213688e+00,  4.98346901e+00],\n",
       "        [-3.01598813e-02, -4.50472496e-02,  1.00028086e+00,\n",
       "         -1.41384318e-01,  4.43868451e-02, -1.15703630e+00,\n",
       "         -8.48052278e-02,  9.05233994e-02,  1.27815285e+01,\n",
       "         -5.75202107e-01, -4.79401529e-01,  1.00408850e+01,\n",
       "         -1.83406460e+00, -4.70451832e+00,  2.06283116e+00,\n",
       "         -2.54981422e+00, -2.57113218e+00],\n",
       "        [ 2.58731749e-03,  5.47847757e-03,  3.98585826e-01,\n",
       "          2.03650758e-01, -2.82533169e-01, -4.61988598e-01,\n",
       "         -1.92678541e-01,  1.14296295e-01,  1.17959347e+01,\n",
       "          7.88137376e-01,  1.66071701e+00, -2.06671638e+01,\n",
       "          6.06423330e+00, -6.38053226e+00,  1.84261436e+01,\n",
       "          1.13133037e+00,  2.59630132e+00]]])"
      ]
     },
     "execution_count": 102,
     "metadata": {},
     "output_type": "execute_result"
    }
   ],
   "source": [
    "np.concatenate([np.zeros((1, max_len - tlen, state_dim)), s[-1]], axis=1)"
   ]
  },
  {
   "cell_type": "code",
   "execution_count": 104,
   "id": "8549f0db-c3a9-4d8c-bfdd-8019482d9936",
   "metadata": {},
   "outputs": [
    {
     "data": {
      "text/plain": [
       "0.01"
      ]
     },
     "execution_count": 104,
     "metadata": {},
     "output_type": "execute_result"
    }
   ],
   "source": [
    "1e-2"
   ]
  },
  {
   "cell_type": "code",
   "execution_count": null,
   "id": "f747bac2-9ce0-489e-8450-b3693a71bc4e",
   "metadata": {},
   "outputs": [],
   "source": []
  }
 ],
 "metadata": {
  "kernelspec": {
   "display_name": "Python 3 (ipykernel)",
   "language": "python",
   "name": "python3"
  },
  "language_info": {
   "codemirror_mode": {
    "name": "ipython",
    "version": 3
   },
   "file_extension": ".py",
   "mimetype": "text/x-python",
   "name": "python",
   "nbconvert_exporter": "python",
   "pygments_lexer": "ipython3",
   "version": "3.9.12"
  }
 },
 "nbformat": 4,
 "nbformat_minor": 5
}
