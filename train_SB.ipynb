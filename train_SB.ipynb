{
 "cells": [
  {
   "cell_type": "code",
   "execution_count": 1,
   "id": "9a8d76f0-0c20-41e3-9343-c6b88a473d49",
   "metadata": {
    "tags": []
   },
   "outputs": [],
   "source": [
    "# System operations\n",
    "import inspect\n",
    "import os\n",
    "import uuid\n",
    "\n",
    "# Date and time\n",
    "from datetime import datetime\n",
    "\n",
    "# type hinting\n",
    "from typing import List, Mapping, Tuple\n",
    "\n",
    "# Data visualization\n",
    "import matplotlib.colors as mcolors\n",
    "import matplotlib.pyplot as plt\n",
    "import matplotlib.ticker as ticker\n",
    "import seaborn as sns\n",
    "\n",
    "# User interaction\n",
    "from IPython.display import clear_output\n",
    "from ipywidgets import Button, FloatSlider, HBox, HTML\n",
    "from ipywidgets import IntProgress, Text, VBox\n",
    "\n",
    "# Data manipulation\n",
    "from bs4 import BeautifulSoup\n",
    "import math\n",
    "import numpy as np\n",
    "import pandas as pd\n",
    "import random\n",
    "import re\n",
    "import requests\n",
    "import simplejson as json\n",
    "\n",
    "# CityLearn\n",
    "from citylearn.agents.rbc import HourRBC\n",
    "from citylearn.agents.q_learning import TabularQLearning\n",
    "from citylearn.citylearn import CityLearnEnv\n",
    "from citylearn.data import DataSet\n",
    "from citylearn.reward_function import RewardFunction\n",
    "from citylearn.wrappers import NormalizedObservationWrapper\n",
    "from citylearn.wrappers import StableBaselines3Wrapper\n",
    "from citylearn.wrappers import TabularQLearningWrapper\n",
    "\n",
    "# baseline RL algorithms\n",
    "from stable_baselines3 import SAC\n",
    "from stable_baselines3.common.callbacks import BaseCallback\n",
    "from rewards.user_reward import SubmissionReward\n",
    "from utils.plot import *"
   ]
  },
  {
   "cell_type": "code",
   "execution_count": 2,
   "id": "fc4e7df4-ed31-461f-a14d-c053ba2f85ae",
   "metadata": {},
   "outputs": [],
   "source": [
    "class Config:\n",
    "    data_dir = './data/'\n",
    "    SCHEMA = os.path.join(data_dir, 'schemas/warm_up/schema.json')\n",
    "    num_episodes = 10"
   ]
  },
  {
   "cell_type": "code",
   "execution_count": 3,
   "id": "07e31918-df9a-4194-849f-6296f24a61dc",
   "metadata": {},
   "outputs": [],
   "source": [
    "config = Config()"
   ]
  },
  {
   "cell_type": "code",
   "execution_count": null,
   "id": "33b80e47-8e26-4657-a063-22ddc23813fe",
   "metadata": {},
   "outputs": [],
   "source": [
    "env = CityLearnEnv(config.SCHEMA, reward_function=SubmissionReward)"
   ]
  },
  {
   "cell_type": "markdown",
   "id": "0a85444e-1912-43a1-b877-912754825e87",
   "metadata": {},
   "source": [
    "## SAC"
   ]
  },
  {
   "cell_type": "code",
   "execution_count": null,
   "id": "6387371e-9a51-4061-b85a-855819ab4439",
   "metadata": {},
   "outputs": [],
   "source": [
    "sac_env = CityLearnEnv(config.SCHEMA, reward_function = SubmissionReward)"
   ]
  },
  {
   "cell_type": "code",
   "execution_count": null,
   "id": "326bc439-f08e-4f6f-a387-6fc033310575",
   "metadata": {},
   "outputs": [],
   "source": [
    "sac_env = NormalizedObservationWrapper(sac_env)"
   ]
  },
  {
   "cell_type": "code",
   "execution_count": null,
   "id": "815fcf76-4886-400a-ae1d-355e514683cf",
   "metadata": {},
   "outputs": [],
   "source": [
    "sac_env = StableBaselines3Wrapper(sac_env)"
   ]
  },
  {
   "cell_type": "code",
   "execution_count": null,
   "id": "8d568124-5018-46ad-ba65-46cb2893fa9d",
   "metadata": {},
   "outputs": [],
   "source": [
    "sac_model = SAC(policy='MlpPolicy', env=sac_env)"
   ]
  },
  {
   "cell_type": "code",
   "execution_count": null,
   "id": "ca85bf71-eaf6-4618-a248-8bf6fedfeacb",
   "metadata": {},
   "outputs": [],
   "source": [
    "class CustomCallback(BaseCallback):\n",
    "    def __init__(self, env: CityLearnEnv, loader: IntProgress):\n",
    "        r\"\"\"Initialize CustomCallback.\n",
    "\n",
    "        Parameters\n",
    "        ----------\n",
    "        env: Mapping[str, CityLearnEnv]\n",
    "            CityLearn environment instance.\n",
    "        loader: IntProgress\n",
    "            Progress bar.\n",
    "        \"\"\"\n",
    "\n",
    "        super().__init__(verbose=0)\n",
    "        self.loader = loader\n",
    "        self.env = env\n",
    "        self.reward_history = [0]\n",
    "\n",
    "    def _on_step(self) -> bool:\n",
    "        r\"\"\"Called each time the env step function is called.\"\"\"\n",
    "\n",
    "        if self.env.time_step == 0:\n",
    "            self.reward_history.append(0)\n",
    "\n",
    "        else:\n",
    "            self.reward_history[-1] += sum(self.env.rewards[-1])\n",
    "\n",
    "        self.loader.value += 1\n",
    "\n",
    "        return True"
   ]
  },
  {
   "cell_type": "code",
   "execution_count": null,
   "id": "6a9ee338-ea5f-4d49-bf91-601b0fd6b4b3",
   "metadata": {},
   "outputs": [],
   "source": [
    "# ----------------- CALCULATE NUMBER OF TRAINING EPISODES -----------------\n",
    "tql_episodes=10\n",
    "fraction = 0.25\n",
    "sac_episodes = int(tql_episodes*fraction)\n",
    "print('Fraction of Tabular Q-Learning episodes used:', fraction)\n",
    "print('Number of episodes to train:', sac_episodes)\n",
    "sac_episode_timesteps = sac_env.time_steps - 1\n",
    "sac_total_timesteps = sac_episodes*sac_episode_timesteps"
   ]
  },
  {
   "cell_type": "code",
   "execution_count": null,
   "id": "6c3eadcd-6ffd-4181-846f-cbe3fd96bb4b",
   "metadata": {},
   "outputs": [],
   "source": [
    "def get_loader(**kwargs):\n",
    "    \"\"\"Returns a progress bar\"\"\"\n",
    "\n",
    "    kwargs = {\n",
    "        'value': 0,\n",
    "        'min': 0,\n",
    "        'max': 10,\n",
    "        'description': 'Simulating:',\n",
    "        'bar_style': '',\n",
    "        'style': {'bar_color': 'maroon'},\n",
    "        'orientation': 'horizontal',\n",
    "        **kwargs\n",
    "    }\n",
    "    return IntProgress(**kwargs)"
   ]
  },
  {
   "cell_type": "code",
   "execution_count": null,
   "id": "f454adc8-445d-4335-ad6b-bf2aa6397250",
   "metadata": {},
   "outputs": [],
   "source": [
    "sac_total_timesteps"
   ]
  },
  {
   "cell_type": "code",
   "execution_count": null,
   "id": "1fc0f0f0-1778-4d36-bcc9-0a8b1e24a35d",
   "metadata": {},
   "outputs": [],
   "source": [
    "\n",
    "# ------------------------------- SET LOADER ------------------------------\n",
    "sac_loader = get_loader(max=sac_total_timesteps)\n",
    "display(sac_loader)\n",
    "\n",
    "# ------------------------------- TRAIN MODEL -----------------------------\n",
    "sac_callback = CustomCallback(env=sac_env, loader=sac_loader)\n",
    "sac_model = sac_model.learn(\n",
    "    total_timesteps=sac_total_timesteps\n",
    ")"
   ]
  },
  {
   "cell_type": "code",
   "execution_count": null,
   "id": "1a492e9f-8a8e-4179-a75b-05606d090244",
   "metadata": {},
   "outputs": [],
   "source": [
    "sac_env.reset()[0].shape"
   ]
  },
  {
   "cell_type": "code",
   "execution_count": null,
   "id": "da04e73d-eaa4-4589-befd-73108417f60b",
   "metadata": {},
   "outputs": [],
   "source": [
    "import gym\n",
    "test_env = gym.make('Pendulum-v1')\n"
   ]
  },
  {
   "cell_type": "code",
   "execution_count": null,
   "id": "5289297e-4099-4eab-935c-455ede4c353c",
   "metadata": {},
   "outputs": [],
   "source": [
    "len(test_env.reset())"
   ]
  },
  {
   "cell_type": "code",
   "execution_count": null,
   "id": "0f4f8199-f4eb-4894-b900-b5847e2957cd",
   "metadata": {},
   "outputs": [],
   "source": [
    "test_env.reset()"
   ]
  },
  {
   "cell_type": "code",
   "execution_count": null,
   "id": "5a5cc6d9-3ed3-4131-8ac3-613b6b0fb0dd",
   "metadata": {},
   "outputs": [],
   "source": [
    "sac_env.reset()"
   ]
  },
  {
   "cell_type": "code",
   "execution_count": null,
   "id": "771a53b3-988b-45fb-b09a-9cccc26c0e1d",
   "metadata": {},
   "outputs": [],
   "source": [
    "model_p = SAC(\"MlpPolicy\", test_env)"
   ]
  },
  {
   "cell_type": "code",
   "execution_count": null,
   "id": "670144de-8bae-46cb-b212-3931e2c72d87",
   "metadata": {},
   "outputs": [],
   "source": [
    "model_p.learn(total_timesteps=500,log_interval=10)"
   ]
  },
  {
   "cell_type": "code",
   "execution_count": null,
   "id": "c5a7d92e-88c2-4df5-b067-3e62832209a5",
   "metadata": {},
   "outputs": [],
   "source": [
    "sac_env.reset()"
   ]
  },
  {
   "cell_type": "code",
   "execution_count": null,
   "id": "ed8b4a82-479d-442c-8630-15ccc3d2d3d9",
   "metadata": {},
   "outputs": [],
   "source": [
    "sac_model.env.envs[0].reset()"
   ]
  },
  {
   "cell_type": "code",
   "execution_count": null,
   "id": "f0d7a929-fa5c-4973-af04-15f0c594727b",
   "metadata": {},
   "outputs": [],
   "source": [
    "sac_env"
   ]
  },
  {
   "cell_type": "code",
   "execution_count": null,
   "id": "a95a6166-8c0c-45ec-b232-dba3fe3fb79e",
   "metadata": {},
   "outputs": [],
   "source": [
    "test_env.reset()"
   ]
  },
  {
   "cell_type": "code",
   "execution_count": null,
   "id": "d3f4f5d5-350f-415c-ae47-9a00d0dd8b00",
   "metadata": {},
   "outputs": [],
   "source": [
    "model_p.env.envs[0].reset()"
   ]
  },
  {
   "cell_type": "code",
   "execution_count": null,
   "id": "3c2e1cbc-91eb-4c72-9630-a1ea158d006f",
   "metadata": {},
   "outputs": [],
   "source": [
    "env.reset()"
   ]
  },
  {
   "cell_type": "code",
   "execution_count": null,
   "id": "38e65d52-be63-48b8-9ad6-ac121c2eb26e",
   "metadata": {},
   "outputs": [],
   "source": []
  }
 ],
 "metadata": {
  "kernelspec": {
   "display_name": "Python 3 (ipykernel)",
   "language": "python",
   "name": "python3"
  },
  "language_info": {
   "codemirror_mode": {
    "name": "ipython",
    "version": 3
   },
   "file_extension": ".py",
   "mimetype": "text/x-python",
   "name": "python",
   "nbconvert_exporter": "python",
   "pygments_lexer": "ipython3",
   "version": "3.9.12"
  }
 },
 "nbformat": 4,
 "nbformat_minor": 5
}
