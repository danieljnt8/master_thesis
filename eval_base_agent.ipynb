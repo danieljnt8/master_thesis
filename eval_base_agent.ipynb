{
 "cells": [
  {
   "cell_type": "code",
   "execution_count": 5,
   "id": "025c6826-475b-4d0e-afe9-c42ecffc550f",
   "metadata": {},
   "outputs": [
    {
     "name": "stderr",
     "output_type": "stream",
     "text": [
      "Warning: Gym version v0.24.0 has a number of critical issues with `gym.make` such that the `reset` and `step` functions are called before returning the environment. It is recommend to downgrading to v0.23.1 or upgrading to v0.25.1\n",
      "/home/ml-stud15/anaconda3/envs/stable_env/lib/python3.9/site-packages/citylearn/citylearn.py:31: DeprecationWarning: private variables, such as '_EvaluationCondition__DEFAULT', will be normal attributes in 3.10\n",
      "  __DEFAULT = ''\n",
      "/home/ml-stud15/anaconda3/envs/stable_env/lib/python3.9/site-packages/citylearn/citylearn.py:32: DeprecationWarning: private variables, such as '_EvaluationCondition__STORAGE_SUFFIX', will be normal attributes in 3.10\n",
      "  __STORAGE_SUFFIX = '_without_storage'\n",
      "/home/ml-stud15/anaconda3/envs/stable_env/lib/python3.9/site-packages/citylearn/citylearn.py:33: DeprecationWarning: private variables, such as '_EvaluationCondition__PARTIAL_LOAD_SUFFIX', will be normal attributes in 3.10\n",
      "  __PARTIAL_LOAD_SUFFIX = '_and_partial_load'\n",
      "/home/ml-stud15/anaconda3/envs/stable_env/lib/python3.9/site-packages/citylearn/citylearn.py:34: DeprecationWarning: private variables, such as '_EvaluationCondition__PV_SUFFIX', will be normal attributes in 3.10\n",
      "  __PV_SUFFIX = '_and_pv'\n"
     ]
    }
   ],
   "source": [
    "from typing import Any, List, Mapping, Tuple, Union\n",
    "\n",
    "from agents.rbc import RBCAgent1 as Agent\n",
    "from citylearn.citylearn import CityLearnEnv"
   ]
  },
  {
   "cell_type": "code",
   "execution_count": 19,
   "id": "81f9f661-64f6-453d-8cc6-372502d62527",
   "metadata": {},
   "outputs": [],
   "source": [
    "class RewardFunctionV1:\n",
    "    r\"\"\"Base and default reward function class.\n",
    "\n",
    "    The default reward is the electricity consumption from the grid at the current time step returned as a negative value.\n",
    "\n",
    "    Parameters\n",
    "    ----------\n",
    "    env_metadata: Mapping[str, Any]:\n",
    "        General static information about the environment.\n",
    "    **kwargs : dict\n",
    "        Other keyword arguments for custom reward calculation.\n",
    "    \"\"\"\n",
    "    \n",
    "    def __init__(self, env_metadata: Mapping[str, Any], exponent: float = None, **kwargs):\n",
    "        self.env_metadata = env_metadata\n",
    "        self.exponent = exponent\n",
    "\n",
    "    @property\n",
    "    def env_metadata(self) -> Mapping[str, Any]:\n",
    "        \"\"\"General static information about the environment.\"\"\"\n",
    "\n",
    "        return self.__env_metadata\n",
    "    \n",
    "    @property\n",
    "    def central_agent(self) -> bool:\n",
    "        \"\"\"Expect 1 central agent to control all buildings.\"\"\"\n",
    "\n",
    "        return self.env_metadata['central_agent']\n",
    "    \n",
    "    @property\n",
    "    def exponent(self) -> float:\n",
    "        return self.__exponent\n",
    "    \n",
    "    @env_metadata.setter\n",
    "    def env_metadata(self, env_metadata: Mapping[str, Any]):\n",
    "        self.__env_metadata = env_metadata\n",
    "\n",
    "    @exponent.setter\n",
    "    def exponent(self, exponent: float):\n",
    "        self.__exponent = 1.0 if exponent is None else exponent\n",
    "\n",
    "    def reset(self):\n",
    "        \"\"\"Use to reset variables at the start of an episode.\"\"\"\n",
    "\n",
    "        pass\n",
    "\n",
    "    def calculate(self, observations: List[Mapping[str, Union[int, float]]]) -> List[float]:\n",
    "        r\"\"\"Calculates reward.\n",
    "\n",
    "        Parameters\n",
    "        ----------\n",
    "        observations: List[Mapping[str, Union[int, float]]]\n",
    "            List of all building observations at current :py:attr:`citylearn.citylearn.CityLearnEnv.\n",
    "            time_step` that are got from calling :py:meth:`citylearn.building.Building.observations`.\n",
    "\n",
    "        Returns\n",
    "        -------\n",
    "        reward: List[float]\n",
    "            Reward for transition to current timestep.\n",
    "        \"\"\"\n",
    "        print(observations)\n",
    "\n",
    "        net_electricity_consumption = [o['net_electricity_consumption'] for o in observations]\n",
    "        reward_list = [-(max(o, 0)**self.exponent) for o in net_electricity_consumption]\n",
    "\n",
    "        if self.central_agent:\n",
    "            reward = [sum(reward_list)]\n",
    "        else:\n",
    "            reward = reward_list\n",
    "\n",
    "        return reward\n"
   ]
  },
  {
   "cell_type": "code",
   "execution_count": 20,
   "id": "b85150f8-a05d-40ee-86ab-3bbe6c42f893",
   "metadata": {},
   "outputs": [],
   "source": [
    "def action_space_to_dict(aspace):\n",
    "    \"\"\" Only for box space \"\"\"\n",
    "    return {\"high\": aspace.high,\n",
    "            \"low\": aspace.low,\n",
    "            \"shape\": aspace.shape,\n",
    "            \"dtype\": str(aspace.dtype)\n",
    "            }\n",
    "\n",
    "\n",
    "def env_reset(env):\n",
    "    observations = env.reset()\n",
    "    action_space = env.action_space\n",
    "    observation_space = env.observation_space\n",
    "    #building_info = env.buildings()\n",
    "    #building_info = list(building_info.values())\n",
    "    action_space_dicts = [action_space_to_dict(asp) for asp in action_space]\n",
    "    observation_space_dicts = [action_space_to_dict(osp) for osp in observation_space]\n",
    "    obs_dict = {\"action_space\": action_space_dicts,\n",
    "                \"observation_space\": observation_space_dicts,\n",
    "                #\"building_info\": building_info,\n",
    "                \"observation\": observations}\n",
    "    return obs_dict"
   ]
  },
  {
   "cell_type": "code",
   "execution_count": 21,
   "id": "61d4ecb4-b559-4d45-8cea-60ec6b0d1054",
   "metadata": {},
   "outputs": [],
   "source": [
    "env= CityLearnEnv(\"citylearn_challenge_2022_phase_all\",reward_function = RewardFunctionV1)\n",
    "env.central_agent = False\n",
    "agent= Agent()"
   ]
  },
  {
   "cell_type": "code",
   "execution_count": 22,
   "id": "5e1c0d2c-2900-483a-9051-dbbd6e7947f4",
   "metadata": {},
   "outputs": [],
   "source": [
    "obs_dict = env_reset(env)\n"
   ]
  },
  {
   "cell_type": "code",
   "execution_count": 23,
   "id": "0b0a735b-545f-4f8e-b7b9-5bbb7a8d8132",
   "metadata": {},
   "outputs": [],
   "source": [
    "actions=agent.register_reset(obs_dict)"
   ]
  },
  {
   "cell_type": "code",
   "execution_count": 24,
   "id": "b34105d7-fb6b-4722-98d6-e1cd1934be92",
   "metadata": {},
   "outputs": [
    {
     "name": "stdout",
     "output_type": "stream",
     "text": [
      "[array([-0.]), array([-0.]), array([-0.]), array([-0.]), array([-0.]), array([-0.]), array([-0.]), array([-0.]), array([-0.]), array([-0.]), array([-0.]), array([-0.]), array([-0.]), array([-0.]), array([-0.]), array([-0.]), array([-0.])]\n"
     ]
    }
   ],
   "source": [
    "print(actions)"
   ]
  },
  {
   "cell_type": "code",
   "execution_count": 25,
   "id": "82ebe58c-07b7-454e-a21e-ecec2451a552",
   "metadata": {},
   "outputs": [
    {
     "name": "stdout",
     "output_type": "stream",
     "text": [
      "[{'month': 8, 'hour': 1, 'day_type': 1, 'daylight_savings_status': 0, 'indoor_dry_bulb_temperature': nan, 'average_unmet_cooling_setpoint_difference': nan, 'indoor_relative_humidity': nan, 'non_shiftable_load': 0.85116667, 'dhw_demand': 0.0, 'cooling_demand': 0.0, 'heating_demand': 0.0, 'solar_generation': 0.0, 'occupant_count': 0.0, 'indoor_dry_bulb_temperature_set_point': 0.0, 'power_outage': 0.0, 'indoor_dry_bulb_temperature_without_control': nan, 'cooling_demand_without_control': 0.0, 'heating_demand_without_control': 0.0, 'dhw_demand_without_control': 0.0, 'non_shiftable_load_without_control': 0.85116667, 'indoor_relative_humidity_without_control': nan, 'indoor_dry_bulb_temperature_set_point_without_control': 0.0, 'hvac_mode': 1.0, 'outdoor_dry_bulb_temperature': 20.1, 'outdoor_relative_humidity': 79.0, 'diffuse_solar_irradiance': 0.0, 'direct_solar_irradiance': 0.0, 'outdoor_dry_bulb_temperature_predicted_6h': 19.4, 'outdoor_dry_bulb_temperature_predicted_12h': 22.8, 'outdoor_dry_bulb_temperature_predicted_24h': 19.4, 'outdoor_relative_humidity_predicted_6h': 79.0, 'outdoor_relative_humidity_predicted_12h': 71.0, 'outdoor_relative_humidity_predicted_24h': 87.0, 'diffuse_solar_irradiance_predicted_6h': 201.0, 'diffuse_solar_irradiance_predicted_12h': 966.0, 'diffuse_solar_irradiance_predicted_24h': 0.0, 'direct_solar_irradiance_predicted_6h': 444.0, 'direct_solar_irradiance_predicted_12h': 747.0, 'direct_solar_irradiance_predicted_24h': 0.0, 'electricity_pricing': 0.22, 'electricity_pricing_predicted_6h': 0.22, 'electricity_pricing_predicted_12h': 0.22, 'electricity_pricing_predicted_24h': 0.22, 'carbon_intensity': 0.15731905, 'cooling_storage_soc': 0.0, 'heating_storage_soc': 0.0, 'dhw_storage_soc': 0.0, 'electrical_storage_soc': 0.0, 'net_electricity_consumption': 0.85116667, 'cooling_electricity_consumption': 0.0, 'heating_electricity_consumption': 0.0, 'dhw_electricity_consumption': 0.0, 'cooling_storage_electricity_consumption': 0.0, 'heating_storage_electricity_consumption': 0.0, 'dhw_storage_electricity_consumption': 0.0, 'electrical_storage_electricity_consumption': 0.0, 'cooling_device_cop': array(4.64710729), 'heating_device_cop': array(2.55542173), 'indoor_dry_bulb_temperature_delta': nan}, {'month': 8, 'hour': 1, 'day_type': 1, 'daylight_savings_status': 0, 'indoor_dry_bulb_temperature': nan, 'average_unmet_cooling_setpoint_difference': nan, 'indoor_relative_humidity': nan, 'non_shiftable_load': 1.3706666, 'dhw_demand': 0.0, 'cooling_demand': 0.0, 'heating_demand': 0.0, 'solar_generation': 0.0, 'occupant_count': 0.0, 'indoor_dry_bulb_temperature_set_point': 0.0, 'power_outage': 0.0, 'indoor_dry_bulb_temperature_without_control': nan, 'cooling_demand_without_control': 0.0, 'heating_demand_without_control': 0.0, 'dhw_demand_without_control': 0.0, 'non_shiftable_load_without_control': 1.3706666, 'indoor_relative_humidity_without_control': nan, 'indoor_dry_bulb_temperature_set_point_without_control': 0.0, 'hvac_mode': 1.0, 'outdoor_dry_bulb_temperature': 20.1, 'outdoor_relative_humidity': 79.0, 'diffuse_solar_irradiance': 0.0, 'direct_solar_irradiance': 0.0, 'outdoor_dry_bulb_temperature_predicted_6h': 19.4, 'outdoor_dry_bulb_temperature_predicted_12h': 22.8, 'outdoor_dry_bulb_temperature_predicted_24h': 19.4, 'outdoor_relative_humidity_predicted_6h': 79.0, 'outdoor_relative_humidity_predicted_12h': 71.0, 'outdoor_relative_humidity_predicted_24h': 87.0, 'diffuse_solar_irradiance_predicted_6h': 201.0, 'diffuse_solar_irradiance_predicted_12h': 966.0, 'diffuse_solar_irradiance_predicted_24h': 0.0, 'direct_solar_irradiance_predicted_6h': 444.0, 'direct_solar_irradiance_predicted_12h': 747.0, 'direct_solar_irradiance_predicted_24h': 0.0, 'electricity_pricing': 0.22, 'electricity_pricing_predicted_6h': 0.22, 'electricity_pricing_predicted_12h': 0.22, 'electricity_pricing_predicted_24h': 0.22, 'carbon_intensity': 0.15731905, 'cooling_storage_soc': 0.0, 'heating_storage_soc': 0.0, 'dhw_storage_soc': 0.0, 'electrical_storage_soc': 0.0, 'net_electricity_consumption': 1.3706666, 'cooling_electricity_consumption': 0.0, 'heating_electricity_consumption': 0.0, 'dhw_electricity_consumption': 0.0, 'cooling_storage_electricity_consumption': 0.0, 'heating_storage_electricity_consumption': 0.0, 'dhw_storage_electricity_consumption': 0.0, 'electrical_storage_electricity_consumption': 0.0, 'cooling_device_cop': array(4.64710729), 'heating_device_cop': array(2.55542173), 'indoor_dry_bulb_temperature_delta': nan}, {'month': 8, 'hour': 1, 'day_type': 1, 'daylight_savings_status': 0, 'indoor_dry_bulb_temperature': nan, 'average_unmet_cooling_setpoint_difference': nan, 'indoor_relative_humidity': nan, 'non_shiftable_load': 1.01852415e-07, 'dhw_demand': 0.0, 'cooling_demand': 0.0, 'heating_demand': 0.0, 'solar_generation': 0.0, 'occupant_count': 0.0, 'indoor_dry_bulb_temperature_set_point': 0.0, 'power_outage': 0.0, 'indoor_dry_bulb_temperature_without_control': nan, 'cooling_demand_without_control': 0.0, 'heating_demand_without_control': 0.0, 'dhw_demand_without_control': 0.0, 'non_shiftable_load_without_control': 1.01852415e-07, 'indoor_relative_humidity_without_control': nan, 'indoor_dry_bulb_temperature_set_point_without_control': 0.0, 'hvac_mode': 1.0, 'outdoor_dry_bulb_temperature': 20.1, 'outdoor_relative_humidity': 79.0, 'diffuse_solar_irradiance': 0.0, 'direct_solar_irradiance': 0.0, 'outdoor_dry_bulb_temperature_predicted_6h': 19.4, 'outdoor_dry_bulb_temperature_predicted_12h': 22.8, 'outdoor_dry_bulb_temperature_predicted_24h': 19.4, 'outdoor_relative_humidity_predicted_6h': 79.0, 'outdoor_relative_humidity_predicted_12h': 71.0, 'outdoor_relative_humidity_predicted_24h': 87.0, 'diffuse_solar_irradiance_predicted_6h': 201.0, 'diffuse_solar_irradiance_predicted_12h': 966.0, 'diffuse_solar_irradiance_predicted_24h': 0.0, 'direct_solar_irradiance_predicted_6h': 444.0, 'direct_solar_irradiance_predicted_12h': 747.0, 'direct_solar_irradiance_predicted_24h': 0.0, 'electricity_pricing': 0.22, 'electricity_pricing_predicted_6h': 0.22, 'electricity_pricing_predicted_12h': 0.22, 'electricity_pricing_predicted_24h': 0.22, 'carbon_intensity': 0.15731905, 'cooling_storage_soc': 0.0, 'heating_storage_soc': 0.0, 'dhw_storage_soc': 0.0, 'electrical_storage_soc': 0.0, 'net_electricity_consumption': 1.01852415e-07, 'cooling_electricity_consumption': 0.0, 'heating_electricity_consumption': 0.0, 'dhw_electricity_consumption': 0.0, 'cooling_storage_electricity_consumption': 0.0, 'heating_storage_electricity_consumption': 0.0, 'dhw_storage_electricity_consumption': 0.0, 'electrical_storage_electricity_consumption': 0.0, 'cooling_device_cop': array(4.64710729), 'heating_device_cop': array(2.55542173), 'indoor_dry_bulb_temperature_delta': nan}, {'month': 8, 'hour': 1, 'day_type': 1, 'daylight_savings_status': 0, 'indoor_dry_bulb_temperature': nan, 'average_unmet_cooling_setpoint_difference': nan, 'indoor_relative_humidity': nan, 'non_shiftable_load': 1.9281666, 'dhw_demand': 0.0, 'cooling_demand': 0.0, 'heating_demand': 0.0, 'solar_generation': 0.0, 'occupant_count': 0.0, 'indoor_dry_bulb_temperature_set_point': 0.0, 'power_outage': 0.0, 'indoor_dry_bulb_temperature_without_control': nan, 'cooling_demand_without_control': 0.0, 'heating_demand_without_control': 0.0, 'dhw_demand_without_control': 0.0, 'non_shiftable_load_without_control': 1.9281666, 'indoor_relative_humidity_without_control': nan, 'indoor_dry_bulb_temperature_set_point_without_control': 0.0, 'hvac_mode': 1.0, 'outdoor_dry_bulb_temperature': 20.1, 'outdoor_relative_humidity': 79.0, 'diffuse_solar_irradiance': 0.0, 'direct_solar_irradiance': 0.0, 'outdoor_dry_bulb_temperature_predicted_6h': 19.4, 'outdoor_dry_bulb_temperature_predicted_12h': 22.8, 'outdoor_dry_bulb_temperature_predicted_24h': 19.4, 'outdoor_relative_humidity_predicted_6h': 79.0, 'outdoor_relative_humidity_predicted_12h': 71.0, 'outdoor_relative_humidity_predicted_24h': 87.0, 'diffuse_solar_irradiance_predicted_6h': 201.0, 'diffuse_solar_irradiance_predicted_12h': 966.0, 'diffuse_solar_irradiance_predicted_24h': 0.0, 'direct_solar_irradiance_predicted_6h': 444.0, 'direct_solar_irradiance_predicted_12h': 747.0, 'direct_solar_irradiance_predicted_24h': 0.0, 'electricity_pricing': 0.22, 'electricity_pricing_predicted_6h': 0.22, 'electricity_pricing_predicted_12h': 0.22, 'electricity_pricing_predicted_24h': 0.22, 'carbon_intensity': 0.15731905, 'cooling_storage_soc': 0.0, 'heating_storage_soc': 0.0, 'dhw_storage_soc': 0.0, 'electrical_storage_soc': 0.0, 'net_electricity_consumption': 1.9281666, 'cooling_electricity_consumption': 0.0, 'heating_electricity_consumption': 0.0, 'dhw_electricity_consumption': 0.0, 'cooling_storage_electricity_consumption': 0.0, 'heating_storage_electricity_consumption': 0.0, 'dhw_storage_electricity_consumption': 0.0, 'electrical_storage_electricity_consumption': 0.0, 'cooling_device_cop': array(4.64710729), 'heating_device_cop': array(2.55542173), 'indoor_dry_bulb_temperature_delta': nan}, {'month': 8, 'hour': 1, 'day_type': 1, 'daylight_savings_status': 0, 'indoor_dry_bulb_temperature': nan, 'average_unmet_cooling_setpoint_difference': nan, 'indoor_relative_humidity': nan, 'non_shiftable_load': 0.5158833, 'dhw_demand': 0.0, 'cooling_demand': 0.0, 'heating_demand': 0.0, 'solar_generation': 0.0, 'occupant_count': 0.0, 'indoor_dry_bulb_temperature_set_point': 0.0, 'power_outage': 0.0, 'indoor_dry_bulb_temperature_without_control': nan, 'cooling_demand_without_control': 0.0, 'heating_demand_without_control': 0.0, 'dhw_demand_without_control': 0.0, 'non_shiftable_load_without_control': 0.5158833, 'indoor_relative_humidity_without_control': nan, 'indoor_dry_bulb_temperature_set_point_without_control': 0.0, 'hvac_mode': 1.0, 'outdoor_dry_bulb_temperature': 20.1, 'outdoor_relative_humidity': 79.0, 'diffuse_solar_irradiance': 0.0, 'direct_solar_irradiance': 0.0, 'outdoor_dry_bulb_temperature_predicted_6h': 19.4, 'outdoor_dry_bulb_temperature_predicted_12h': 22.8, 'outdoor_dry_bulb_temperature_predicted_24h': 19.4, 'outdoor_relative_humidity_predicted_6h': 79.0, 'outdoor_relative_humidity_predicted_12h': 71.0, 'outdoor_relative_humidity_predicted_24h': 87.0, 'diffuse_solar_irradiance_predicted_6h': 201.0, 'diffuse_solar_irradiance_predicted_12h': 966.0, 'diffuse_solar_irradiance_predicted_24h': 0.0, 'direct_solar_irradiance_predicted_6h': 444.0, 'direct_solar_irradiance_predicted_12h': 747.0, 'direct_solar_irradiance_predicted_24h': 0.0, 'electricity_pricing': 0.22, 'electricity_pricing_predicted_6h': 0.22, 'electricity_pricing_predicted_12h': 0.22, 'electricity_pricing_predicted_24h': 0.22, 'carbon_intensity': 0.15731905, 'cooling_storage_soc': 0.0, 'heating_storage_soc': 0.0, 'dhw_storage_soc': 0.0, 'electrical_storage_soc': 0.0, 'net_electricity_consumption': 0.5158833, 'cooling_electricity_consumption': 0.0, 'heating_electricity_consumption': 0.0, 'dhw_electricity_consumption': 0.0, 'cooling_storage_electricity_consumption': 0.0, 'heating_storage_electricity_consumption': 0.0, 'dhw_storage_electricity_consumption': 0.0, 'electrical_storage_electricity_consumption': 0.0, 'cooling_device_cop': array(4.64710729), 'heating_device_cop': array(2.55542173), 'indoor_dry_bulb_temperature_delta': nan}, {'month': 8, 'hour': 1, 'day_type': 1, 'daylight_savings_status': 0, 'indoor_dry_bulb_temperature': nan, 'average_unmet_cooling_setpoint_difference': nan, 'indoor_relative_humidity': nan, 'non_shiftable_load': 1.18535, 'dhw_demand': 0.0, 'cooling_demand': 0.0, 'heating_demand': 0.0, 'solar_generation': 0.0, 'occupant_count': 0.0, 'indoor_dry_bulb_temperature_set_point': 0.0, 'power_outage': 0.0, 'indoor_dry_bulb_temperature_without_control': nan, 'cooling_demand_without_control': 0.0, 'heating_demand_without_control': 0.0, 'dhw_demand_without_control': 0.0, 'non_shiftable_load_without_control': 1.18535, 'indoor_relative_humidity_without_control': nan, 'indoor_dry_bulb_temperature_set_point_without_control': 0.0, 'hvac_mode': 1.0, 'outdoor_dry_bulb_temperature': 20.1, 'outdoor_relative_humidity': 79.0, 'diffuse_solar_irradiance': 0.0, 'direct_solar_irradiance': 0.0, 'outdoor_dry_bulb_temperature_predicted_6h': 19.4, 'outdoor_dry_bulb_temperature_predicted_12h': 22.8, 'outdoor_dry_bulb_temperature_predicted_24h': 19.4, 'outdoor_relative_humidity_predicted_6h': 79.0, 'outdoor_relative_humidity_predicted_12h': 71.0, 'outdoor_relative_humidity_predicted_24h': 87.0, 'diffuse_solar_irradiance_predicted_6h': 201.0, 'diffuse_solar_irradiance_predicted_12h': 966.0, 'diffuse_solar_irradiance_predicted_24h': 0.0, 'direct_solar_irradiance_predicted_6h': 444.0, 'direct_solar_irradiance_predicted_12h': 747.0, 'direct_solar_irradiance_predicted_24h': 0.0, 'electricity_pricing': 0.22, 'electricity_pricing_predicted_6h': 0.22, 'electricity_pricing_predicted_12h': 0.22, 'electricity_pricing_predicted_24h': 0.22, 'carbon_intensity': 0.15731905, 'cooling_storage_soc': 0.0, 'heating_storage_soc': 0.0, 'dhw_storage_soc': 0.0, 'electrical_storage_soc': 0.0, 'net_electricity_consumption': 1.18535, 'cooling_electricity_consumption': 0.0, 'heating_electricity_consumption': 0.0, 'dhw_electricity_consumption': 0.0, 'cooling_storage_electricity_consumption': 0.0, 'heating_storage_electricity_consumption': 0.0, 'dhw_storage_electricity_consumption': 0.0, 'electrical_storage_electricity_consumption': 0.0, 'cooling_device_cop': array(4.64710729), 'heating_device_cop': array(2.55542173), 'indoor_dry_bulb_temperature_delta': nan}, {'month': 8, 'hour': 1, 'day_type': 1, 'daylight_savings_status': 0, 'indoor_dry_bulb_temperature': nan, 'average_unmet_cooling_setpoint_difference': nan, 'indoor_relative_humidity': nan, 'non_shiftable_load': 0.89175, 'dhw_demand': 0.0, 'cooling_demand': 0.0, 'heating_demand': 0.0, 'solar_generation': 0.0, 'occupant_count': 0.0, 'indoor_dry_bulb_temperature_set_point': 0.0, 'power_outage': 0.0, 'indoor_dry_bulb_temperature_without_control': nan, 'cooling_demand_without_control': 0.0, 'heating_demand_without_control': 0.0, 'dhw_demand_without_control': 0.0, 'non_shiftable_load_without_control': 0.89175, 'indoor_relative_humidity_without_control': nan, 'indoor_dry_bulb_temperature_set_point_without_control': 0.0, 'hvac_mode': 1.0, 'outdoor_dry_bulb_temperature': 20.1, 'outdoor_relative_humidity': 79.0, 'diffuse_solar_irradiance': 0.0, 'direct_solar_irradiance': 0.0, 'outdoor_dry_bulb_temperature_predicted_6h': 19.4, 'outdoor_dry_bulb_temperature_predicted_12h': 22.8, 'outdoor_dry_bulb_temperature_predicted_24h': 19.4, 'outdoor_relative_humidity_predicted_6h': 79.0, 'outdoor_relative_humidity_predicted_12h': 71.0, 'outdoor_relative_humidity_predicted_24h': 87.0, 'diffuse_solar_irradiance_predicted_6h': 201.0, 'diffuse_solar_irradiance_predicted_12h': 966.0, 'diffuse_solar_irradiance_predicted_24h': 0.0, 'direct_solar_irradiance_predicted_6h': 444.0, 'direct_solar_irradiance_predicted_12h': 747.0, 'direct_solar_irradiance_predicted_24h': 0.0, 'electricity_pricing': 0.22, 'electricity_pricing_predicted_6h': 0.22, 'electricity_pricing_predicted_12h': 0.22, 'electricity_pricing_predicted_24h': 0.22, 'carbon_intensity': 0.15731905, 'cooling_storage_soc': 0.0, 'heating_storage_soc': 0.0, 'dhw_storage_soc': 0.0, 'electrical_storage_soc': 0.0, 'net_electricity_consumption': 0.89175, 'cooling_electricity_consumption': 0.0, 'heating_electricity_consumption': 0.0, 'dhw_electricity_consumption': 0.0, 'cooling_storage_electricity_consumption': 0.0, 'heating_storage_electricity_consumption': 0.0, 'dhw_storage_electricity_consumption': 0.0, 'electrical_storage_electricity_consumption': 0.0, 'cooling_device_cop': array(4.64710729), 'heating_device_cop': array(2.55542173), 'indoor_dry_bulb_temperature_delta': nan}, {'month': 8, 'hour': 1, 'day_type': 1, 'daylight_savings_status': 0, 'indoor_dry_bulb_temperature': nan, 'average_unmet_cooling_setpoint_difference': nan, 'indoor_relative_humidity': nan, 'non_shiftable_load': 9.918213e-08, 'dhw_demand': 0.0, 'cooling_demand': 0.0, 'heating_demand': 0.0, 'solar_generation': 0.0, 'occupant_count': 0.0, 'indoor_dry_bulb_temperature_set_point': 0.0, 'power_outage': 0.0, 'indoor_dry_bulb_temperature_without_control': nan, 'cooling_demand_without_control': 0.0, 'heating_demand_without_control': 0.0, 'dhw_demand_without_control': 0.0, 'non_shiftable_load_without_control': 9.918213e-08, 'indoor_relative_humidity_without_control': nan, 'indoor_dry_bulb_temperature_set_point_without_control': 0.0, 'hvac_mode': 1.0, 'outdoor_dry_bulb_temperature': 20.1, 'outdoor_relative_humidity': 79.0, 'diffuse_solar_irradiance': 0.0, 'direct_solar_irradiance': 0.0, 'outdoor_dry_bulb_temperature_predicted_6h': 19.4, 'outdoor_dry_bulb_temperature_predicted_12h': 22.8, 'outdoor_dry_bulb_temperature_predicted_24h': 19.4, 'outdoor_relative_humidity_predicted_6h': 79.0, 'outdoor_relative_humidity_predicted_12h': 71.0, 'outdoor_relative_humidity_predicted_24h': 87.0, 'diffuse_solar_irradiance_predicted_6h': 201.0, 'diffuse_solar_irradiance_predicted_12h': 966.0, 'diffuse_solar_irradiance_predicted_24h': 0.0, 'direct_solar_irradiance_predicted_6h': 444.0, 'direct_solar_irradiance_predicted_12h': 747.0, 'direct_solar_irradiance_predicted_24h': 0.0, 'electricity_pricing': 0.22, 'electricity_pricing_predicted_6h': 0.22, 'electricity_pricing_predicted_12h': 0.22, 'electricity_pricing_predicted_24h': 0.22, 'carbon_intensity': 0.15731905, 'cooling_storage_soc': 0.0, 'heating_storage_soc': 0.0, 'dhw_storage_soc': 0.0, 'electrical_storage_soc': 0.0, 'net_electricity_consumption': 9.918213e-08, 'cooling_electricity_consumption': 0.0, 'heating_electricity_consumption': 0.0, 'dhw_electricity_consumption': 0.0, 'cooling_storage_electricity_consumption': 0.0, 'heating_storage_electricity_consumption': 0.0, 'dhw_storage_electricity_consumption': 0.0, 'electrical_storage_electricity_consumption': 0.0, 'cooling_device_cop': array(4.64710729), 'heating_device_cop': array(2.55542173), 'indoor_dry_bulb_temperature_delta': nan}, {'month': 8, 'hour': 1, 'day_type': 1, 'daylight_savings_status': 0, 'indoor_dry_bulb_temperature': nan, 'average_unmet_cooling_setpoint_difference': nan, 'indoor_relative_humidity': nan, 'non_shiftable_load': 0.8168667, 'dhw_demand': 0.0, 'cooling_demand': 0.0, 'heating_demand': 0.0, 'solar_generation': 0.0, 'occupant_count': 0.0, 'indoor_dry_bulb_temperature_set_point': 0.0, 'power_outage': 0.0, 'indoor_dry_bulb_temperature_without_control': nan, 'cooling_demand_without_control': 0.0, 'heating_demand_without_control': 0.0, 'dhw_demand_without_control': 0.0, 'non_shiftable_load_without_control': 0.8168667, 'indoor_relative_humidity_without_control': nan, 'indoor_dry_bulb_temperature_set_point_without_control': 0.0, 'hvac_mode': 1.0, 'outdoor_dry_bulb_temperature': 20.1, 'outdoor_relative_humidity': 79.0, 'diffuse_solar_irradiance': 0.0, 'direct_solar_irradiance': 0.0, 'outdoor_dry_bulb_temperature_predicted_6h': 19.4, 'outdoor_dry_bulb_temperature_predicted_12h': 22.8, 'outdoor_dry_bulb_temperature_predicted_24h': 19.4, 'outdoor_relative_humidity_predicted_6h': 79.0, 'outdoor_relative_humidity_predicted_12h': 71.0, 'outdoor_relative_humidity_predicted_24h': 87.0, 'diffuse_solar_irradiance_predicted_6h': 201.0, 'diffuse_solar_irradiance_predicted_12h': 966.0, 'diffuse_solar_irradiance_predicted_24h': 0.0, 'direct_solar_irradiance_predicted_6h': 444.0, 'direct_solar_irradiance_predicted_12h': 747.0, 'direct_solar_irradiance_predicted_24h': 0.0, 'electricity_pricing': 0.22, 'electricity_pricing_predicted_6h': 0.22, 'electricity_pricing_predicted_12h': 0.22, 'electricity_pricing_predicted_24h': 0.22, 'carbon_intensity': 0.15731905, 'cooling_storage_soc': 0.0, 'heating_storage_soc': 0.0, 'dhw_storage_soc': 0.0, 'electrical_storage_soc': 0.0, 'net_electricity_consumption': 0.8168667, 'cooling_electricity_consumption': 0.0, 'heating_electricity_consumption': 0.0, 'dhw_electricity_consumption': 0.0, 'cooling_storage_electricity_consumption': 0.0, 'heating_storage_electricity_consumption': 0.0, 'dhw_storage_electricity_consumption': 0.0, 'electrical_storage_electricity_consumption': 0.0, 'cooling_device_cop': array(4.64710729), 'heating_device_cop': array(2.55542173), 'indoor_dry_bulb_temperature_delta': nan}, {'month': 8, 'hour': 1, 'day_type': 1, 'daylight_savings_status': 0, 'indoor_dry_bulb_temperature': nan, 'average_unmet_cooling_setpoint_difference': nan, 'indoor_relative_humidity': nan, 'non_shiftable_load': 0.5506778, 'dhw_demand': 0.0, 'cooling_demand': 0.0, 'heating_demand': 0.0, 'solar_generation': 0.0, 'occupant_count': 0.0, 'indoor_dry_bulb_temperature_set_point': 0.0, 'power_outage': 0.0, 'indoor_dry_bulb_temperature_without_control': nan, 'cooling_demand_without_control': 0.0, 'heating_demand_without_control': 0.0, 'dhw_demand_without_control': 0.0, 'non_shiftable_load_without_control': 0.5506778, 'indoor_relative_humidity_without_control': nan, 'indoor_dry_bulb_temperature_set_point_without_control': 0.0, 'hvac_mode': 1.0, 'outdoor_dry_bulb_temperature': 20.1, 'outdoor_relative_humidity': 79.0, 'diffuse_solar_irradiance': 0.0, 'direct_solar_irradiance': 0.0, 'outdoor_dry_bulb_temperature_predicted_6h': 19.4, 'outdoor_dry_bulb_temperature_predicted_12h': 22.8, 'outdoor_dry_bulb_temperature_predicted_24h': 19.4, 'outdoor_relative_humidity_predicted_6h': 79.0, 'outdoor_relative_humidity_predicted_12h': 71.0, 'outdoor_relative_humidity_predicted_24h': 87.0, 'diffuse_solar_irradiance_predicted_6h': 201.0, 'diffuse_solar_irradiance_predicted_12h': 966.0, 'diffuse_solar_irradiance_predicted_24h': 0.0, 'direct_solar_irradiance_predicted_6h': 444.0, 'direct_solar_irradiance_predicted_12h': 747.0, 'direct_solar_irradiance_predicted_24h': 0.0, 'electricity_pricing': 0.22, 'electricity_pricing_predicted_6h': 0.22, 'electricity_pricing_predicted_12h': 0.22, 'electricity_pricing_predicted_24h': 0.22, 'carbon_intensity': 0.15731905, 'cooling_storage_soc': 0.0, 'heating_storage_soc': 0.0, 'dhw_storage_soc': 0.0, 'electrical_storage_soc': 0.0, 'net_electricity_consumption': 0.5506778, 'cooling_electricity_consumption': 0.0, 'heating_electricity_consumption': 0.0, 'dhw_electricity_consumption': 0.0, 'cooling_storage_electricity_consumption': 0.0, 'heating_storage_electricity_consumption': 0.0, 'dhw_storage_electricity_consumption': 0.0, 'electrical_storage_electricity_consumption': 0.0, 'cooling_device_cop': array(4.64710729), 'heating_device_cop': array(2.55542173), 'indoor_dry_bulb_temperature_delta': nan}, {'month': 8, 'hour': 1, 'day_type': 1, 'daylight_savings_status': 0, 'indoor_dry_bulb_temperature': nan, 'average_unmet_cooling_setpoint_difference': nan, 'indoor_relative_humidity': nan, 'non_shiftable_load': 0.6907833, 'dhw_demand': 0.0, 'cooling_demand': 0.0, 'heating_demand': 0.0, 'solar_generation': 0.0, 'occupant_count': 0.0, 'indoor_dry_bulb_temperature_set_point': 0.0, 'power_outage': 0.0, 'indoor_dry_bulb_temperature_without_control': nan, 'cooling_demand_without_control': 0.0, 'heating_demand_without_control': 0.0, 'dhw_demand_without_control': 0.0, 'non_shiftable_load_without_control': 0.6907833, 'indoor_relative_humidity_without_control': nan, 'indoor_dry_bulb_temperature_set_point_without_control': 0.0, 'hvac_mode': 1.0, 'outdoor_dry_bulb_temperature': 20.1, 'outdoor_relative_humidity': 79.0, 'diffuse_solar_irradiance': 0.0, 'direct_solar_irradiance': 0.0, 'outdoor_dry_bulb_temperature_predicted_6h': 19.4, 'outdoor_dry_bulb_temperature_predicted_12h': 22.8, 'outdoor_dry_bulb_temperature_predicted_24h': 19.4, 'outdoor_relative_humidity_predicted_6h': 79.0, 'outdoor_relative_humidity_predicted_12h': 71.0, 'outdoor_relative_humidity_predicted_24h': 87.0, 'diffuse_solar_irradiance_predicted_6h': 201.0, 'diffuse_solar_irradiance_predicted_12h': 966.0, 'diffuse_solar_irradiance_predicted_24h': 0.0, 'direct_solar_irradiance_predicted_6h': 444.0, 'direct_solar_irradiance_predicted_12h': 747.0, 'direct_solar_irradiance_predicted_24h': 0.0, 'electricity_pricing': 0.22, 'electricity_pricing_predicted_6h': 0.22, 'electricity_pricing_predicted_12h': 0.22, 'electricity_pricing_predicted_24h': 0.22, 'carbon_intensity': 0.15731905, 'cooling_storage_soc': 0.0, 'heating_storage_soc': 0.0, 'dhw_storage_soc': 0.0, 'electrical_storage_soc': 0.0, 'net_electricity_consumption': 0.6907833, 'cooling_electricity_consumption': 0.0, 'heating_electricity_consumption': 0.0, 'dhw_electricity_consumption': 0.0, 'cooling_storage_electricity_consumption': 0.0, 'heating_storage_electricity_consumption': 0.0, 'dhw_storage_electricity_consumption': 0.0, 'electrical_storage_electricity_consumption': 0.0, 'cooling_device_cop': array(4.64710729), 'heating_device_cop': array(2.55542173), 'indoor_dry_bulb_temperature_delta': nan}, {'month': 8, 'hour': 1, 'day_type': 1, 'daylight_savings_status': 0, 'indoor_dry_bulb_temperature': nan, 'average_unmet_cooling_setpoint_difference': nan, 'indoor_relative_humidity': nan, 'non_shiftable_load': 9.9999994e-08, 'dhw_demand': 0.0, 'cooling_demand': 0.0, 'heating_demand': 0.0, 'solar_generation': 0.0, 'occupant_count': 0.0, 'indoor_dry_bulb_temperature_set_point': 0.0, 'power_outage': 0.0, 'indoor_dry_bulb_temperature_without_control': nan, 'cooling_demand_without_control': 0.0, 'heating_demand_without_control': 0.0, 'dhw_demand_without_control': 0.0, 'non_shiftable_load_without_control': 9.9999994e-08, 'indoor_relative_humidity_without_control': nan, 'indoor_dry_bulb_temperature_set_point_without_control': 0.0, 'hvac_mode': 1.0, 'outdoor_dry_bulb_temperature': 20.1, 'outdoor_relative_humidity': 79.0, 'diffuse_solar_irradiance': 0.0, 'direct_solar_irradiance': 0.0, 'outdoor_dry_bulb_temperature_predicted_6h': 19.4, 'outdoor_dry_bulb_temperature_predicted_12h': 22.8, 'outdoor_dry_bulb_temperature_predicted_24h': 19.4, 'outdoor_relative_humidity_predicted_6h': 79.0, 'outdoor_relative_humidity_predicted_12h': 71.0, 'outdoor_relative_humidity_predicted_24h': 87.0, 'diffuse_solar_irradiance_predicted_6h': 201.0, 'diffuse_solar_irradiance_predicted_12h': 966.0, 'diffuse_solar_irradiance_predicted_24h': 0.0, 'direct_solar_irradiance_predicted_6h': 444.0, 'direct_solar_irradiance_predicted_12h': 747.0, 'direct_solar_irradiance_predicted_24h': 0.0, 'electricity_pricing': 0.22, 'electricity_pricing_predicted_6h': 0.22, 'electricity_pricing_predicted_12h': 0.22, 'electricity_pricing_predicted_24h': 0.22, 'carbon_intensity': 0.15731905, 'cooling_storage_soc': 0.0, 'heating_storage_soc': 0.0, 'dhw_storage_soc': 0.0, 'electrical_storage_soc': 0.0, 'net_electricity_consumption': 9.9999994e-08, 'cooling_electricity_consumption': 0.0, 'heating_electricity_consumption': 0.0, 'dhw_electricity_consumption': 0.0, 'cooling_storage_electricity_consumption': 0.0, 'heating_storage_electricity_consumption': 0.0, 'dhw_storage_electricity_consumption': 0.0, 'electrical_storage_electricity_consumption': 0.0, 'cooling_device_cop': array(4.64710729), 'heating_device_cop': array(2.55542173), 'indoor_dry_bulb_temperature_delta': nan}, {'month': 8, 'hour': 1, 'day_type': 1, 'daylight_savings_status': 0, 'indoor_dry_bulb_temperature': nan, 'average_unmet_cooling_setpoint_difference': nan, 'indoor_relative_humidity': nan, 'non_shiftable_load': 1.40575, 'dhw_demand': 0.0, 'cooling_demand': 0.0, 'heating_demand': 0.0, 'solar_generation': 0.0, 'occupant_count': 0.0, 'indoor_dry_bulb_temperature_set_point': 0.0, 'power_outage': 0.0, 'indoor_dry_bulb_temperature_without_control': nan, 'cooling_demand_without_control': 0.0, 'heating_demand_without_control': 0.0, 'dhw_demand_without_control': 0.0, 'non_shiftable_load_without_control': 1.40575, 'indoor_relative_humidity_without_control': nan, 'indoor_dry_bulb_temperature_set_point_without_control': 0.0, 'hvac_mode': 1.0, 'outdoor_dry_bulb_temperature': 20.1, 'outdoor_relative_humidity': 79.0, 'diffuse_solar_irradiance': 0.0, 'direct_solar_irradiance': 0.0, 'outdoor_dry_bulb_temperature_predicted_6h': 19.4, 'outdoor_dry_bulb_temperature_predicted_12h': 22.8, 'outdoor_dry_bulb_temperature_predicted_24h': 19.4, 'outdoor_relative_humidity_predicted_6h': 79.0, 'outdoor_relative_humidity_predicted_12h': 71.0, 'outdoor_relative_humidity_predicted_24h': 87.0, 'diffuse_solar_irradiance_predicted_6h': 201.0, 'diffuse_solar_irradiance_predicted_12h': 966.0, 'diffuse_solar_irradiance_predicted_24h': 0.0, 'direct_solar_irradiance_predicted_6h': 444.0, 'direct_solar_irradiance_predicted_12h': 747.0, 'direct_solar_irradiance_predicted_24h': 0.0, 'electricity_pricing': 0.22, 'electricity_pricing_predicted_6h': 0.22, 'electricity_pricing_predicted_12h': 0.22, 'electricity_pricing_predicted_24h': 0.22, 'carbon_intensity': 0.15731905, 'cooling_storage_soc': 0.0, 'heating_storage_soc': 0.0, 'dhw_storage_soc': 0.0, 'electrical_storage_soc': 0.0, 'net_electricity_consumption': 1.40575, 'cooling_electricity_consumption': 0.0, 'heating_electricity_consumption': 0.0, 'dhw_electricity_consumption': 0.0, 'cooling_storage_electricity_consumption': 0.0, 'heating_storage_electricity_consumption': 0.0, 'dhw_storage_electricity_consumption': 0.0, 'electrical_storage_electricity_consumption': 0.0, 'cooling_device_cop': array(4.64710729), 'heating_device_cop': array(2.55542173), 'indoor_dry_bulb_temperature_delta': nan}, {'month': 8, 'hour': 1, 'day_type': 1, 'daylight_savings_status': 0, 'indoor_dry_bulb_temperature': nan, 'average_unmet_cooling_setpoint_difference': nan, 'indoor_relative_humidity': nan, 'non_shiftable_load': 0.33286667, 'dhw_demand': 0.0, 'cooling_demand': 0.0, 'heating_demand': 0.0, 'solar_generation': 0.0, 'occupant_count': 0.0, 'indoor_dry_bulb_temperature_set_point': 0.0, 'power_outage': 0.0, 'indoor_dry_bulb_temperature_without_control': nan, 'cooling_demand_without_control': 0.0, 'heating_demand_without_control': 0.0, 'dhw_demand_without_control': 0.0, 'non_shiftable_load_without_control': 0.33286667, 'indoor_relative_humidity_without_control': nan, 'indoor_dry_bulb_temperature_set_point_without_control': 0.0, 'hvac_mode': 1.0, 'outdoor_dry_bulb_temperature': 20.1, 'outdoor_relative_humidity': 79.0, 'diffuse_solar_irradiance': 0.0, 'direct_solar_irradiance': 0.0, 'outdoor_dry_bulb_temperature_predicted_6h': 19.4, 'outdoor_dry_bulb_temperature_predicted_12h': 22.8, 'outdoor_dry_bulb_temperature_predicted_24h': 19.4, 'outdoor_relative_humidity_predicted_6h': 79.0, 'outdoor_relative_humidity_predicted_12h': 71.0, 'outdoor_relative_humidity_predicted_24h': 87.0, 'diffuse_solar_irradiance_predicted_6h': 201.0, 'diffuse_solar_irradiance_predicted_12h': 966.0, 'diffuse_solar_irradiance_predicted_24h': 0.0, 'direct_solar_irradiance_predicted_6h': 444.0, 'direct_solar_irradiance_predicted_12h': 747.0, 'direct_solar_irradiance_predicted_24h': 0.0, 'electricity_pricing': 0.22, 'electricity_pricing_predicted_6h': 0.22, 'electricity_pricing_predicted_12h': 0.22, 'electricity_pricing_predicted_24h': 0.22, 'carbon_intensity': 0.15731905, 'cooling_storage_soc': 0.0, 'heating_storage_soc': 0.0, 'dhw_storage_soc': 0.0, 'electrical_storage_soc': 0.0, 'net_electricity_consumption': 0.33286667, 'cooling_electricity_consumption': 0.0, 'heating_electricity_consumption': 0.0, 'dhw_electricity_consumption': 0.0, 'cooling_storage_electricity_consumption': 0.0, 'heating_storage_electricity_consumption': 0.0, 'dhw_storage_electricity_consumption': 0.0, 'electrical_storage_electricity_consumption': 0.0, 'cooling_device_cop': array(4.64710729), 'heating_device_cop': array(2.55542173), 'indoor_dry_bulb_temperature_delta': nan}, {'month': 8, 'hour': 1, 'day_type': 1, 'daylight_savings_status': 0, 'indoor_dry_bulb_temperature': nan, 'average_unmet_cooling_setpoint_difference': nan, 'indoor_relative_humidity': nan, 'non_shiftable_load': 9.9999994e-08, 'dhw_demand': 0.0, 'cooling_demand': 0.0, 'heating_demand': 0.0, 'solar_generation': 0.0, 'occupant_count': 0.0, 'indoor_dry_bulb_temperature_set_point': 0.0, 'power_outage': 0.0, 'indoor_dry_bulb_temperature_without_control': nan, 'cooling_demand_without_control': 0.0, 'heating_demand_without_control': 0.0, 'dhw_demand_without_control': 0.0, 'non_shiftable_load_without_control': 9.9999994e-08, 'indoor_relative_humidity_without_control': nan, 'indoor_dry_bulb_temperature_set_point_without_control': 0.0, 'hvac_mode': 1.0, 'outdoor_dry_bulb_temperature': 20.1, 'outdoor_relative_humidity': 79.0, 'diffuse_solar_irradiance': 0.0, 'direct_solar_irradiance': 0.0, 'outdoor_dry_bulb_temperature_predicted_6h': 19.4, 'outdoor_dry_bulb_temperature_predicted_12h': 22.8, 'outdoor_dry_bulb_temperature_predicted_24h': 19.4, 'outdoor_relative_humidity_predicted_6h': 79.0, 'outdoor_relative_humidity_predicted_12h': 71.0, 'outdoor_relative_humidity_predicted_24h': 87.0, 'diffuse_solar_irradiance_predicted_6h': 201.0, 'diffuse_solar_irradiance_predicted_12h': 966.0, 'diffuse_solar_irradiance_predicted_24h': 0.0, 'direct_solar_irradiance_predicted_6h': 444.0, 'direct_solar_irradiance_predicted_12h': 747.0, 'direct_solar_irradiance_predicted_24h': 0.0, 'electricity_pricing': 0.22, 'electricity_pricing_predicted_6h': 0.22, 'electricity_pricing_predicted_12h': 0.22, 'electricity_pricing_predicted_24h': 0.22, 'carbon_intensity': 0.15731905, 'cooling_storage_soc': 0.0, 'heating_storage_soc': 0.0, 'dhw_storage_soc': 0.0, 'electrical_storage_soc': 0.0, 'net_electricity_consumption': 9.9999994e-08, 'cooling_electricity_consumption': 0.0, 'heating_electricity_consumption': 0.0, 'dhw_electricity_consumption': 0.0, 'cooling_storage_electricity_consumption': 0.0, 'heating_storage_electricity_consumption': 0.0, 'dhw_storage_electricity_consumption': 0.0, 'electrical_storage_electricity_consumption': 0.0, 'cooling_device_cop': array(4.64710729), 'heating_device_cop': array(2.55542173), 'indoor_dry_bulb_temperature_delta': nan}, {'month': 8, 'hour': 1, 'day_type': 1, 'daylight_savings_status': 0, 'indoor_dry_bulb_temperature': nan, 'average_unmet_cooling_setpoint_difference': nan, 'indoor_relative_humidity': nan, 'non_shiftable_load': 0.8959, 'dhw_demand': 0.0, 'cooling_demand': 0.0, 'heating_demand': 0.0, 'solar_generation': 0.0, 'occupant_count': 0.0, 'indoor_dry_bulb_temperature_set_point': 0.0, 'power_outage': 0.0, 'indoor_dry_bulb_temperature_without_control': nan, 'cooling_demand_without_control': 0.0, 'heating_demand_without_control': 0.0, 'dhw_demand_without_control': 0.0, 'non_shiftable_load_without_control': 0.8959, 'indoor_relative_humidity_without_control': nan, 'indoor_dry_bulb_temperature_set_point_without_control': 0.0, 'hvac_mode': 1.0, 'outdoor_dry_bulb_temperature': 20.1, 'outdoor_relative_humidity': 79.0, 'diffuse_solar_irradiance': 0.0, 'direct_solar_irradiance': 0.0, 'outdoor_dry_bulb_temperature_predicted_6h': 19.4, 'outdoor_dry_bulb_temperature_predicted_12h': 22.8, 'outdoor_dry_bulb_temperature_predicted_24h': 19.4, 'outdoor_relative_humidity_predicted_6h': 79.0, 'outdoor_relative_humidity_predicted_12h': 71.0, 'outdoor_relative_humidity_predicted_24h': 87.0, 'diffuse_solar_irradiance_predicted_6h': 201.0, 'diffuse_solar_irradiance_predicted_12h': 966.0, 'diffuse_solar_irradiance_predicted_24h': 0.0, 'direct_solar_irradiance_predicted_6h': 444.0, 'direct_solar_irradiance_predicted_12h': 747.0, 'direct_solar_irradiance_predicted_24h': 0.0, 'electricity_pricing': 0.22, 'electricity_pricing_predicted_6h': 0.22, 'electricity_pricing_predicted_12h': 0.22, 'electricity_pricing_predicted_24h': 0.22, 'carbon_intensity': 0.15731905, 'cooling_storage_soc': 0.0, 'heating_storage_soc': 0.0, 'dhw_storage_soc': 0.0, 'electrical_storage_soc': 0.0, 'net_electricity_consumption': 0.8959, 'cooling_electricity_consumption': 0.0, 'heating_electricity_consumption': 0.0, 'dhw_electricity_consumption': 0.0, 'cooling_storage_electricity_consumption': 0.0, 'heating_storage_electricity_consumption': 0.0, 'dhw_storage_electricity_consumption': 0.0, 'electrical_storage_electricity_consumption': 0.0, 'cooling_device_cop': array(4.64710729), 'heating_device_cop': array(2.55542173), 'indoor_dry_bulb_temperature_delta': nan}, {'month': 8, 'hour': 1, 'day_type': 1, 'daylight_savings_status': 0, 'indoor_dry_bulb_temperature': nan, 'average_unmet_cooling_setpoint_difference': nan, 'indoor_relative_humidity': nan, 'non_shiftable_load': 0.8362833, 'dhw_demand': 0.0, 'cooling_demand': 0.0, 'heating_demand': 0.0, 'solar_generation': 0.0, 'occupant_count': 0.0, 'indoor_dry_bulb_temperature_set_point': 0.0, 'power_outage': 0.0, 'indoor_dry_bulb_temperature_without_control': nan, 'cooling_demand_without_control': 0.0, 'heating_demand_without_control': 0.0, 'dhw_demand_without_control': 0.0, 'non_shiftable_load_without_control': 0.8362833, 'indoor_relative_humidity_without_control': nan, 'indoor_dry_bulb_temperature_set_point_without_control': 0.0, 'hvac_mode': 1.0, 'outdoor_dry_bulb_temperature': 20.1, 'outdoor_relative_humidity': 79.0, 'diffuse_solar_irradiance': 0.0, 'direct_solar_irradiance': 0.0, 'outdoor_dry_bulb_temperature_predicted_6h': 19.4, 'outdoor_dry_bulb_temperature_predicted_12h': 22.8, 'outdoor_dry_bulb_temperature_predicted_24h': 19.4, 'outdoor_relative_humidity_predicted_6h': 79.0, 'outdoor_relative_humidity_predicted_12h': 71.0, 'outdoor_relative_humidity_predicted_24h': 87.0, 'diffuse_solar_irradiance_predicted_6h': 201.0, 'diffuse_solar_irradiance_predicted_12h': 966.0, 'diffuse_solar_irradiance_predicted_24h': 0.0, 'direct_solar_irradiance_predicted_6h': 444.0, 'direct_solar_irradiance_predicted_12h': 747.0, 'direct_solar_irradiance_predicted_24h': 0.0, 'electricity_pricing': 0.22, 'electricity_pricing_predicted_6h': 0.22, 'electricity_pricing_predicted_12h': 0.22, 'electricity_pricing_predicted_24h': 0.22, 'carbon_intensity': 0.15731905, 'cooling_storage_soc': 0.0, 'heating_storage_soc': 0.0, 'dhw_storage_soc': 0.0, 'electrical_storage_soc': 0.0, 'net_electricity_consumption': 0.8362833, 'cooling_electricity_consumption': 0.0, 'heating_electricity_consumption': 0.0, 'dhw_electricity_consumption': 0.0, 'cooling_storage_electricity_consumption': 0.0, 'heating_storage_electricity_consumption': 0.0, 'dhw_storage_electricity_consumption': 0.0, 'electrical_storage_electricity_consumption': 0.0, 'cooling_device_cop': array(4.64710729), 'heating_device_cop': array(2.55542173), 'indoor_dry_bulb_temperature_delta': nan}]\n"
     ]
    }
   ],
   "source": [
    "while True:\n",
    "    observations,reward,done,_ = env.step(actions)\n",
    "    \n",
    "    break\n",
    "    if done :\n",
    "        break\n",
    "    else:\n",
    "        actions= agent.compute_action(observations)"
   ]
  },
  {
   "cell_type": "code",
   "execution_count": null,
   "id": "f052817e-c99f-44b7-b9cf-14223a407f5b",
   "metadata": {},
   "outputs": [],
   "source": [
    "kpis_rbc = env.evaluate()\n",
    "kpis_rbc = kpis_rbc.pivot(index='cost_function', columns='name', values='value').round(3)\n",
    "kpis_rbc = kpis_rbc.dropna(how='all')\n",
    "display(kpis_rbc)"
   ]
  },
  {
   "cell_type": "code",
   "execution_count": null,
   "id": "4de888d8-0ee1-4659-8a89-b829b29cb145",
   "metadata": {},
   "outputs": [],
   "source": [
    "from stable_baselines3.sac import SAC as Agent\n",
    "from citylearn.citylearn import CityLearnEnv\n",
    "from citylearn.wrappers import NormalizedObservationWrapper, StableBaselines3Wrapper\n"
   ]
  },
  {
   "cell_type": "code",
   "execution_count": null,
   "id": "064cd38e-ed8b-4a88-90ba-642c91e27bef",
   "metadata": {},
   "outputs": [],
   "source": [
    "env = CityLearnEnv('citylearn_challenge_2023_phase_2_local_evaluation', central_agent=True)\n",
    "env = NormalizedObservationWrapper(env)\n",
    "env = StableBaselines3Wrapper(env)\n",
    "model = Agent('MlpPolicy', env)"
   ]
  },
  {
   "cell_type": "code",
   "execution_count": null,
   "id": "66377e75-de17-4595-9827-b4baf723381f",
   "metadata": {},
   "outputs": [],
   "source": [
    "episodes =50\n",
    "model.learn(total_timesteps=env.unwrapped.time_steps*episodes)\n"
   ]
  },
  {
   "cell_type": "code",
   "execution_count": null,
   "id": "28dca348-a445-4ba3-ac97-bab40e238377",
   "metadata": {},
   "outputs": [],
   "source": [
    "# test\n",
    "observations= env.reset()\n",
    "steps = 0\n",
    "while True:\n",
    "    actions, _ = model.predict(observations, deterministic=True)\n",
    "    observations, _, done,_ = env.step(actions)\n",
    "    steps +=1\n",
    "    if done == True:\n",
    "        break\n",
    "\n"
   ]
  },
  {
   "cell_type": "code",
   "execution_count": null,
   "id": "127c2676-a320-4f1d-997e-3cb6c5bfd050",
   "metadata": {},
   "outputs": [],
   "source": [
    "steps"
   ]
  },
  {
   "cell_type": "code",
   "execution_count": null,
   "id": "4109e425-76a9-4add-8e92-f6cc1a7c51a2",
   "metadata": {},
   "outputs": [],
   "source": [
    "kpis = env.unwrapped.evaluate()\n",
    "kpis = kpis.pivot(index='cost_function', columns='name', values='value').round(3)\n",
    "kpis = kpis.dropna(how='all')\n",
    "display(kpis)"
   ]
  },
  {
   "cell_type": "code",
   "execution_count": null,
   "id": "675af5dd-8dce-4872-a611-c33e46cefbb8",
   "metadata": {},
   "outputs": [],
   "source": []
  }
 ],
 "metadata": {
  "kernelspec": {
   "display_name": "Python 3 (ipykernel)",
   "language": "python",
   "name": "python3"
  },
  "language_info": {
   "codemirror_mode": {
    "name": "ipython",
    "version": 3
   },
   "file_extension": ".py",
   "mimetype": "text/x-python",
   "name": "python",
   "nbconvert_exporter": "python",
   "pygments_lexer": "ipython3",
   "version": "3.9.12"
  }
 },
 "nbformat": 4,
 "nbformat_minor": 5
}
