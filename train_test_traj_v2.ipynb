{
 "cells": [
  {
   "cell_type": "code",
   "execution_count": 72,
   "id": "b40e6cf8-275c-4070-9d22-11873341a546",
   "metadata": {},
   "outputs": [],
   "source": [
    "import os\n",
    "import torch\n",
    "import numpy as np\n",
    "import wandb\n",
    "\n",
    "import pickle\n",
    "from tqdm.auto import trange, tqdm\n",
    "from torch.utils.data import Dataset\n",
    "from dataclasses import dataclass\n",
    "from datasets import load_from_disk\n",
    "from omegaconf import OmegaConf\n",
    "import torch.nn.functional as F\n",
    "\n",
    "from citylearn.agents.rbc import HourRBC\n",
    "from citylearn.agents.q_learning import TabularQLearning\n",
    "from citylearn.citylearn import CityLearnEnv\n",
    "from citylearn.data import DataSet\n",
    "from citylearn.reward_function import RewardFunction\n",
    "from citylearn.wrappers import NormalizedObservationWrapper\n",
    "from citylearn.wrappers import StableBaselines3Wrapper\n",
    "from citylearn.wrappers import TabularQLearningWrapper\n",
    "\n",
    "from stable_baselines3.a2c import A2C\n",
    "\n",
    "from torch.utils.data import DataLoader\n",
    "from trajectory.models.gpt import GPT, GPTTrainer\n",
    "\n",
    "from trajectory.utils.common import pad_along_axis\n",
    "from trajectory.utils.discretization import KBinsDiscretizer\n",
    "from trajectory.utils.env import create_env\n",
    "\n",
    "%matplotlib inline\n",
    "import matplotlib.pyplot as plt\n"
   ]
  },
  {
   "cell_type": "code",
   "execution_count": 2,
   "id": "80baffec-e634-4bc3-901f-304bb8701c7c",
   "metadata": {},
   "outputs": [],
   "source": [
    "offline_data_path = \"data_interactions/PPO/model_PPO_timesteps_100000_seed_572.pkl\""
   ]
  },
  {
   "cell_type": "code",
   "execution_count": 3,
   "id": "bbd8393c-4744-4f29-9d65-e6f7bee81a17",
   "metadata": {},
   "outputs": [],
   "source": [
    "dataset = load_from_disk(offline_data_path)"
   ]
  },
  {
   "cell_type": "code",
   "execution_count": 4,
   "id": "9fabcab7-d2f3-4cb7-928b-989f7ab6436b",
   "metadata": {},
   "outputs": [],
   "source": [
    "def join_trajectory(states, actions, rewards, discount=0.99):\n",
    "    traj_length = states.shape[0]\n",
    "    # I can vectorize this for all dataset as once,\n",
    "    # but better to be safe and do it once and slow and right (and cache it)\n",
    "    \n",
    "    if actions.ndim == 3 :\n",
    "        actions = actions.reshape(actions.shape[0],actions.shape[1])\n",
    "    \n",
    "    if rewards.ndim == 1 :\n",
    "        rewards = rewards.reshape(rewards.shape[0],1)\n",
    "        \n",
    "    print(\"Discount \"+str(discount))\n",
    "    discounts = (discount ** np.arange(traj_length))\n",
    "\n",
    "    values = np.zeros_like(rewards)\n",
    "    for t in range(traj_length):\n",
    "        # discounted return-to-go from state s_t:\n",
    "        # r_{t+1} + y * r_{t+2} + y^2 * r_{t+3} + ...\n",
    "        # .T as rewards of shape [len, 1], see https://github.com/Howuhh/faster-trajectory-transformer/issues/9\n",
    "        values[t] = (rewards[t + 1:].T * discounts[:-t - 1]).sum()\n",
    "    print(states.shape)\n",
    "    print(actions.shape)\n",
    "    print(rewards.shape)\n",
    "    print(values.shape)\n",
    "\n",
    "    joined_transition = np.concatenate([states, actions, rewards, values], axis=-1)\n",
    "\n",
    "    return joined_transition\n",
    "\n",
    "def segment(states, actions, rewards, terminals):\n",
    "    assert len(states) == len(terminals)\n",
    "    \n",
    "    trajectories = {}\n",
    "\n",
    "    episode_num = 0\n",
    "    for t in trange(len(terminals), desc=\"Segmenting\"):\n",
    "        if episode_num not in trajectories:\n",
    "            trajectories[episode_num] = {\n",
    "                \"states\": [],\n",
    "                \"actions\": [],\n",
    "                \"rewards\": []\n",
    "            }\n",
    "        \n",
    "        trajectories[episode_num][\"states\"].append(states[t])\n",
    "        trajectories[episode_num][\"actions\"].append(actions[t])\n",
    "        trajectories[episode_num][\"rewards\"].append(rewards[t])\n",
    "\n",
    "        if terminals[t]:\n",
    "            # next episode\n",
    "            episode_num = episode_num + 1\n",
    "\n",
    "    trajectories_lens = [len(v[\"states\"]) for k, v in trajectories.items()]\n",
    "\n",
    "    for t in trajectories:\n",
    "        trajectories[t][\"states\"] = np.stack(trajectories[t][\"states\"], axis=0)\n",
    "        trajectories[t][\"actions\"] = np.stack(trajectories[t][\"actions\"], axis=0)\n",
    "        trajectories[t][\"rewards\"] = np.stack(trajectories[t][\"rewards\"], axis=0)\n",
    "\n",
    "    return trajectories, trajectories_lens\n"
   ]
  },
  {
   "cell_type": "code",
   "execution_count": 25,
   "id": "962c1c07-0b48-4875-acda-5abee0f4f606",
   "metadata": {},
   "outputs": [
    {
     "data": {
      "application/vnd.jupyter.widget-view+json": {
       "model_id": "41e256b3013746d0ab2d80850527b70a",
       "version_major": 2,
       "version_minor": 0
      },
      "text/plain": [
       "Segmenting:   0%|          | 0/100352 [00:00<?, ?it/s]"
      ]
     },
     "metadata": {},
     "output_type": "display_data"
    }
   ],
   "source": [
    "trajectories,traj_lengths = segment(dataset[\"observations\"],dataset[\"actions\"],dataset[\"rewards\"],dataset[\"dones\"])\n",
    "joined_transitions=[]"
   ]
  },
  {
   "cell_type": "code",
   "execution_count": 27,
   "id": "0c321280-8426-4e80-8c49-08a5a4de13a4",
   "metadata": {},
   "outputs": [
    {
     "data": {
      "application/vnd.jupyter.widget-view+json": {
       "model_id": "99ec78feac8f4f8eaca839ac7a2628e8",
       "version_major": 2,
       "version_minor": 0
      },
      "text/plain": [
       "Joining transitions:   0%|          | 0/12 [00:00<?, ?it/s]"
      ]
     },
     "metadata": {},
     "output_type": "display_data"
    },
    {
     "name": "stdout",
     "output_type": "stream",
     "text": [
      "Discount 0.99\n",
      "(8759, 26)\n",
      "(8759, 5)\n",
      "(8759, 1)\n",
      "(8759, 1)\n",
      "Discount 0.99\n",
      "(8759, 26)\n",
      "(8759, 5)\n",
      "(8759, 1)\n",
      "(8759, 1)\n",
      "Discount 0.99\n",
      "(8759, 26)\n",
      "(8759, 5)\n",
      "(8759, 1)\n",
      "(8759, 1)\n",
      "Discount 0.99\n",
      "(8759, 26)\n",
      "(8759, 5)\n",
      "(8759, 1)\n",
      "(8759, 1)\n",
      "Discount 0.99\n",
      "(8759, 26)\n",
      "(8759, 5)\n",
      "(8759, 1)\n",
      "(8759, 1)\n",
      "Discount 0.99\n",
      "(8759, 26)\n",
      "(8759, 5)\n",
      "(8759, 1)\n",
      "(8759, 1)\n",
      "Discount 0.99\n",
      "(8759, 26)\n",
      "(8759, 5)\n",
      "(8759, 1)\n",
      "(8759, 1)\n",
      "Discount 0.99\n",
      "(8759, 26)\n",
      "(8759, 5)\n",
      "(8759, 1)\n",
      "(8759, 1)\n",
      "Discount 0.99\n",
      "(8759, 26)\n",
      "(8759, 5)\n",
      "(8759, 1)\n",
      "(8759, 1)\n",
      "Discount 0.99\n",
      "(8759, 26)\n",
      "(8759, 5)\n",
      "(8759, 1)\n",
      "(8759, 1)\n",
      "Discount 0.99\n",
      "(8759, 26)\n",
      "(8759, 5)\n",
      "(8759, 1)\n",
      "(8759, 1)\n",
      "Discount 0.99\n",
      "(4003, 26)\n",
      "(4003, 5)\n",
      "(4003, 1)\n",
      "(4003, 1)\n"
     ]
    }
   ],
   "source": [
    "for t in tqdm(trajectories, desc=\"Joining transitions\"):\n",
    "    joined_transitions.append(\n",
    "                    join_trajectory(trajectories[t][\"states\"], trajectories[t][\"actions\"], trajectories[t][\"rewards\"],discount = 0.99)\n",
    "                )"
   ]
  },
  {
   "cell_type": "code",
   "execution_count": 32,
   "id": "7dce8250-7768-4d60-a167-a31e39e92b2b",
   "metadata": {},
   "outputs": [],
   "source": [
    "num_bins = 100\n",
    "strategy = \"uniform\"\n",
    "discretizer = KBinsDiscretizer(\n",
    "            np.concatenate(joined_transitions, axis=0),\n",
    "            num_bins=num_bins,\n",
    "            strategy=strategy\n",
    "        )"
   ]
  },
  {
   "cell_type": "code",
   "execution_count": 33,
   "id": "76657746-09af-49e9-ac4c-531da6d90edc",
   "metadata": {},
   "outputs": [
    {
     "data": {
      "text/plain": [
       "<trajectory.utils.discretization.KBinsDiscretizer at 0x7f3922529130>"
      ]
     },
     "execution_count": 33,
     "metadata": {},
     "output_type": "execute_result"
    }
   ],
   "source": [
    "discretizer"
   ]
  },
  {
   "cell_type": "code",
   "execution_count": 34,
   "id": "a41c7263-9a5e-46de-97d2-8ae268a05077",
   "metadata": {},
   "outputs": [],
   "source": [
    "class DiscretizedDataset(Dataset):\n",
    "    def __init__(self, dataset,env_name=\"city_learn\", num_bins=100, seq_len=10, discount=0.99, strategy=\"uniform\", cache_path=\"data\"):\n",
    "        self.seq_len = seq_len\n",
    "        self.discount = discount\n",
    "        self.num_bins = num_bins\n",
    "        self.dataset = dataset\n",
    "        self.env_name = env_name\n",
    "        \n",
    "        trajectories, traj_lengths = segment(self.dataset[\"observations\"],self.dataset[\"actions\"],self.dataset[\"rewards\"],self.dataset[\"dones\"])\n",
    "        self.trajectories = trajectories\n",
    "        self.traj_lengths = traj_lengths\n",
    "        self.cache_path = cache_path\n",
    "        self.cache_name = f\"{env_name}_{num_bins}_{seq_len}_{strategy}_{discount}\"\n",
    "        \n",
    "        self.joined_transitions = []\n",
    "        for t in tqdm(trajectories, desc=\"Joining transitions\"):\n",
    "            self.joined_transitions.append(\n",
    "                    join_trajectory(trajectories[t][\"states\"], trajectories[t][\"actions\"], trajectories[t][\"rewards\"],discount = self.discount)\n",
    "                )\n",
    "        \"\"\"\n",
    "        if cache_path is None or not os.path.exists(os.path.join(cache_path, self.cache_name)):\n",
    "            self.joined_transitions = []\n",
    "            for t in tqdm(trajectories, desc=\"Joining transitions\"):\n",
    "                self.joined_transitions.append(\n",
    "                    join_trajectory(trajectories[t][\"states\"], trajectories[t][\"actions\"], trajectories[t][\"rewards\"],discount = self.discount)\n",
    "                )\n",
    "\n",
    "            os.makedirs(os.path.join(cache_path), exist_ok=True)\n",
    "            # save cached version\n",
    "            with open(os.path.join(cache_path, self.cache_name), \"wb\") as f:\n",
    "                pickle.dump(self.joined_transitions, f)\n",
    "        else:\n",
    "            with open(os.path.join(cache_path, self.cache_name), \"rb\") as f:\n",
    "                self.joined_transitions = pickle.load(f)\n",
    "        \"\"\"\n",
    "\n",
    "        self.discretizer = KBinsDiscretizer(\n",
    "            np.concatenate(self.joined_transitions, axis=0),\n",
    "            num_bins=num_bins,\n",
    "            strategy=strategy\n",
    "        )\n",
    "\n",
    "        # get valid indices for seq_len sampling\n",
    "        indices = []\n",
    "        for path_ind, length in enumerate(traj_lengths):\n",
    "            end = length - 1\n",
    "            for i in range(end):\n",
    "                indices.append((path_ind, i, i + self.seq_len))\n",
    "        self.indices = np.array(indices)\n",
    "\n",
    "    def get_env_name(self):\n",
    "        return self.env.name\n",
    "\n",
    "    def get_discretizer(self):\n",
    "        return self.discretizer\n",
    "\n",
    "    def __len__(self):\n",
    "        return len(self.indices)\n",
    "\n",
    "    def __getitem__(self, idx):\n",
    "        #print(idx)\n",
    "        traj_idx, start_idx, end_idx = self.indices[idx]\n",
    "        \n",
    "        joined = self.joined_transitions[traj_idx][start_idx:end_idx]\n",
    "        \n",
    "\n",
    "        loss_pad_mask = np.ones((self.seq_len, joined.shape[-1]))\n",
    "        if joined.shape[0] < self.seq_len:\n",
    "            # pad to seq_len if at the end of trajectory, mask for padding\n",
    "            loss_pad_mask[joined.shape[0]:] = 0\n",
    "            joined = pad_along_axis(joined, pad_to=self.seq_len, axis=0)\n",
    "\n",
    "        joined_discrete = self.discretizer.encode(joined).reshape(-1).astype(np.longlong)\n",
    "        loss_pad_mask = loss_pad_mask.reshape(-1)\n",
    "\n",
    "        return joined_discrete[:-1], joined_discrete[1:], loss_pad_mask[:-1]\n"
   ]
  },
  {
   "cell_type": "code",
   "execution_count": 35,
   "id": "81e435b0-cdf2-49cb-9b7c-026cb722e839",
   "metadata": {},
   "outputs": [
    {
     "name": "stderr",
     "output_type": "stream",
     "text": [
      "/home/ml-stud15/anaconda3/envs/stable_env/lib/python3.9/site-packages/notebook/utils.py:280: DeprecationWarning: distutils Version classes are deprecated. Use packaging.version instead.\n",
      "  return LooseVersion(v) >= LooseVersion(check)\n"
     ]
    }
   ],
   "source": [
    "config = OmegaConf.load(\"configs/medium/city_learn.yaml\")\n",
    "wandb.init(\n",
    "        **config.wandb,\n",
    "        config=dict(OmegaConf.to_container(config, resolve=True))\n",
    "    )\n",
    "device = \"cuda:0\""
   ]
  },
  {
   "cell_type": "code",
   "execution_count": 36,
   "id": "25748ab5-7790-4465-8a6f-5e542d8f7eae",
   "metadata": {},
   "outputs": [
    {
     "data": {
      "application/vnd.jupyter.widget-view+json": {
       "model_id": "0ed5153744ba4863adeb4acbb7651cb0",
       "version_major": 2,
       "version_minor": 0
      },
      "text/plain": [
       "Segmenting:   0%|          | 0/100352 [00:00<?, ?it/s]"
      ]
     },
     "metadata": {},
     "output_type": "display_data"
    },
    {
     "data": {
      "application/vnd.jupyter.widget-view+json": {
       "model_id": "a217552c73e24f8385b552eb6d386046",
       "version_major": 2,
       "version_minor": 0
      },
      "text/plain": [
       "Joining transitions:   0%|          | 0/12 [00:00<?, ?it/s]"
      ]
     },
     "metadata": {},
     "output_type": "display_data"
    },
    {
     "name": "stdout",
     "output_type": "stream",
     "text": [
      "Discount 0.99\n",
      "(8759, 26)\n",
      "(8759, 5)\n",
      "(8759, 1)\n",
      "(8759, 1)\n",
      "Discount 0.99\n",
      "(8759, 26)\n",
      "(8759, 5)\n",
      "(8759, 1)\n",
      "(8759, 1)\n",
      "Discount 0.99\n",
      "(8759, 26)\n",
      "(8759, 5)\n",
      "(8759, 1)\n",
      "(8759, 1)\n",
      "Discount 0.99\n",
      "(8759, 26)\n",
      "(8759, 5)\n",
      "(8759, 1)\n",
      "(8759, 1)\n",
      "Discount 0.99\n",
      "(8759, 26)\n",
      "(8759, 5)\n",
      "(8759, 1)\n",
      "(8759, 1)\n",
      "Discount 0.99\n",
      "(8759, 26)\n",
      "(8759, 5)\n",
      "(8759, 1)\n",
      "(8759, 1)\n",
      "Discount 0.99\n",
      "(8759, 26)\n",
      "(8759, 5)\n",
      "(8759, 1)\n",
      "(8759, 1)\n",
      "Discount 0.99\n",
      "(8759, 26)\n",
      "(8759, 5)\n",
      "(8759, 1)\n",
      "(8759, 1)\n",
      "Discount 0.99\n",
      "(8759, 26)\n",
      "(8759, 5)\n",
      "(8759, 1)\n",
      "(8759, 1)\n",
      "Discount 0.99\n",
      "(8759, 26)\n",
      "(8759, 5)\n",
      "(8759, 1)\n",
      "(8759, 1)\n",
      "Discount 0.99\n",
      "(8759, 26)\n",
      "(8759, 5)\n",
      "(8759, 1)\n",
      "(8759, 1)\n",
      "Discount 0.99\n",
      "(4003, 26)\n",
      "(4003, 5)\n",
      "(4003, 1)\n",
      "(4003, 1)\n"
     ]
    }
   ],
   "source": [
    "datasets = DiscretizedDataset(dataset,discount = 0.99)"
   ]
  },
  {
   "cell_type": "code",
   "execution_count": 38,
   "id": "4c555029-ab15-4ab9-bece-d90901c78ab9",
   "metadata": {},
   "outputs": [
    {
     "data": {
      "text/plain": [
       "(33,)"
      ]
     },
     "execution_count": 38,
     "metadata": {},
     "output_type": "execute_result"
    }
   ],
   "source": [
    "datasets.joined_transitions[0][0].shape"
   ]
  },
  {
   "cell_type": "code",
   "execution_count": 39,
   "id": "1d19225b-8c50-40c3-8be3-c7c0ffe884ce",
   "metadata": {},
   "outputs": [],
   "source": [
    "batch_size = 1\n",
    "dataloader = DataLoader(datasets, batch_size=batch_size, shuffle=True, num_workers=8, pin_memory=True)\n"
   ]
  },
  {
   "cell_type": "code",
   "execution_count": 41,
   "id": "909e1ec9-6b5d-461a-bfc2-03dff1271912",
   "metadata": {},
   "outputs": [],
   "source": [
    "device = \"cpu\""
   ]
  },
  {
   "cell_type": "code",
   "execution_count": 42,
   "id": "b97f03b8-70bd-45e5-a5b8-62abc6ca6816",
   "metadata": {},
   "outputs": [
    {
     "data": {
      "application/vnd.jupyter.widget-view+json": {
       "model_id": "c92a401522444146943ca7fe333f62da",
       "version_major": 2,
       "version_minor": 0
      },
      "text/plain": [
       "Epoch:   0%|          | 0/100340 [00:00<?, ?it/s]"
      ]
     },
     "metadata": {},
     "output_type": "display_data"
    },
    {
     "name": "stderr",
     "output_type": "stream",
     "text": [
      "/home/ml-stud15/anaconda3/envs/stable_env/lib/python3.9/site-packages/torch/cuda/__init__.py:619: UserWarning: Can't initialize NVML\n",
      "  warnings.warn(\"Can't initialize NVML\")\n",
      "/home/ml-stud15/anaconda3/envs/stable_env/lib/python3.9/site-packages/torch/cuda/__init__.py:619: UserWarning: Can't initialize NVML\n",
      "  warnings.warn(\"Can't initialize NVML\")\n",
      "/home/ml-stud15/anaconda3/envs/stable_env/lib/python3.9/site-packages/torch/cuda/__init__.py:619: UserWarning: Can't initialize NVML\n",
      "  warnings.warn(\"Can't initialize NVML\")\n",
      "/home/ml-stud15/anaconda3/envs/stable_env/lib/python3.9/site-packages/torch/cuda/__init__.py:619: UserWarning: Can't initialize NVML\n",
      "  warnings.warn(\"Can't initialize NVML\")\n",
      "/home/ml-stud15/anaconda3/envs/stable_env/lib/python3.9/site-packages/torch/cuda/__init__.py:619: UserWarning: Can't initialize NVML\n",
      "  warnings.warn(\"Can't initialize NVML\")\n",
      "/home/ml-stud15/anaconda3/envs/stable_env/lib/python3.9/site-packages/torch/cuda/__init__.py:619: UserWarning: Can't initialize NVML\n",
      "  warnings.warn(\"Can't initialize NVML\")\n",
      "/home/ml-stud15/anaconda3/envs/stable_env/lib/python3.9/site-packages/torch/cuda/__init__.py:619: UserWarning: Can't initialize NVML\n",
      "  warnings.warn(\"Can't initialize NVML\")\n",
      "/home/ml-stud15/anaconda3/envs/stable_env/lib/python3.9/site-packages/torch/cuda/__init__.py:619: UserWarning: Can't initialize NVML\n",
      "  warnings.warn(\"Can't initialize NVML\")\n",
      "/home/ml-stud15/anaconda3/envs/stable_env/lib/python3.9/site-packages/torch/cuda/__init__.py:619: UserWarning: Can't initialize NVML\n",
      "  warnings.warn(\"Can't initialize NVML\")\n",
      "/home/ml-stud15/anaconda3/envs/stable_env/lib/python3.9/site-packages/torch/cuda/__init__.py:619: UserWarning: Can't initialize NVML\n",
      "  warnings.warn(\"Can't initialize NVML\")\n",
      "/home/ml-stud15/anaconda3/envs/stable_env/lib/python3.9/site-packages/torch/cuda/__init__.py:619: UserWarning: Can't initialize NVML\n",
      "  warnings.warn(\"Can't initialize NVML\")\n",
      "/home/ml-stud15/anaconda3/envs/stable_env/lib/python3.9/site-packages/torch/cuda/__init__.py:619: UserWarning: Can't initialize NVML\n",
      "  warnings.warn(\"Can't initialize NVML\")\n",
      "/home/ml-stud15/anaconda3/envs/stable_env/lib/python3.9/site-packages/torch/cuda/__init__.py:619: UserWarning: Can't initialize NVML\n",
      "  warnings.warn(\"Can't initialize NVML\")\n",
      "/home/ml-stud15/anaconda3/envs/stable_env/lib/python3.9/site-packages/torch/cuda/__init__.py:619: UserWarning: Can't initialize NVML\n",
      "  warnings.warn(\"Can't initialize NVML\")\n",
      "/home/ml-stud15/anaconda3/envs/stable_env/lib/python3.9/site-packages/torch/cuda/__init__.py:619: UserWarning: Can't initialize NVML\n",
      "  warnings.warn(\"Can't initialize NVML\")\n",
      "/home/ml-stud15/anaconda3/envs/stable_env/lib/python3.9/site-packages/torch/cuda/__init__.py:619: UserWarning: Can't initialize NVML\n",
      "  warnings.warn(\"Can't initialize NVML\")\n"
     ]
    }
   ],
   "source": [
    "for i, batch in enumerate(tqdm(dataloader, desc=\"Epoch\", leave=False)):\n",
    "    batch = [b.to(device) for b in batch]\n",
    "    break"
   ]
  },
  {
   "cell_type": "code",
   "execution_count": 43,
   "id": "51d7a38d-1225-4d5a-bb97-68eadb0e37c8",
   "metadata": {},
   "outputs": [
    {
     "data": {
      "text/plain": [
       "[tensor([[81, 43, 64, 45, 85,  0, 27, 78, 75, 31, 52, 78, 99, 45, 12, 77,  0, 29,\n",
       "           3, 56, 99, 35,  2, 55, 98, 34, 99, 88, 61, 91, 92, 89, 40, 81, 47, 64,\n",
       "          45, 85,  0, 28, 78, 97, 47, 58, 82, 99, 47, 40, 82, 20, 46,  3, 67, 99,\n",
       "          32,  2, 67, 99, 27, 77, 12, 92,  0, 75, 84, 40, 81, 52, 65, 47, 82,  0,\n",
       "          36, 72, 99, 43,  7, 80, 82, 23, 33, 80, 92, 62,  3, 73, 82, 25,  2, 73,\n",
       "          99, 26, 66, 48, 99, 99, 67, 99, 40, 81, 56, 66, 47, 85,  0, 34, 59, 99,\n",
       "          44,  4, 71, 78, 28, 11, 71, 99, 32,  3, 72, 98, 38,  2, 72, 99, 26, 30,\n",
       "          99,  0, 99, 29, 99, 39, 81, 60, 67, 47, 85,  0, 35, 41, 81, 42,  7, 57,\n",
       "          97, 40, 28, 56, 79, 33,  3, 65, 99, 33, 33, 65, 81, 35, 99,  9,  0, 63,\n",
       "          77, 80, 39, 81, 65, 68, 45, 85, 87, 36, 17, 98, 59,  0, 26, 73, 29, 25,\n",
       "          26,  1, 20,  3, 34, 99, 39, 36, 36, 98, 52, 51, 99, 22, 47, 42, 87, 39,\n",
       "          81, 69, 68, 45, 85, 87, 31,  4, 99, 54,  0,  9, 97, 48,  6,  9,  0, 39,\n",
       "           3, 11, 93, 41, 25, 15, 81, 41, 99, 99,  0,  0, 51, 79, 39, 81, 73, 69,\n",
       "          43, 85, 87, 31,  0, 99, 54,  2,  0, 99, 43, 23,  0,  0, 47,  8,  0, 55,\n",
       "          34, 21,  0, 83, 48, 39, 95, 77, 60,  0, 50, 40, 81, 78, 69, 43, 88, 87,\n",
       "          44,  0, 81, 53, 51,  0, 99, 60,  6,  0, 51, 59, 56,  0, 75, 75, 21,  0,\n",
       "          14, 28, 13, 23, 52, 85, 89, 52, 41, 81, 82, 67, 43, 85, 87, 22,  0,  4,\n",
       "          26, 35,  0, 81, 49, 31,  0, 57, 53, 43,  0, 97, 71,  8,  0, 86, 65, 25,\n",
       "          74,  0, 13, 99, 83]]),\n",
       " tensor([[43, 64, 45, 85,  0, 27, 78, 75, 31, 52, 78, 99, 45, 12, 77,  0, 29,  3,\n",
       "          56, 99, 35,  2, 55, 98, 34, 99, 88, 61, 91, 92, 89, 40, 81, 47, 64, 45,\n",
       "          85,  0, 28, 78, 97, 47, 58, 82, 99, 47, 40, 82, 20, 46,  3, 67, 99, 32,\n",
       "           2, 67, 99, 27, 77, 12, 92,  0, 75, 84, 40, 81, 52, 65, 47, 82,  0, 36,\n",
       "          72, 99, 43,  7, 80, 82, 23, 33, 80, 92, 62,  3, 73, 82, 25,  2, 73, 99,\n",
       "          26, 66, 48, 99, 99, 67, 99, 40, 81, 56, 66, 47, 85,  0, 34, 59, 99, 44,\n",
       "           4, 71, 78, 28, 11, 71, 99, 32,  3, 72, 98, 38,  2, 72, 99, 26, 30, 99,\n",
       "           0, 99, 29, 99, 39, 81, 60, 67, 47, 85,  0, 35, 41, 81, 42,  7, 57, 97,\n",
       "          40, 28, 56, 79, 33,  3, 65, 99, 33, 33, 65, 81, 35, 99,  9,  0, 63, 77,\n",
       "          80, 39, 81, 65, 68, 45, 85, 87, 36, 17, 98, 59,  0, 26, 73, 29, 25, 26,\n",
       "           1, 20,  3, 34, 99, 39, 36, 36, 98, 52, 51, 99, 22, 47, 42, 87, 39, 81,\n",
       "          69, 68, 45, 85, 87, 31,  4, 99, 54,  0,  9, 97, 48,  6,  9,  0, 39,  3,\n",
       "          11, 93, 41, 25, 15, 81, 41, 99, 99,  0,  0, 51, 79, 39, 81, 73, 69, 43,\n",
       "          85, 87, 31,  0, 99, 54,  2,  0, 99, 43, 23,  0,  0, 47,  8,  0, 55, 34,\n",
       "          21,  0, 83, 48, 39, 95, 77, 60,  0, 50, 40, 81, 78, 69, 43, 88, 87, 44,\n",
       "           0, 81, 53, 51,  0, 99, 60,  6,  0, 51, 59, 56,  0, 75, 75, 21,  0, 14,\n",
       "          28, 13, 23, 52, 85, 89, 52, 41, 81, 82, 67, 43, 85, 87, 22,  0,  4, 26,\n",
       "          35,  0, 81, 49, 31,  0, 57, 53, 43,  0, 97, 71,  8,  0, 86, 65, 25, 74,\n",
       "           0, 13, 99, 83, 41]]),\n",
       " tensor([[1., 1., 1., 1., 1., 1., 1., 1., 1., 1., 1., 1., 1., 1., 1., 1., 1., 1.,\n",
       "          1., 1., 1., 1., 1., 1., 1., 1., 1., 1., 1., 1., 1., 1., 1., 1., 1., 1.,\n",
       "          1., 1., 1., 1., 1., 1., 1., 1., 1., 1., 1., 1., 1., 1., 1., 1., 1., 1.,\n",
       "          1., 1., 1., 1., 1., 1., 1., 1., 1., 1., 1., 1., 1., 1., 1., 1., 1., 1.,\n",
       "          1., 1., 1., 1., 1., 1., 1., 1., 1., 1., 1., 1., 1., 1., 1., 1., 1., 1.,\n",
       "          1., 1., 1., 1., 1., 1., 1., 1., 1., 1., 1., 1., 1., 1., 1., 1., 1., 1.,\n",
       "          1., 1., 1., 1., 1., 1., 1., 1., 1., 1., 1., 1., 1., 1., 1., 1., 1., 1.,\n",
       "          1., 1., 1., 1., 1., 1., 1., 1., 1., 1., 1., 1., 1., 1., 1., 1., 1., 1.,\n",
       "          1., 1., 1., 1., 1., 1., 1., 1., 1., 1., 1., 1., 1., 1., 1., 1., 1., 1.,\n",
       "          1., 1., 1., 1., 1., 1., 1., 1., 1., 1., 1., 1., 1., 1., 1., 1., 1., 1.,\n",
       "          1., 1., 1., 1., 1., 1., 1., 1., 1., 1., 1., 1., 1., 1., 1., 1., 1., 1.,\n",
       "          1., 1., 1., 1., 1., 1., 1., 1., 1., 1., 1., 1., 1., 1., 1., 1., 1., 1.,\n",
       "          1., 1., 1., 1., 1., 1., 1., 1., 1., 1., 1., 1., 1., 1., 1., 1., 1., 1.,\n",
       "          1., 1., 1., 1., 1., 1., 1., 1., 1., 1., 1., 1., 1., 1., 1., 1., 1., 1.,\n",
       "          1., 1., 1., 1., 1., 1., 1., 1., 1., 1., 1., 1., 1., 1., 1., 1., 1., 1.,\n",
       "          1., 1., 1., 1., 1., 1., 1., 1., 1., 1., 1., 1., 1., 1., 1., 1., 1., 1.,\n",
       "          1., 1., 1., 1., 1., 1., 1., 1., 1., 1., 1., 1., 1., 1., 1., 1., 1., 1.,\n",
       "          1., 1., 1., 1., 1., 1., 1., 1., 1., 1., 1., 1., 1., 1., 1., 1., 1., 1.,\n",
       "          1., 1., 1., 1., 1.]], dtype=torch.float64)]"
      ]
     },
     "execution_count": 43,
     "metadata": {},
     "output_type": "execute_result"
    }
   ],
   "source": [
    "batch"
   ]
  },
  {
   "cell_type": "markdown",
   "id": "8078e505-fc06-4d1a-a102-72a023e33eea",
   "metadata": {},
   "source": [
    "### Training Part"
   ]
  },
  {
   "cell_type": "code",
   "execution_count": 44,
   "id": "058987b4-f81a-459b-a98e-545fabe31436",
   "metadata": {},
   "outputs": [],
   "source": [
    "path = \"configs/medium/city_learn.yaml\"\n",
    "config = OmegaConf.load(\"configs/medium/city_learn_traj.yaml\")\n",
    "trainer_conf = config.trainer\n",
    "data_conf = config.dataset"
   ]
  },
  {
   "cell_type": "code",
   "execution_count": 45,
   "id": "975d455c-aec7-47a1-b9cc-3162be60b684",
   "metadata": {},
   "outputs": [
    {
     "data": {
      "text/plain": [
       "GPT(\n",
       "  (tok_emb): Embedding(3300, 128)\n",
       "  (drop_emb): Dropout(p=0.1, inplace=False)\n",
       "  (blocks): ModuleList(\n",
       "    (0-3): 4 x TransformerBlock(\n",
       "      (norm1): LayerNorm((128,), eps=1e-05, elementwise_affine=True)\n",
       "      (norm2): LayerNorm((128,), eps=1e-05, elementwise_affine=True)\n",
       "      (drop): Dropout(p=0.1, inplace=False)\n",
       "      (attention): MultiheadAttention(\n",
       "        (out_proj): NonDynamicallyQuantizableLinear(in_features=128, out_features=128, bias=True)\n",
       "      )\n",
       "      (mlp): Sequential(\n",
       "        (0): Linear(in_features=128, out_features=512, bias=True)\n",
       "        (1): GELU(approximate='none')\n",
       "        (2): Linear(in_features=512, out_features=128, bias=True)\n",
       "        (3): Dropout(p=0.1, inplace=False)\n",
       "      )\n",
       "    )\n",
       "  )\n",
       "  (norm): LayerNorm((128,), eps=1e-05, elementwise_affine=True)\n",
       "  (head): EinLinear(n_models=33, in_features=128, out_features=100, bias=False)\n",
       ")"
      ]
     },
     "execution_count": 45,
     "metadata": {},
     "output_type": "execute_result"
    }
   ],
   "source": [
    "model = GPT(**config.model)\n",
    "model.to(device)"
   ]
  },
  {
   "cell_type": "code",
   "execution_count": 46,
   "id": "4d6918e5-c23d-4e2f-b1d2-8cfe4484a32e",
   "metadata": {},
   "outputs": [],
   "source": [
    "tokens, targets, loss_pad_mask = batch"
   ]
  },
  {
   "cell_type": "code",
   "execution_count": 47,
   "id": "ed08a41c-7511-40ae-8eb5-5727025fcc63",
   "metadata": {},
   "outputs": [],
   "source": [
    "logits,state = model(tokens)"
   ]
  },
  {
   "cell_type": "code",
   "execution_count": 80,
   "id": "6153dcdb-ace8-4b90-9641-20ecb5dff16e",
   "metadata": {},
   "outputs": [
    {
     "data": {
      "text/plain": [
       "torch.Size([1, 329])"
      ]
     },
     "execution_count": 80,
     "metadata": {},
     "output_type": "execute_result"
    }
   ],
   "source": [
    "tokens.shape"
   ]
  },
  {
   "cell_type": "code",
   "execution_count": 54,
   "id": "37c95816-a25c-4073-ad62-3f83c69b71c9",
   "metadata": {},
   "outputs": [
    {
     "data": {
      "text/plain": [
       "torch.Size([329, 100])"
      ]
     },
     "execution_count": 54,
     "metadata": {},
     "output_type": "execute_result"
    }
   ],
   "source": [
    "logits.reshape(-1,logits.size(-1)).shape"
   ]
  },
  {
   "cell_type": "code",
   "execution_count": 75,
   "id": "e9e96a9f-c44f-4dd7-bdc5-c0ce6c65605a",
   "metadata": {},
   "outputs": [
    {
     "data": {
      "text/plain": [
       "tensor([5.0381, 4.6269, 4.7293, 4.8253, 5.7284, 5.0677, 5.0340, 6.3195, 4.5720,\n",
       "        4.3980, 6.2600, 4.6921, 4.9512, 4.5500, 4.4854, 4.9931, 4.8249, 5.0680,\n",
       "        5.2321, 5.3744, 3.8377, 4.7963, 5.0063, 5.1536, 5.0111, 4.5762, 5.0376,\n",
       "        5.3119, 5.0973, 4.7026, 4.5403, 5.0938, 5.5464, 4.6989, 5.0340, 4.5975,\n",
       "        5.1440, 5.9169, 4.9770, 5.0263, 4.2698, 5.0621, 5.1759, 4.5404, 4.7906,\n",
       "        4.2730, 4.1245, 4.1844, 5.6344, 5.2610, 5.1651, 4.5114, 5.2583, 4.7403,\n",
       "        4.2205, 5.1672, 4.1532, 4.5078, 3.8340, 3.9620, 5.1510, 4.2050, 4.4064,\n",
       "        3.6954, 4.9853, 5.4893, 4.2473, 3.9271, 5.3503, 4.2636, 5.4463, 5.2832,\n",
       "        3.8971, 6.5259, 4.1326, 4.3753, 5.1215, 5.2528, 5.3798, 5.0849, 4.1875,\n",
       "        3.7527, 5.3062, 5.3100, 4.8814, 4.1292, 4.5666, 4.1819, 5.9207, 4.2503,\n",
       "        4.9299, 4.8595, 4.9214, 5.1158, 4.6382, 4.3642, 5.9857, 4.9086, 6.1734,\n",
       "        5.4338, 5.5926, 5.3877, 5.3025, 5.6039, 3.3215, 3.2692, 5.7723, 4.6353,\n",
       "        5.3754, 5.1430, 4.8481, 5.6612, 4.2359, 5.2973, 4.0191, 5.3021, 5.0133,\n",
       "        5.3273, 4.7466, 5.2175, 4.0733, 4.4776, 4.4384, 4.5495, 4.8670, 4.0198,\n",
       "        4.5499, 4.3510, 4.3066, 5.3360, 4.9018, 5.7644, 3.8621, 3.6742, 5.4990,\n",
       "        5.1510, 5.4503, 4.0684, 4.7834, 4.1276, 4.1788, 4.9047, 4.1950, 4.7772,\n",
       "        4.7880, 5.5888, 4.5374, 4.2116, 4.5505, 5.3537, 5.6494, 5.0193, 5.0273,\n",
       "        5.1718, 4.1405, 2.9573, 5.2078, 4.8734, 5.1687, 4.9708, 5.4871, 4.7880,\n",
       "        5.1995, 4.9511, 5.8885, 4.5806, 5.2967, 4.8996, 5.0614, 5.4806, 4.9280,\n",
       "        4.4508, 4.3598, 4.0090, 4.9642, 4.7540, 4.5297, 5.7630, 4.7336, 5.6029,\n",
       "        4.7069, 5.0376, 4.8683, 5.3752, 5.5017, 5.6196, 4.2712, 4.4345, 5.2103,\n",
       "        4.4018, 4.5206, 4.5281, 5.0971, 4.5065, 5.2349, 5.0866, 4.9042, 5.3162,\n",
       "        4.7826, 5.3643, 5.0996, 4.7039, 5.8823, 4.7771, 5.1213, 5.4585, 4.0089,\n",
       "        4.8224, 5.5599, 4.9855, 5.2338, 4.5329, 4.7194, 4.7060, 5.8333, 4.9238,\n",
       "        4.7151, 3.9128, 4.9605, 5.0743, 4.6488, 3.4891, 4.2081, 5.2860, 4.7490,\n",
       "        4.6462, 4.6534, 4.5362, 5.5607, 4.9801, 5.1001, 4.8038, 5.2851, 5.3777,\n",
       "        5.0388, 5.6543, 4.6763, 4.5538, 5.5521, 4.3680, 5.3245, 4.4208, 4.7056,\n",
       "        5.1803, 4.9592, 4.1525, 4.9068, 5.3567, 4.7721, 4.2553, 5.5506, 4.9987,\n",
       "        4.0664, 4.4500, 5.5097, 4.7236, 3.8824, 4.8729, 4.8658, 4.7448, 4.9761,\n",
       "        4.3251, 5.0894, 5.0634, 5.2546, 4.8382, 5.3395, 4.5678, 5.9051, 4.1881,\n",
       "        4.7468, 3.4663, 5.4760, 3.6896, 4.1213, 5.2232, 5.4081, 4.2969, 3.6419,\n",
       "        4.6884, 4.2418, 4.7378, 4.0023, 3.8475, 5.6961, 3.9473, 4.6111, 4.7500,\n",
       "        3.9089, 4.5913, 5.5316, 5.3023, 5.4439, 5.4351, 5.6877, 5.4032, 5.5118,\n",
       "        4.4835, 3.8746, 5.5079, 4.6493, 5.3731, 4.7690, 4.5479, 4.4658, 3.9809,\n",
       "        5.2401, 4.2207, 4.7691, 4.7004, 4.0310, 3.9740, 4.3641, 4.3106, 3.9403,\n",
       "        3.4128, 5.4837, 4.6460, 4.6246, 4.3433, 4.5040, 5.4675, 4.8372, 4.9369,\n",
       "        4.7465, 6.3197, 5.1713, 4.1295, 5.3208], grad_fn=<NllLossBackward0>)"
      ]
     },
     "execution_count": 75,
     "metadata": {},
     "output_type": "execute_result"
    }
   ],
   "source": [
    " F.cross_entropy(logits.reshape(-1, logits.size(-1)), targets.reshape(-1), reduction=\"none\")"
   ]
  },
  {
   "cell_type": "code",
   "execution_count": 15,
   "id": "aa6de591-511a-41b4-ac02-5c7db52a142f",
   "metadata": {},
   "outputs": [],
   "source": [
    "num_epochs = int(3e4 / len(datasets) * trainer_conf.num_epochs_ref)\n",
    "\n",
    "warmup_tokens = len(datasets) * data_conf.seq_len * config.model.transition_dim\n",
    "final_tokens = warmup_tokens * num_epochs"
   ]
  },
  {
   "cell_type": "code",
   "execution_count": 16,
   "id": "46f42e3e-37cb-4ae6-90a8-d1443eeffc9c",
   "metadata": {},
   "outputs": [
    {
     "data": {
      "text/plain": [
       "14"
      ]
     },
     "execution_count": 16,
     "metadata": {},
     "output_type": "execute_result"
    }
   ],
   "source": [
    "num_epochs"
   ]
  },
  {
   "cell_type": "code",
   "execution_count": 17,
   "id": "dc3b1ad2-36ff-40f8-a247-0d053b4e14a6",
   "metadata": {},
   "outputs": [],
   "source": [
    "trainer = GPTTrainer(\n",
    "        final_tokens=final_tokens,\n",
    "        warmup_tokens=warmup_tokens,\n",
    "        action_weight=trainer_conf.action_weight,\n",
    "        value_weight=trainer_conf.value_weight,\n",
    "        reward_weight=trainer_conf.reward_weight,\n",
    "        learning_rate=trainer_conf.lr,\n",
    "        betas=trainer_conf.betas,\n",
    "        weight_decay=trainer_conf.weight_decay,\n",
    "        clip_grad=trainer_conf.clip_grad,\n",
    "        eval_seed=trainer_conf.eval_seed,\n",
    "        eval_every=trainer_conf.eval_every,\n",
    "        eval_episodes=trainer_conf.eval_episodes,\n",
    "        eval_temperature=trainer_conf.eval_temperature,\n",
    "        eval_discount=trainer_conf.eval_discount,\n",
    "        eval_plan_every=trainer_conf.eval_plan_every,\n",
    "        eval_beam_width=trainer_conf.eval_beam_width,\n",
    "        eval_beam_steps=trainer_conf.eval_beam_steps,\n",
    "        eval_beam_context=trainer_conf.eval_beam_context,\n",
    "        eval_sample_expand=trainer_conf.eval_sample_expand,\n",
    "        eval_k_obs=trainer_conf.eval_k_obs,  # as in original implementation\n",
    "        eval_k_reward=trainer_conf.eval_k_reward,\n",
    "        eval_k_act=trainer_conf.eval_k_act,\n",
    "        checkpoints_path=trainer_conf.checkpoints_path,\n",
    "        save_every=1,\n",
    "        device=device\n",
    "    )"
   ]
  },
  {
   "cell_type": "code",
   "execution_count": 18,
   "id": "3aadc9e6-ab84-4996-9de8-1eee7a2ace7f",
   "metadata": {},
   "outputs": [
    {
     "data": {
      "application/vnd.jupyter.widget-view+json": {
       "model_id": "5f774210efbd43abb5ef2ef0138b95b0",
       "version_major": 2,
       "version_minor": 0
      },
      "text/plain": [
       "Training:   0%|          | 0/14 [00:00<?, ?it/s]"
      ]
     },
     "metadata": {},
     "output_type": "display_data"
    },
    {
     "data": {
      "application/vnd.jupyter.widget-view+json": {
       "model_id": "",
       "version_major": 2,
       "version_minor": 0
      },
      "text/plain": [
       "Epoch:   0%|          | 0/1568 [00:00<?, ?it/s]"
      ]
     },
     "metadata": {},
     "output_type": "display_data"
    },
    {
     "name": "stdout",
     "output_type": "stream",
     "text": [
      "   EPOCH 1: 5.208583519399168\n"
     ]
    },
    {
     "data": {
      "application/vnd.jupyter.widget-view+json": {
       "model_id": "",
       "version_major": 2,
       "version_minor": 0
      },
      "text/plain": [
       "Epoch:   0%|          | 0/1568 [00:00<?, ?it/s]"
      ]
     },
     "metadata": {},
     "output_type": "display_data"
    },
    {
     "name": "stdout",
     "output_type": "stream",
     "text": [
      "   EPOCH 2: 4.204621164260852\n"
     ]
    },
    {
     "data": {
      "application/vnd.jupyter.widget-view+json": {
       "model_id": "",
       "version_major": 2,
       "version_minor": 0
      },
      "text/plain": [
       "Epoch:   0%|          | 0/1568 [01:20<?, ?it/s]"
      ]
     },
     "metadata": {},
     "output_type": "display_data"
    },
    {
     "name": "stderr",
     "output_type": "stream",
     "text": [
      "Exception ignored in: Exception ignored in: <function _MultiProcessingDataLoaderIter.__del__ at 0x7fb7f1ac45e0>\n",
      "<function _MultiProcessingDataLoaderIter.__del__ at 0x7fb7f1ac45e0>Exception ignored in: Traceback (most recent call last):\n",
      "\n",
      "  File \"/home/ml-stud15/anaconda3/envs/stable_env/lib/python3.9/site-packages/torch/utils/data/dataloader.py\", line 1479, in __del__\n",
      "<function _MultiProcessingDataLoaderIter.__del__ at 0x7fb7f1ac45e0>Traceback (most recent call last):\n",
      "    \n",
      "  File \"/home/ml-stud15/anaconda3/envs/stable_env/lib/python3.9/site-packages/torch/utils/data/dataloader.py\", line 1479, in __del__\n",
      "self._shutdown_workers()Traceback (most recent call last):\n",
      "\n",
      "      File \"/home/ml-stud15/anaconda3/envs/stable_env/lib/python3.9/site-packages/torch/utils/data/dataloader.py\", line 1479, in __del__\n",
      "  File \"/home/ml-stud15/anaconda3/envs/stable_env/lib/python3.9/site-packages/torch/utils/data/dataloader.py\", line 1462, in _shutdown_workers\n",
      "self._shutdown_workers()        \n",
      "if w.is_alive():self._shutdown_workers()\n",
      "  File \"/home/ml-stud15/anaconda3/envs/stable_env/lib/python3.9/site-packages/torch/utils/data/dataloader.py\", line 1462, in _shutdown_workers\n",
      "\n",
      "  File \"/home/ml-stud15/anaconda3/envs/stable_env/lib/python3.9/multiprocessing/process.py\", line 160, in is_alive\n",
      "      File \"/home/ml-stud15/anaconda3/envs/stable_env/lib/python3.9/site-packages/torch/utils/data/dataloader.py\", line 1462, in _shutdown_workers\n",
      "    assert self._parent_pid == os.getpid(), 'can only test a child process'    \n",
      "if w.is_alive():if w.is_alive():AssertionError\n",
      "\n",
      ":   File \"/home/ml-stud15/anaconda3/envs/stable_env/lib/python3.9/multiprocessing/process.py\", line 160, in is_alive\n",
      "can only test a child process  File \"/home/ml-stud15/anaconda3/envs/stable_env/lib/python3.9/multiprocessing/process.py\", line 160, in is_alive\n",
      "\n",
      "        assert self._parent_pid == os.getpid(), 'can only test a child process'assert self._parent_pid == os.getpid(), 'can only test a child process'\n",
      "\n",
      "Exception ignored in: AssertionErrorAssertionError<function _MultiProcessingDataLoaderIter.__del__ at 0x7fb7f1ac45e0>: : \n",
      "can only test a child processTraceback (most recent call last):\n",
      "can only test a child process\n",
      "  File \"/home/ml-stud15/anaconda3/envs/stable_env/lib/python3.9/site-packages/torch/utils/data/dataloader.py\", line 1479, in __del__\n",
      "\n",
      "    self._shutdown_workers()\n",
      "  File \"/home/ml-stud15/anaconda3/envs/stable_env/lib/python3.9/site-packages/torch/utils/data/dataloader.py\", line 1462, in _shutdown_workers\n",
      "Exception ignored in: Exception ignored in: <function _MultiProcessingDataLoaderIter.__del__ at 0x7fb7f1ac45e0><function _MultiProcessingDataLoaderIter.__del__ at 0x7fb7f1ac45e0>    \n",
      "if w.is_alive():\n",
      "Traceback (most recent call last):\n",
      "\n",
      "Traceback (most recent call last):\n",
      "  File \"/home/ml-stud15/anaconda3/envs/stable_env/lib/python3.9/site-packages/torch/utils/data/dataloader.py\", line 1479, in __del__\n",
      "  File \"/home/ml-stud15/anaconda3/envs/stable_env/lib/python3.9/multiprocessing/process.py\", line 160, in is_alive\n",
      "  File \"/home/ml-stud15/anaconda3/envs/stable_env/lib/python3.9/site-packages/torch/utils/data/dataloader.py\", line 1479, in __del__\n",
      "        assert self._parent_pid == os.getpid(), 'can only test a child process'    self._shutdown_workers()\n",
      "self._shutdown_workers()AssertionError\n",
      ": \n",
      "  File \"/home/ml-stud15/anaconda3/envs/stable_env/lib/python3.9/site-packages/torch/utils/data/dataloader.py\", line 1462, in _shutdown_workers\n",
      "can only test a child process  File \"/home/ml-stud15/anaconda3/envs/stable_env/lib/python3.9/site-packages/torch/utils/data/dataloader.py\", line 1462, in _shutdown_workers\n",
      "\n",
      "        if w.is_alive():if w.is_alive():\n",
      "  File \"/home/ml-stud15/anaconda3/envs/stable_env/lib/python3.9/multiprocessing/process.py\", line 160, in is_alive\n",
      "\n",
      "      File \"/home/ml-stud15/anaconda3/envs/stable_env/lib/python3.9/multiprocessing/process.py\", line 160, in is_alive\n",
      "assert self._parent_pid == os.getpid(), 'can only test a child process'    \n",
      "assert self._parent_pid == os.getpid(), 'can only test a child process'AssertionError\n",
      ": can only test a child processAssertionError\n",
      ": can only test a child process\n"
     ]
    },
    {
     "name": "stdout",
     "output_type": "stream",
     "text": [
      "   EPOCH 3: 3.937248721385705\n"
     ]
    },
    {
     "data": {
      "application/vnd.jupyter.widget-view+json": {
       "model_id": "",
       "version_major": 2,
       "version_minor": 0
      },
      "text/plain": [
       "Epoch:   0%|          | 0/1568 [00:00<?, ?it/s]"
      ]
     },
     "metadata": {},
     "output_type": "display_data"
    },
    {
     "name": "stdout",
     "output_type": "stream",
     "text": [
      "   EPOCH 4: 3.7893836208994514\n"
     ]
    },
    {
     "data": {
      "application/vnd.jupyter.widget-view+json": {
       "model_id": "",
       "version_major": 2,
       "version_minor": 0
      },
      "text/plain": [
       "Epoch:   0%|          | 0/1568 [00:00<?, ?it/s]"
      ]
     },
     "metadata": {},
     "output_type": "display_data"
    },
    {
     "name": "stdout",
     "output_type": "stream",
     "text": [
      "   EPOCH 5: 3.70218578502506\n"
     ]
    },
    {
     "data": {
      "application/vnd.jupyter.widget-view+json": {
       "model_id": "",
       "version_major": 2,
       "version_minor": 0
      },
      "text/plain": [
       "Epoch:   0%|          | 0/1568 [00:00<?, ?it/s]"
      ]
     },
     "metadata": {},
     "output_type": "display_data"
    },
    {
     "name": "stdout",
     "output_type": "stream",
     "text": [
      "   EPOCH 6: 3.642668913940583\n"
     ]
    },
    {
     "data": {
      "application/vnd.jupyter.widget-view+json": {
       "model_id": "",
       "version_major": 2,
       "version_minor": 0
      },
      "text/plain": [
       "Epoch:   0%|          | 0/1568 [00:00<?, ?it/s]"
      ]
     },
     "metadata": {},
     "output_type": "display_data"
    },
    {
     "name": "stdout",
     "output_type": "stream",
     "text": [
      "   EPOCH 7: 3.59653997517662\n"
     ]
    },
    {
     "data": {
      "application/vnd.jupyter.widget-view+json": {
       "model_id": "",
       "version_major": 2,
       "version_minor": 0
      },
      "text/plain": [
       "Epoch:   0%|          | 0/1568 [00:00<?, ?it/s]"
      ]
     },
     "metadata": {},
     "output_type": "display_data"
    },
    {
     "name": "stderr",
     "output_type": "stream",
     "text": [
      "Exception ignored in: <function _MultiProcessingDataLoaderIter.__del__ at 0x7fb7f1ac45e0>\n",
      "Traceback (most recent call last):\n",
      "  File \"/home/ml-stud15/anaconda3/envs/stable_env/lib/python3.9/site-packages/torch/utils/data/dataloader.py\", line 1479, in __del__\n",
      "    self._shutdown_workers()\n",
      "  File \"/home/ml-stud15/anaconda3/envs/stable_env/lib/python3.9/site-packages/torch/utils/data/dataloader.py\", line 1462, in _shutdown_workers\n",
      "    if w.is_alive():\n",
      "  File \"/home/ml-stud15/anaconda3/envs/stable_env/lib/python3.9/multiprocessing/process.py\", line 160, in is_alive\n",
      "    assert self._parent_pid == os.getpid(), 'can only test a child process'\n",
      "AssertionError: can only test a child process\n",
      "Exception ignored in: <function _MultiProcessingDataLoaderIter.__del__ at 0x7fb7f1ac45e0>\n",
      "Traceback (most recent call last):\n",
      "  File \"/home/ml-stud15/anaconda3/envs/stable_env/lib/python3.9/site-packages/torch/utils/data/dataloader.py\", line 1479, in __del__\n",
      "    self._shutdown_workers()\n",
      "  File \"/home/ml-stud15/anaconda3/envs/stable_env/lib/python3.9/site-packages/torch/utils/data/dataloader.py\", line 1462, in _shutdown_workers\n",
      "    if w.is_alive():\n",
      "  File \"/home/ml-stud15/anaconda3/envs/stable_env/lib/python3.9/multiprocessing/process.py\", line 160, in is_alive\n",
      "    assert self._parent_pid == os.getpid(), 'can only test a child process'\n",
      "AssertionError: can only test a child process\n",
      "Exception ignored in: <function _MultiProcessingDataLoaderIter.__del__ at 0x7fb7f1ac45e0>\n",
      "Traceback (most recent call last):\n",
      "  File \"/home/ml-stud15/anaconda3/envs/stable_env/lib/python3.9/site-packages/torch/utils/data/dataloader.py\", line 1479, in __del__\n",
      "    self._shutdown_workers()\n",
      "  File \"/home/ml-stud15/anaconda3/envs/stable_env/lib/python3.9/site-packages/torch/utils/data/dataloader.py\", line 1462, in _shutdown_workers\n",
      "    if w.is_alive():\n",
      "  File \"/home/ml-stud15/anaconda3/envs/stable_env/lib/python3.9/multiprocessing/process.py\", line 160, in is_alive\n",
      "    assert self._parent_pid == os.getpid(), 'can only test a child process'\n",
      "AssertionError: can only test a child process\n",
      "Exception ignored in: <function _MultiProcessingDataLoaderIter.__del__ at 0x7fb7f1ac45e0>\n",
      "Traceback (most recent call last):\n",
      "  File \"/home/ml-stud15/anaconda3/envs/stable_env/lib/python3.9/site-packages/torch/utils/data/dataloader.py\", line 1479, in __del__\n",
      "    self._shutdown_workers()\n",
      "  File \"/home/ml-stud15/anaconda3/envs/stable_env/lib/python3.9/site-packages/torch/utils/data/dataloader.py\", line 1462, in _shutdown_workers\n",
      "    if w.is_alive():\n",
      "  File \"/home/ml-stud15/anaconda3/envs/stable_env/lib/python3.9/multiprocessing/process.py\", line 160, in is_alive\n",
      "    assert self._parent_pid == os.getpid(), 'can only test a child process'\n",
      "AssertionError: can only test a child process\n",
      "Exception ignored in: <function _MultiProcessingDataLoaderIter.__del__ at 0x7fb7f1ac45e0>\n",
      "Traceback (most recent call last):\n",
      "  File \"/home/ml-stud15/anaconda3/envs/stable_env/lib/python3.9/site-packages/torch/utils/data/dataloader.py\", line 1479, in __del__\n",
      "    self._shutdown_workers()\n",
      "  File \"/home/ml-stud15/anaconda3/envs/stable_env/lib/python3.9/site-packages/torch/utils/data/dataloader.py\", line 1462, in _shutdown_workers\n",
      "    if w.is_alive():\n",
      "  File \"/home/ml-stud15/anaconda3/envs/stable_env/lib/python3.9/multiprocessing/process.py\", line 160, in is_alive\n",
      "    assert self._parent_pid == os.getpid(), 'can only test a child process'\n",
      "AssertionError: \n",
      "can only test a child processException ignored in: <function _MultiProcessingDataLoaderIter.__del__ at 0x7fb7f1ac45e0>\n",
      "Traceback (most recent call last):\n",
      "  File \"/home/ml-stud15/anaconda3/envs/stable_env/lib/python3.9/site-packages/torch/utils/data/dataloader.py\", line 1479, in __del__\n",
      "    self._shutdown_workers()\n",
      "  File \"/home/ml-stud15/anaconda3/envs/stable_env/lib/python3.9/site-packages/torch/utils/data/dataloader.py\", line 1462, in _shutdown_workers\n",
      "    if w.is_alive():\n",
      "  File \"/home/ml-stud15/anaconda3/envs/stable_env/lib/python3.9/multiprocessing/process.py\", line 160, in is_alive\n",
      "    assert self._parent_pid == os.getpid(), 'can only test a child process'\n",
      "AssertionError: can only test a child process\n",
      "Exception ignored in: <function _MultiProcessingDataLoaderIter.__del__ at 0x7fb7f1ac45e0>\n",
      "Traceback (most recent call last):\n",
      "  File \"/home/ml-stud15/anaconda3/envs/stable_env/lib/python3.9/site-packages/torch/utils/data/dataloader.py\", line 1479, in __del__\n",
      "    self._shutdown_workers()\n",
      "  File \"/home/ml-stud15/anaconda3/envs/stable_env/lib/python3.9/site-packages/torch/utils/data/dataloader.py\", line 1462, in _shutdown_workers\n",
      "    if w.is_alive():\n",
      "  File \"/home/ml-stud15/anaconda3/envs/stable_env/lib/python3.9/multiprocessing/process.py\", line 160, in is_alive\n",
      "    assert self._parent_pid == os.getpid(), 'can only test a child process'\n",
      "AssertionError: can only test a child process\n",
      "Exception ignored in: <function _MultiProcessingDataLoaderIter.__del__ at 0x7fb7f1ac45e0>\n",
      "Traceback (most recent call last):\n",
      "  File \"/home/ml-stud15/anaconda3/envs/stable_env/lib/python3.9/site-packages/torch/utils/data/dataloader.py\", line 1479, in __del__\n",
      "    self._shutdown_workers()\n",
      "  File \"/home/ml-stud15/anaconda3/envs/stable_env/lib/python3.9/site-packages/torch/utils/data/dataloader.py\", line 1462, in _shutdown_workers\n",
      "    if w.is_alive():\n",
      "  File \"/home/ml-stud15/anaconda3/envs/stable_env/lib/python3.9/multiprocessing/process.py\", line 160, in is_alive\n",
      "    assert self._parent_pid == os.getpid(), 'can only test a child process'\n",
      "AssertionError: can only test a child process\n"
     ]
    },
    {
     "name": "stdout",
     "output_type": "stream",
     "text": [
      "   EPOCH 8: 3.5569109584974266\n"
     ]
    },
    {
     "data": {
      "application/vnd.jupyter.widget-view+json": {
       "model_id": "",
       "version_major": 2,
       "version_minor": 0
      },
      "text/plain": [
       "Epoch:   0%|          | 0/1568 [00:00<?, ?it/s]"
      ]
     },
     "metadata": {},
     "output_type": "display_data"
    },
    {
     "name": "stdout",
     "output_type": "stream",
     "text": [
      "   EPOCH 9: 3.5215758410977123\n"
     ]
    },
    {
     "data": {
      "application/vnd.jupyter.widget-view+json": {
       "model_id": "",
       "version_major": 2,
       "version_minor": 0
      },
      "text/plain": [
       "Epoch:   0%|          | 0/1568 [00:00<?, ?it/s]"
      ]
     },
     "metadata": {},
     "output_type": "display_data"
    },
    {
     "name": "stdout",
     "output_type": "stream",
     "text": [
      "   EPOCH 10: 3.4915563310790403\n"
     ]
    },
    {
     "data": {
      "application/vnd.jupyter.widget-view+json": {
       "model_id": "",
       "version_major": 2,
       "version_minor": 0
      },
      "text/plain": [
       "Epoch:   0%|          | 0/1568 [00:00<?, ?it/s]"
      ]
     },
     "metadata": {},
     "output_type": "display_data"
    },
    {
     "name": "stdout",
     "output_type": "stream",
     "text": [
      "   EPOCH 11: 3.467680165991402\n"
     ]
    },
    {
     "data": {
      "application/vnd.jupyter.widget-view+json": {
       "model_id": "",
       "version_major": 2,
       "version_minor": 0
      },
      "text/plain": [
       "Epoch:   0%|          | 0/1568 [00:00<?, ?it/s]"
      ]
     },
     "metadata": {},
     "output_type": "display_data"
    },
    {
     "name": "stdout",
     "output_type": "stream",
     "text": [
      "   EPOCH 12: 3.4512651699067414\n"
     ]
    },
    {
     "data": {
      "application/vnd.jupyter.widget-view+json": {
       "model_id": "",
       "version_major": 2,
       "version_minor": 0
      },
      "text/plain": [
       "Epoch:   0%|          | 0/1568 [00:00<?, ?it/s]"
      ]
     },
     "metadata": {},
     "output_type": "display_data"
    },
    {
     "name": "stderr",
     "output_type": "stream",
     "text": [
      "Exception ignored in: <function _MultiProcessingDataLoaderIter.__del__ at 0x7fb7f1ac45e0>\n",
      "Traceback (most recent call last):\n",
      "  File \"/home/ml-stud15/anaconda3/envs/stable_env/lib/python3.9/site-packages/torch/utils/data/dataloader.py\", line 1479, in __del__\n",
      "    self._shutdown_workers()\n",
      "  File \"/home/ml-stud15/anaconda3/envs/stable_env/lib/python3.9/site-packages/torch/utils/data/dataloader.py\", line 1462, in _shutdown_workers\n",
      "    if w.is_alive():\n",
      "  File \"/home/ml-stud15/anaconda3/envs/stable_env/lib/python3.9/multiprocessing/process.py\", line 160, in is_alive\n",
      "    assert self._parent_pid == os.getpid(), 'can only test a child process'\n",
      "AssertionError: can only test a child process\n",
      "Exception ignored in: <function _MultiProcessingDataLoaderIter.__del__ at 0x7fb7f1ac45e0>\n",
      "Traceback (most recent call last):\n",
      "  File \"/home/ml-stud15/anaconda3/envs/stable_env/lib/python3.9/site-packages/torch/utils/data/dataloader.py\", line 1479, in __del__\n",
      "    self._shutdown_workers()\n",
      "  File \"/home/ml-stud15/anaconda3/envs/stable_env/lib/python3.9/site-packages/torch/utils/data/dataloader.py\", line 1462, in _shutdown_workers\n",
      "    if w.is_alive():\n",
      "  File \"/home/ml-stud15/anaconda3/envs/stable_env/lib/python3.9/multiprocessing/process.py\", line 160, in is_alive\n",
      "    assert self._parent_pid == os.getpid(), 'can only test a child process'\n",
      "AssertionError: can only test a child process\n",
      "Exception ignored in: <function _MultiProcessingDataLoaderIter.__del__ at 0x7fb7f1ac45e0>\n",
      "Traceback (most recent call last):\n",
      "  File \"/home/ml-stud15/anaconda3/envs/stable_env/lib/python3.9/site-packages/torch/utils/data/dataloader.py\", line 1479, in __del__\n",
      "    self._shutdown_workers()\n",
      "  File \"/home/ml-stud15/anaconda3/envs/stable_env/lib/python3.9/site-packages/torch/utils/data/dataloader.py\", line 1462, in _shutdown_workers\n",
      "    if w.is_alive():\n",
      "  File \"/home/ml-stud15/anaconda3/envs/stable_env/lib/python3.9/multiprocessing/process.py\", line 160, in is_alive\n",
      "    assert self._parent_pid == os.getpid(), 'can only test a child process'\n",
      "AssertionError: can only test a child process\n",
      "Exception ignored in: <function _MultiProcessingDataLoaderIter.__del__ at 0x7fb7f1ac45e0>\n",
      "Traceback (most recent call last):\n",
      "  File \"/home/ml-stud15/anaconda3/envs/stable_env/lib/python3.9/site-packages/torch/utils/data/dataloader.py\", line 1479, in __del__\n",
      "    self._shutdown_workers()\n",
      "  File \"/home/ml-stud15/anaconda3/envs/stable_env/lib/python3.9/site-packages/torch/utils/data/dataloader.py\", line 1462, in _shutdown_workers\n",
      "    if w.is_alive():\n",
      "  File \"/home/ml-stud15/anaconda3/envs/stable_env/lib/python3.9/multiprocessing/process.py\", line 160, in is_alive\n",
      "    assert self._parent_pid == os.getpid(), 'can only test a child process'\n",
      "AssertionError: can only test a child process\n",
      "Exception ignored in: <function _MultiProcessingDataLoaderIter.__del__ at 0x7fb7f1ac45e0>\n",
      "Traceback (most recent call last):\n",
      "  File \"/home/ml-stud15/anaconda3/envs/stable_env/lib/python3.9/site-packages/torch/utils/data/dataloader.py\", line 1479, in __del__\n",
      "    self._shutdown_workers()\n",
      "  File \"/home/ml-stud15/anaconda3/envs/stable_env/lib/python3.9/site-packages/torch/utils/data/dataloader.py\", line 1462, in _shutdown_workers\n",
      "    if w.is_alive():\n",
      "  File \"/home/ml-stud15/anaconda3/envs/stable_env/lib/python3.9/multiprocessing/process.py\", line 160, in is_alive\n",
      "    assert self._parent_pid == os.getpid(), 'can only test a child process'\n",
      "AssertionError: can only test a child process\n",
      "Exception ignored in: <function _MultiProcessingDataLoaderIter.__del__ at 0x7fb7f1ac45e0>\n",
      "Traceback (most recent call last):\n",
      "  File \"/home/ml-stud15/anaconda3/envs/stable_env/lib/python3.9/site-packages/torch/utils/data/dataloader.py\", line 1479, in __del__\n",
      "    self._shutdown_workers()\n",
      "  File \"/home/ml-stud15/anaconda3/envs/stable_env/lib/python3.9/site-packages/torch/utils/data/dataloader.py\", line 1462, in _shutdown_workers\n",
      "    if w.is_alive():\n",
      "  File \"/home/ml-stud15/anaconda3/envs/stable_env/lib/python3.9/multiprocessing/process.py\", line 160, in is_alive\n",
      "    assert self._parent_pid == os.getpid(), 'can only test a child process'\n",
      "AssertionError: can only test a child process\n",
      "Exception ignored in: <function _MultiProcessingDataLoaderIter.__del__ at 0x7fb7f1ac45e0>\n",
      "Traceback (most recent call last):\n",
      "  File \"/home/ml-stud15/anaconda3/envs/stable_env/lib/python3.9/site-packages/torch/utils/data/dataloader.py\", line 1479, in __del__\n",
      "    self._shutdown_workers()\n",
      "  File \"/home/ml-stud15/anaconda3/envs/stable_env/lib/python3.9/site-packages/torch/utils/data/dataloader.py\", line 1462, in _shutdown_workers\n",
      "    if w.is_alive():\n",
      "  File \"/home/ml-stud15/anaconda3/envs/stable_env/lib/python3.9/multiprocessing/process.py\", line 160, in is_alive\n",
      "    assert self._parent_pid == os.getpid(), 'can only test a child process'\n",
      "AssertionError: can only test a child process\n",
      "Exception ignored in: <function _MultiProcessingDataLoaderIter.__del__ at 0x7fb7f1ac45e0>\n",
      "Traceback (most recent call last):\n",
      "  File \"/home/ml-stud15/anaconda3/envs/stable_env/lib/python3.9/site-packages/torch/utils/data/dataloader.py\", line 1479, in __del__\n",
      "    self._shutdown_workers()\n",
      "  File \"/home/ml-stud15/anaconda3/envs/stable_env/lib/python3.9/site-packages/torch/utils/data/dataloader.py\", line 1462, in _shutdown_workers\n",
      "    if w.is_alive():\n",
      "  File \"/home/ml-stud15/anaconda3/envs/stable_env/lib/python3.9/multiprocessing/process.py\", line 160, in is_alive\n",
      "    assert self._parent_pid == os.getpid(), 'can only test a child process'\n",
      "AssertionError: can only test a child process\n"
     ]
    },
    {
     "name": "stdout",
     "output_type": "stream",
     "text": [
      "   EPOCH 13: 3.444154729218725\n"
     ]
    },
    {
     "data": {
      "application/vnd.jupyter.widget-view+json": {
       "model_id": "",
       "version_major": 2,
       "version_minor": 0
      },
      "text/plain": [
       "Epoch:   0%|          | 0/1568 [00:00<?, ?it/s]"
      ]
     },
     "metadata": {},
     "output_type": "display_data"
    },
    {
     "name": "stderr",
     "output_type": "stream",
     "text": [
      "Exception ignored in: Exception ignored in: <function _MultiProcessingDataLoaderIter.__del__ at 0x7fb7f1ac45e0><function _MultiProcessingDataLoaderIter.__del__ at 0x7fb7f1ac45e0>\n",
      "\n",
      "Traceback (most recent call last):\n",
      "  File \"/home/ml-stud15/anaconda3/envs/stable_env/lib/python3.9/site-packages/torch/utils/data/dataloader.py\", line 1479, in __del__\n",
      "Traceback (most recent call last):\n",
      "      File \"/home/ml-stud15/anaconda3/envs/stable_env/lib/python3.9/site-packages/torch/utils/data/dataloader.py\", line 1479, in __del__\n",
      "Exception ignored in: self._shutdown_workers()    <function _MultiProcessingDataLoaderIter.__del__ at 0x7fb7f1ac45e0>\n",
      "self._shutdown_workers()\n",
      "  File \"/home/ml-stud15/anaconda3/envs/stable_env/lib/python3.9/site-packages/torch/utils/data/dataloader.py\", line 1462, in _shutdown_workers\n",
      "\n",
      "Traceback (most recent call last):\n",
      "      File \"/home/ml-stud15/anaconda3/envs/stable_env/lib/python3.9/site-packages/torch/utils/data/dataloader.py\", line 1462, in _shutdown_workers\n",
      "if w.is_alive():  File \"/home/ml-stud15/anaconda3/envs/stable_env/lib/python3.9/site-packages/torch/utils/data/dataloader.py\", line 1479, in __del__\n",
      "    \n",
      "    if w.is_alive():  File \"/home/ml-stud15/anaconda3/envs/stable_env/lib/python3.9/multiprocessing/process.py\", line 160, in is_alive\n",
      "self._shutdown_workers()\n",
      "    \n",
      "  File \"/home/ml-stud15/anaconda3/envs/stable_env/lib/python3.9/multiprocessing/process.py\", line 160, in is_alive\n",
      "assert self._parent_pid == os.getpid(), 'can only test a child process'  File \"/home/ml-stud15/anaconda3/envs/stable_env/lib/python3.9/site-packages/torch/utils/data/dataloader.py\", line 1462, in _shutdown_workers\n",
      "    \n",
      "    assert self._parent_pid == os.getpid(), 'can only test a child process'AssertionErrorif w.is_alive():\n",
      ": \n",
      "can only test a child processAssertionError  File \"/home/ml-stud15/anaconda3/envs/stable_env/lib/python3.9/multiprocessing/process.py\", line 160, in is_alive\n",
      ": \n",
      "    can only test a child processassert self._parent_pid == os.getpid(), 'can only test a child process'Exception ignored in: \n",
      "\n",
      "<function _MultiProcessingDataLoaderIter.__del__ at 0x7fb7f1ac45e0>AssertionError\n",
      ": Traceback (most recent call last):\n",
      "can only test a child process  File \"/home/ml-stud15/anaconda3/envs/stable_env/lib/python3.9/site-packages/torch/utils/data/dataloader.py\", line 1479, in __del__\n",
      "\n",
      "    self._shutdown_workers()\n",
      "  File \"/home/ml-stud15/anaconda3/envs/stable_env/lib/python3.9/site-packages/torch/utils/data/dataloader.py\", line 1462, in _shutdown_workers\n",
      "    if w.is_alive():\n",
      "Exception ignored in: Exception ignored in:   File \"/home/ml-stud15/anaconda3/envs/stable_env/lib/python3.9/multiprocessing/process.py\", line 160, in is_alive\n",
      "<function _MultiProcessingDataLoaderIter.__del__ at 0x7fb7f1ac45e0><function _MultiProcessingDataLoaderIter.__del__ at 0x7fb7f1ac45e0>    \n",
      "\n",
      "assert self._parent_pid == os.getpid(), 'can only test a child process'Traceback (most recent call last):\n",
      "Traceback (most recent call last):\n",
      "\n",
      "  File \"/home/ml-stud15/anaconda3/envs/stable_env/lib/python3.9/site-packages/torch/utils/data/dataloader.py\", line 1479, in __del__\n",
      "AssertionError  File \"/home/ml-stud15/anaconda3/envs/stable_env/lib/python3.9/site-packages/torch/utils/data/dataloader.py\", line 1479, in __del__\n",
      "    :     self._shutdown_workers()self._shutdown_workers()can only test a child process\n",
      "\n",
      "\n",
      "  File \"/home/ml-stud15/anaconda3/envs/stable_env/lib/python3.9/site-packages/torch/utils/data/dataloader.py\", line 1462, in _shutdown_workers\n",
      "  File \"/home/ml-stud15/anaconda3/envs/stable_env/lib/python3.9/site-packages/torch/utils/data/dataloader.py\", line 1462, in _shutdown_workers\n",
      "        if w.is_alive():Exception ignored in: if w.is_alive():\n",
      "<function _MultiProcessingDataLoaderIter.__del__ at 0x7fb7f1ac45e0>\n",
      "  File \"/home/ml-stud15/anaconda3/envs/stable_env/lib/python3.9/multiprocessing/process.py\", line 160, in is_alive\n",
      "\n",
      "  File \"/home/ml-stud15/anaconda3/envs/stable_env/lib/python3.9/multiprocessing/process.py\", line 160, in is_alive\n",
      "    Traceback (most recent call last):\n",
      "    assert self._parent_pid == os.getpid(), 'can only test a child process'  File \"/home/ml-stud15/anaconda3/envs/stable_env/lib/python3.9/site-packages/torch/utils/data/dataloader.py\", line 1479, in __del__\n",
      "assert self._parent_pid == os.getpid(), 'can only test a child process'\n",
      "    \n",
      "AssertionErrorself._shutdown_workers()AssertionError: \n",
      ": can only test a child process  File \"/home/ml-stud15/anaconda3/envs/stable_env/lib/python3.9/site-packages/torch/utils/data/dataloader.py\", line 1462, in _shutdown_workers\n",
      "can only test a child process\n",
      "    \n",
      "if w.is_alive():Exception ignored in: <function _MultiProcessingDataLoaderIter.__del__ at 0x7fb7f1ac45e0>\n",
      "  File \"/home/ml-stud15/anaconda3/envs/stable_env/lib/python3.9/multiprocessing/process.py\", line 160, in is_alive\n",
      "\n",
      "    Traceback (most recent call last):\n",
      "assert self._parent_pid == os.getpid(), 'can only test a child process'  File \"/home/ml-stud15/anaconda3/envs/stable_env/lib/python3.9/site-packages/torch/utils/data/dataloader.py\", line 1479, in __del__\n",
      "\n",
      "AssertionError    : self._shutdown_workers()can only test a child process\n",
      "Exception ignored in: \n",
      "  File \"/home/ml-stud15/anaconda3/envs/stable_env/lib/python3.9/site-packages/torch/utils/data/dataloader.py\", line 1462, in _shutdown_workers\n",
      "<function _MultiProcessingDataLoaderIter.__del__ at 0x7fb7f1ac45e0>\n",
      "    Traceback (most recent call last):\n",
      "if w.is_alive():Exception ignored in:   File \"/home/ml-stud15/anaconda3/envs/stable_env/lib/python3.9/site-packages/torch/utils/data/dataloader.py\", line 1479, in __del__\n",
      "\n",
      "<function _MultiProcessingDataLoaderIter.__del__ at 0x7fb7f1ac45e0>  File \"/home/ml-stud15/anaconda3/envs/stable_env/lib/python3.9/multiprocessing/process.py\", line 160, in is_alive\n",
      "    \n",
      "self._shutdown_workers()    Traceback (most recent call last):\n",
      "\n",
      "assert self._parent_pid == os.getpid(), 'can only test a child process'  File \"/home/ml-stud15/anaconda3/envs/stable_env/lib/python3.9/site-packages/torch/utils/data/dataloader.py\", line 1479, in __del__\n",
      "  File \"/home/ml-stud15/anaconda3/envs/stable_env/lib/python3.9/site-packages/torch/utils/data/dataloader.py\", line 1462, in _shutdown_workers\n",
      "\n",
      "        AssertionErrorself._shutdown_workers()if w.is_alive():: \n",
      "\n",
      "can only test a child process  File \"/home/ml-stud15/anaconda3/envs/stable_env/lib/python3.9/site-packages/torch/utils/data/dataloader.py\", line 1462, in _shutdown_workers\n",
      "  File \"/home/ml-stud15/anaconda3/envs/stable_env/lib/python3.9/multiprocessing/process.py\", line 160, in is_alive\n",
      "\n",
      "        if w.is_alive():Exception ignored in: assert self._parent_pid == os.getpid(), 'can only test a child process'\n",
      "\n",
      "<function _MultiProcessingDataLoaderIter.__del__ at 0x7fb7f1ac45e0>  File \"/home/ml-stud15/anaconda3/envs/stable_env/lib/python3.9/multiprocessing/process.py\", line 160, in is_alive\n",
      "AssertionError\n",
      "    : Traceback (most recent call last):\n",
      "assert self._parent_pid == os.getpid(), 'can only test a child process'can only test a child process  File \"/home/ml-stud15/anaconda3/envs/stable_env/lib/python3.9/site-packages/torch/utils/data/dataloader.py\", line 1479, in __del__\n",
      "\n",
      "\n",
      "AssertionError    : self._shutdown_workers()can only test a child processException ignored in: <function _MultiProcessingDataLoaderIter.__del__ at 0x7fb7f1ac45e0>\n",
      "\n",
      "\n",
      "Traceback (most recent call last):\n",
      "  File \"/home/ml-stud15/anaconda3/envs/stable_env/lib/python3.9/site-packages/torch/utils/data/dataloader.py\", line 1462, in _shutdown_workers\n",
      "  File \"/home/ml-stud15/anaconda3/envs/stable_env/lib/python3.9/site-packages/torch/utils/data/dataloader.py\", line 1479, in __del__\n",
      "        if w.is_alive():self._shutdown_workers()\n",
      "\n",
      "  File \"/home/ml-stud15/anaconda3/envs/stable_env/lib/python3.9/multiprocessing/process.py\", line 160, in is_alive\n",
      "  File \"/home/ml-stud15/anaconda3/envs/stable_env/lib/python3.9/site-packages/torch/utils/data/dataloader.py\", line 1462, in _shutdown_workers\n",
      "    assert self._parent_pid == os.getpid(), 'can only test a child process'    \n",
      "Exception ignored in: if w.is_alive():AssertionError<function _MultiProcessingDataLoaderIter.__del__ at 0x7fb7f1ac45e0>\n",
      ": \n",
      "  File \"/home/ml-stud15/anaconda3/envs/stable_env/lib/python3.9/multiprocessing/process.py\", line 160, in is_alive\n",
      "can only test a child processTraceback (most recent call last):\n",
      "    \n",
      "  File \"/home/ml-stud15/anaconda3/envs/stable_env/lib/python3.9/site-packages/torch/utils/data/dataloader.py\", line 1479, in __del__\n",
      "assert self._parent_pid == os.getpid(), 'can only test a child process'\n",
      "    AssertionErrorself._shutdown_workers(): \n",
      "can only test a child process  File \"/home/ml-stud15/anaconda3/envs/stable_env/lib/python3.9/site-packages/torch/utils/data/dataloader.py\", line 1462, in _shutdown_workers\n",
      "\n",
      "    if w.is_alive():Exception ignored in: \n",
      "<function _MultiProcessingDataLoaderIter.__del__ at 0x7fb7f1ac45e0>  File \"/home/ml-stud15/anaconda3/envs/stable_env/lib/python3.9/multiprocessing/process.py\", line 160, in is_alive\n",
      "\n",
      "    assert self._parent_pid == os.getpid(), 'can only test a child process'\n",
      "Traceback (most recent call last):\n",
      "AssertionError  File \"/home/ml-stud15/anaconda3/envs/stable_env/lib/python3.9/site-packages/torch/utils/data/dataloader.py\", line 1479, in __del__\n",
      "Exception ignored in: : can only test a child process<function _MultiProcessingDataLoaderIter.__del__ at 0x7fb7f1ac45e0>    \n",
      "\n",
      "self._shutdown_workers()Traceback (most recent call last):\n",
      "\n",
      "  File \"/home/ml-stud15/anaconda3/envs/stable_env/lib/python3.9/site-packages/torch/utils/data/dataloader.py\", line 1479, in __del__\n",
      "  File \"/home/ml-stud15/anaconda3/envs/stable_env/lib/python3.9/site-packages/torch/utils/data/dataloader.py\", line 1462, in _shutdown_workers\n",
      "        self._shutdown_workers()if w.is_alive():\n",
      "\n",
      "  File \"/home/ml-stud15/anaconda3/envs/stable_env/lib/python3.9/site-packages/torch/utils/data/dataloader.py\", line 1462, in _shutdown_workers\n",
      "  File \"/home/ml-stud15/anaconda3/envs/stable_env/lib/python3.9/multiprocessing/process.py\", line 160, in is_alive\n",
      "        if w.is_alive():assert self._parent_pid == os.getpid(), 'can only test a child process'\n",
      "\n",
      "  File \"/home/ml-stud15/anaconda3/envs/stable_env/lib/python3.9/multiprocessing/process.py\", line 160, in is_alive\n",
      "AssertionError    : assert self._parent_pid == os.getpid(), 'can only test a child process'can only test a child process\n",
      "\n",
      "AssertionError: can only test a child process\n",
      "Exception ignored in: <function _MultiProcessingDataLoaderIter.__del__ at 0x7fb7f1ac45e0>\n",
      "Traceback (most recent call last):\n",
      "  File \"/home/ml-stud15/anaconda3/envs/stable_env/lib/python3.9/site-packages/torch/utils/data/dataloader.py\", line 1479, in __del__\n",
      "    self._shutdown_workers()\n",
      "  File \"/home/ml-stud15/anaconda3/envs/stable_env/lib/python3.9/site-packages/torch/utils/data/dataloader.py\", line 1462, in _shutdown_workers\n",
      "    if w.is_alive():\n",
      "  File \"/home/ml-stud15/anaconda3/envs/stable_env/lib/python3.9/multiprocessing/process.py\", line 160, in is_alive\n",
      "    assert self._parent_pid == os.getpid(), 'can only test a child process'\n",
      "AssertionError: can only test a child process\n",
      "Exception ignored in: <function _MultiProcessingDataLoaderIter.__del__ at 0x7fb7f1ac45e0>\n",
      "Traceback (most recent call last):\n",
      "  File \"/home/ml-stud15/anaconda3/envs/stable_env/lib/python3.9/site-packages/torch/utils/data/dataloader.py\", line 1479, in __del__\n",
      "    self._shutdown_workers()\n",
      "  File \"/home/ml-stud15/anaconda3/envs/stable_env/lib/python3.9/site-packages/torch/utils/data/dataloader.py\", line 1462, in _shutdown_workers\n",
      "    if w.is_alive():\n",
      "  File \"/home/ml-stud15/anaconda3/envs/stable_env/lib/python3.9/multiprocessing/process.py\", line 160, in is_alive\n",
      "    assert self._parent_pid == os.getpid(), 'can only test a child process'\n",
      "AssertionError: can only test a child process\n",
      "Exception ignored in: <function _MultiProcessingDataLoaderIter.__del__ at 0x7fb7f1ac45e0>\n",
      "Traceback (most recent call last):\n",
      "  File \"/home/ml-stud15/anaconda3/envs/stable_env/lib/python3.9/site-packages/torch/utils/data/dataloader.py\", line 1479, in __del__\n",
      "    self._shutdown_workers()\n",
      "  File \"/home/ml-stud15/anaconda3/envs/stable_env/lib/python3.9/site-packages/torch/utils/data/dataloader.py\", line 1462, in _shutdown_workers\n",
      "    if w.is_alive():\n",
      "  File \"/home/ml-stud15/anaconda3/envs/stable_env/lib/python3.9/multiprocessing/process.py\", line 160, in is_alive\n",
      "    assert self._parent_pid == os.getpid(), 'can only test a child process'\n",
      "AssertionError: can only test a child process\n",
      "Exception ignored in: <function _MultiProcessingDataLoaderIter.__del__ at 0x7fb7f1ac45e0>\n",
      "Traceback (most recent call last):\n",
      "  File \"/home/ml-stud15/anaconda3/envs/stable_env/lib/python3.9/site-packages/torch/utils/data/dataloader.py\", line 1479, in __del__\n",
      "    self._shutdown_workers()\n",
      "  File \"/home/ml-stud15/anaconda3/envs/stable_env/lib/python3.9/site-packages/torch/utils/data/dataloader.py\", line 1462, in _shutdown_workers\n",
      "    if w.is_alive():\n",
      "  File \"/home/ml-stud15/anaconda3/envs/stable_env/lib/python3.9/multiprocessing/process.py\", line 160, in is_alive\n",
      "    assert self._parent_pid == os.getpid(), 'can only test a child process'\n",
      "AssertionError: can only test a child process\n",
      "Exception ignored in: <function _MultiProcessingDataLoaderIter.__del__ at 0x7fb7f1ac45e0>\n",
      "Traceback (most recent call last):\n",
      "  File \"/home/ml-stud15/anaconda3/envs/stable_env/lib/python3.9/site-packages/torch/utils/data/dataloader.py\", line 1479, in __del__\n",
      "    self._shutdown_workers()\n",
      "  File \"/home/ml-stud15/anaconda3/envs/stable_env/lib/python3.9/site-packages/torch/utils/data/dataloader.py\", line 1462, in _shutdown_workers\n",
      "    if w.is_alive():\n",
      "  File \"/home/ml-stud15/anaconda3/envs/stable_env/lib/python3.9/multiprocessing/process.py\", line 160, in is_alive\n",
      "    assert self._parent_pid == os.getpid(), 'can only test a child process'\n",
      "AssertionError: can only test a child process\n"
     ]
    },
    {
     "name": "stdout",
     "output_type": "stream",
     "text": [
      "   EPOCH 14: 3.4392617026875443\n"
     ]
    },
    {
     "data": {
      "text/plain": [
       "GPT(\n",
       "  (tok_emb): Embedding(3300, 128)\n",
       "  (drop_emb): Dropout(p=0.1, inplace=False)\n",
       "  (blocks): ModuleList(\n",
       "    (0-3): 4 x TransformerBlock(\n",
       "      (norm1): LayerNorm((128,), eps=1e-05, elementwise_affine=True)\n",
       "      (norm2): LayerNorm((128,), eps=1e-05, elementwise_affine=True)\n",
       "      (drop): Dropout(p=0.1, inplace=False)\n",
       "      (attention): MultiheadAttention(\n",
       "        (out_proj): NonDynamicallyQuantizableLinear(in_features=128, out_features=128, bias=True)\n",
       "      )\n",
       "      (mlp): Sequential(\n",
       "        (0): Linear(in_features=128, out_features=512, bias=True)\n",
       "        (1): GELU(approximate='none')\n",
       "        (2): Linear(in_features=512, out_features=128, bias=True)\n",
       "        (3): Dropout(p=0.1, inplace=False)\n",
       "      )\n",
       "    )\n",
       "  )\n",
       "  (norm): LayerNorm((128,), eps=1e-05, elementwise_affine=True)\n",
       "  (head): EinLinear(n_models=33, in_features=128, out_features=100, bias=False)\n",
       ")"
      ]
     },
     "execution_count": 18,
     "metadata": {},
     "output_type": "execute_result"
    }
   ],
   "source": [
    "trainer.train(\n",
    "        model=model,\n",
    "        dataloader=dataloader,\n",
    "        num_epochs=num_epochs\n",
    "    )"
   ]
  },
  {
   "cell_type": "code",
   "execution_count": null,
   "id": "a61c2ad5-ad29-4ce4-930d-18c08ed0e3ac",
   "metadata": {},
   "outputs": [],
   "source": [
    "device "
   ]
  },
  {
   "cell_type": "code",
   "execution_count": null,
   "id": "9988f245-b463-4b80-9bc0-d9f7121f8451",
   "metadata": {},
   "outputs": [],
   "source": [
    "torch.cuda.is_available()"
   ]
  },
  {
   "cell_type": "code",
   "execution_count": null,
   "id": "7ca70c08-ffd6-4532-ad67-a6c87bcd2e02",
   "metadata": {},
   "outputs": [],
   "source": []
  }
 ],
 "metadata": {
  "kernelspec": {
   "display_name": "Python 3 (ipykernel)",
   "language": "python",
   "name": "python3"
  },
  "language_info": {
   "codemirror_mode": {
    "name": "ipython",
    "version": 3
   },
   "file_extension": ".py",
   "mimetype": "text/x-python",
   "name": "python",
   "nbconvert_exporter": "python",
   "pygments_lexer": "ipython3",
   "version": "3.9.12"
  }
 },
 "nbformat": 4,
 "nbformat_minor": 5
}
