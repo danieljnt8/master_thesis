{
 "cells": [
  {
   "cell_type": "code",
   "execution_count": 5,
   "id": "18117c4d-37a1-47ca-81fd-ef6bd6236444",
   "metadata": {},
   "outputs": [
    {
     "name": "stderr",
     "output_type": "stream",
     "text": [
      "Warning: Gym version v0.24.0 has a number of critical issues with `gym.make` such that the `reset` and `step` functions are called before returning the environment. It is recommend to downgrading to v0.23.1 or upgrading to v0.25.1\n",
      "/home/ml-stud15/anaconda3/envs/stable_env/lib/python3.9/site-packages/citylearn/citylearn.py:31: DeprecationWarning: private variables, such as '_EvaluationCondition__DEFAULT', will be normal attributes in 3.10\n",
      "  __DEFAULT = ''\n",
      "/home/ml-stud15/anaconda3/envs/stable_env/lib/python3.9/site-packages/citylearn/citylearn.py:32: DeprecationWarning: private variables, such as '_EvaluationCondition__STORAGE_SUFFIX', will be normal attributes in 3.10\n",
      "  __STORAGE_SUFFIX = '_without_storage'\n",
      "/home/ml-stud15/anaconda3/envs/stable_env/lib/python3.9/site-packages/citylearn/citylearn.py:33: DeprecationWarning: private variables, such as '_EvaluationCondition__PARTIAL_LOAD_SUFFIX', will be normal attributes in 3.10\n",
      "  __PARTIAL_LOAD_SUFFIX = '_and_partial_load'\n",
      "/home/ml-stud15/anaconda3/envs/stable_env/lib/python3.9/site-packages/citylearn/citylearn.py:34: DeprecationWarning: private variables, such as '_EvaluationCondition__PV_SUFFIX', will be normal attributes in 3.10\n",
      "  __PV_SUFFIX = '_and_pv'\n"
     ]
    }
   ],
   "source": [
    "import math\n",
    "import numpy as np\n",
    "import pandas as pd\n",
    "import random\n",
    "import re\n",
    "import requests\n",
    "import simplejson as json\n",
    "import os \n",
    "from typing import List, Mapping, Tuple\n",
    "from ipywidgets import IntProgress, Text, VBox\n",
    "\n",
    "# CityLearn\n",
    "from citylearn.agents.rbc import HourRBC\n",
    "from citylearn.agents.q_learning import TabularQLearning\n",
    "from citylearn.citylearn import CityLearnEnv\n",
    "from citylearn.data import DataSet\n",
    "from citylearn.reward_function import RewardFunction\n",
    "from citylearn.wrappers import NormalizedObservationWrapper\n",
    "from citylearn.wrappers import StableBaselines3Wrapper\n",
    "from citylearn.wrappers import TabularQLearningWrapper\n",
    "from omegaconf import OmegaConf\n",
    "\n",
    "# baseline RL algorithms\n",
    "from stable_baselines3 import SAC\n",
    "from stable_baselines3.common.callbacks import BaseCallback"
   ]
  },
  {
   "cell_type": "code",
   "execution_count": 6,
   "id": "1ef25e12-485a-4f02-a155-c73a7d5435cf",
   "metadata": {},
   "outputs": [],
   "source": [
    "import os\n",
    "import torch\n",
    "import argparse\n",
    "import numpy as np\n",
    "\n",
    "from tqdm.auto import trange\n",
    "from omegaconf import OmegaConf\n",
    "\n",
    "from stable_baselines3.common.vec_env import DummyVecEnv\n",
    "\n",
    "from trajectory.models.gpt import GPT\n",
    "from trajectory.utils.common import set_seed\n",
    "from trajectory.utils.env import create_env, rollout, vec_rollout\n",
    "from rewards.user_reward import SubmissionReward\n"
   ]
  },
  {
   "cell_type": "code",
   "execution_count": 7,
   "id": "3fd86a73-6821-4da4-933f-a5e70ad79466",
   "metadata": {},
   "outputs": [],
   "source": [
    "class WrapperEnv:\n",
    "    \"\"\"\n",
    "    Env to wrap provide Citylearn Env data without providing full env\n",
    "    Preventing attribute access outside the available functions\n",
    "    \"\"\"\n",
    "\n",
    "    def __init__(self, env_data):\n",
    "        self.observation_names = env_data['observation_names']\n",
    "        self.action_names = env_data['action_names']\n",
    "        self.observation_space = env_data['observation_space']\n",
    "        self.action_space = env_data['action_space']\n",
    "        self.time_steps = env_data['time_steps']\n",
    "        self.seconds_per_time_step = env_data['seconds_per_time_step']\n",
    "        self.random_seed = env_data['random_seed']\n",
    "        self.buildings_metadata = env_data['buildings_metadata']\n",
    "        self.episode_tracker = env_data['episode_tracker']\n",
    "\n",
    "    def get_metadata(self):\n",
    "        return {'buildings': self.buildings_metadata}\n",
    "\n",
    "\n",
    "def create_citylearn_env(SCHEMA, reward_function):\n",
    "    env = CityLearnEnv(SCHEMA, reward_function=reward_function)\n",
    "\n",
    "    env_data = dict(\n",
    "        observation_names=env.observation_names,\n",
    "        action_names=env.action_names,\n",
    "        observation_space=env.observation_space,\n",
    "        action_space=env.action_space,\n",
    "        time_steps=env.time_steps,\n",
    "        random_seed=None,\n",
    "        episode_tracker=None,\n",
    "        seconds_per_time_step=None,\n",
    "        buildings_metadata=env.get_metadata()['buildings']\n",
    "    )\n",
    "\n",
    "    wrapper_env = WrapperEnv(env_data)\n",
    "    return env, wrapper_env\n"
   ]
  },
  {
   "cell_type": "code",
   "execution_count": 8,
   "id": "4a458185-6885-41bd-9b4d-c07ed898645e",
   "metadata": {},
   "outputs": [],
   "source": [
    "device = \"cpu\""
   ]
  },
  {
   "cell_type": "code",
   "execution_count": 9,
   "id": "628d2a98-8d01-446c-ac5f-cf2ef2b18aef",
   "metadata": {},
   "outputs": [],
   "source": [
    "data_dir = './data/'\n",
    "SCHEMA = os.path.join(data_dir, 'schemas/warm_up/schema.json')"
   ]
  },
  {
   "cell_type": "code",
   "execution_count": 10,
   "id": "4c479a45-bace-45e0-90b0-eb8f5942d199",
   "metadata": {},
   "outputs": [],
   "source": [
    "schema =  \"citylearn_challenge_2022_phase_1\""
   ]
  },
  {
   "cell_type": "code",
   "execution_count": 11,
   "id": "648ef8c9-6710-40ac-965b-ae2d2e17b1fb",
   "metadata": {},
   "outputs": [],
   "source": [
    "checkpoints_path = 'checkpoints/city_learn/uniform/baseline'"
   ]
  },
  {
   "cell_type": "code",
   "execution_count": 12,
   "id": "bbae2713-71bd-4772-be1a-dbbdd6548a1b",
   "metadata": {},
   "outputs": [],
   "source": [
    "config = \"configs/eval_base.yaml\"\n",
    "config = OmegaConf.load(config)\n",
    "run_config = OmegaConf.load(os.path.join(checkpoints_path, \"config.yaml\"))"
   ]
  },
  {
   "cell_type": "code",
   "execution_count": 13,
   "id": "e13cd0b8-ce00-45e2-b9c2-eb157f7b0e3a",
   "metadata": {},
   "outputs": [],
   "source": [
    "beam_context = config.beam_context\n",
    "beam_width = config.beam_width\n",
    "beam_steps = config.beam_steps\n",
    "plan_every = config.plan_every\n",
    "sample_expand = config.sample_expand\n",
    "k_act = config.k_act\n",
    "k_obs = config.k_obs\n",
    "k_reward = config.k_reward\n",
    "temperature = config.temperature\n",
    "discount = config.discount,\n",
    "max_steps = 719"
   ]
  },
  {
   "cell_type": "code",
   "execution_count": 14,
   "id": "7fde3990-51d1-4510-b6c9-a24da1d7ba8e",
   "metadata": {
    "tags": []
   },
   "outputs": [],
   "source": [
    "discretizer = torch.load(os.path.join(checkpoints_path, \"discretizer.pt\"), map_location=device)\n"
   ]
  },
  {
   "cell_type": "code",
   "execution_count": 15,
   "id": "05806c61-8e7c-45a6-b5ae-6a623c226b85",
   "metadata": {},
   "outputs": [
    {
     "data": {
      "text/plain": [
       "<All keys matched successfully>"
      ]
     },
     "execution_count": 15,
     "metadata": {},
     "output_type": "execute_result"
    }
   ],
   "source": [
    "model = GPT(**run_config.model)\n",
    "model.eval()\n",
    "model.to(device)\n",
    "model.load_state_dict(torch.load(os.path.join(checkpoints_path, \"model_last.pt\"), map_location=device))"
   ]
  },
  {
   "cell_type": "code",
   "execution_count": null,
   "id": "609a55f6-ca40-4057-8586-11bf711150f5",
   "metadata": {},
   "outputs": [],
   "source": []
  },
  {
   "cell_type": "code",
   "execution_count": null,
   "id": "ec488715-a28a-4d9b-97e4-cf00017e0cda",
   "metadata": {},
   "outputs": [],
   "source": [
    "env,wrapped_env= create_citylearn_env(SCHEMA,SubmissionReward)"
   ]
  },
  {
   "cell_type": "code",
   "execution_count": null,
   "id": "92d9e749-0cab-41b1-aafa-c3bac21c63bd",
   "metadata": {},
   "outputs": [],
   "source": [
    "obs, _= env.reset()"
   ]
  },
  {
   "cell_type": "code",
   "execution_count": null,
   "id": "782bc32f-8d10-4c81-94a4-bce40473d112",
   "metadata": {},
   "outputs": [],
   "source": [
    "obs"
   ]
  },
  {
   "cell_type": "code",
   "execution_count": null,
   "id": "9c2303c8-fbc4-40f4-9f03-aa4397ecb36a",
   "metadata": {},
   "outputs": [],
   "source": [
    "env.reward_function = SubmissionReward(env)\n",
    "\n",
    "# -------------------- WRAP ENVIRONMENT --------------------\n",
    "env = NormalizedObservationWrapper(env)\n",
    "env = StableBaselines3Wrapper(env)\n"
   ]
  },
  {
   "cell_type": "code",
   "execution_count": null,
   "id": "cf91c6bd-f172-4b2a-bd64-3aded3483114",
   "metadata": {},
   "outputs": [],
   "source": [
    "obs,_= env.reset()"
   ]
  },
  {
   "cell_type": "code",
   "execution_count": null,
   "id": "f8c02e63-6a94-4607-bde2-5588fe96b334",
   "metadata": {},
   "outputs": [],
   "source": [
    "len(obs)"
   ]
  },
  {
   "cell_type": "code",
   "execution_count": null,
   "id": "bb50a52c-c78e-4933-982a-d183e32da1fd",
   "metadata": {},
   "outputs": [],
   "source": [
    "beam_steps = 3"
   ]
  },
  {
   "cell_type": "code",
   "execution_count": null,
   "id": "882a9b20-61a2-407a-8ae9-b54fdd14a4bc",
   "metadata": {},
   "outputs": [],
   "source": [
    "transition_dim, obs_dim, act_dim = model.transition_dim, model.observation_dim, model.action_dim\n",
    "    # trajectory of tokens for model action planning\n",
    "    # +1 just to avoid index error while updating context on the last step\n",
    "context = torch.zeros(1, model.transition_dim * (max_steps + 1), dtype=torch.long).to(device)"
   ]
  },
  {
   "cell_type": "code",
   "execution_count": null,
   "id": "b7d86f56-8666-4508-891d-e42c2bfe4e61",
   "metadata": {},
   "outputs": [],
   "source": [
    "context[0].shape"
   ]
  },
  {
   "cell_type": "code",
   "execution_count": null,
   "id": "c296be38-6417-4c3f-9ae9-299189402b17",
   "metadata": {},
   "outputs": [],
   "source": [
    "obs = env.reset()"
   ]
  },
  {
   "cell_type": "code",
   "execution_count": null,
   "id": "e4a993ff-a6bd-40cd-9f44-4c4cac254f98",
   "metadata": {},
   "outputs": [],
   "source": []
  }
 ],
 "metadata": {
  "kernelspec": {
   "display_name": "Python 3 (ipykernel)",
   "language": "python",
   "name": "python3"
  },
  "language_info": {
   "codemirror_mode": {
    "name": "ipython",
    "version": 3
   },
   "file_extension": ".py",
   "mimetype": "text/x-python",
   "name": "python",
   "nbconvert_exporter": "python",
   "pygments_lexer": "ipython3",
   "version": "3.9.12"
  }
 },
 "nbformat": 4,
 "nbformat_minor": 5
}
