{
 "cells": [
  {
   "cell_type": "code",
   "execution_count": 1,
   "id": "b40e6cf8-275c-4070-9d22-11873341a546",
   "metadata": {},
   "outputs": [
    {
     "name": "stderr",
     "output_type": "stream",
     "text": [
      "Warning: Gym version v0.24.0 has a number of critical issues with `gym.make` such that the `reset` and `step` functions are called before returning the environment. It is recommend to downgrading to v0.23.1 or upgrading to v0.25.1\n",
      "/home/ml-stud15/anaconda3/envs/stable_env/lib/python3.9/site-packages/citylearn/citylearn.py:31: DeprecationWarning: private variables, such as '_EvaluationCondition__DEFAULT', will be normal attributes in 3.10\n",
      "  __DEFAULT = ''\n",
      "/home/ml-stud15/anaconda3/envs/stable_env/lib/python3.9/site-packages/citylearn/citylearn.py:32: DeprecationWarning: private variables, such as '_EvaluationCondition__STORAGE_SUFFIX', will be normal attributes in 3.10\n",
      "  __STORAGE_SUFFIX = '_without_storage'\n",
      "/home/ml-stud15/anaconda3/envs/stable_env/lib/python3.9/site-packages/citylearn/citylearn.py:33: DeprecationWarning: private variables, such as '_EvaluationCondition__PARTIAL_LOAD_SUFFIX', will be normal attributes in 3.10\n",
      "  __PARTIAL_LOAD_SUFFIX = '_and_partial_load'\n",
      "/home/ml-stud15/anaconda3/envs/stable_env/lib/python3.9/site-packages/citylearn/citylearn.py:34: DeprecationWarning: private variables, such as '_EvaluationCondition__PV_SUFFIX', will be normal attributes in 3.10\n",
      "  __PV_SUFFIX = '_and_pv'\n"
     ]
    }
   ],
   "source": [
    "import os\n",
    "import torch\n",
    "import numpy as np\n",
    "import wandb\n",
    "\n",
    "import pickle\n",
    "from tqdm.auto import trange, tqdm\n",
    "from torch.utils.data import Dataset\n",
    "from dataclasses import dataclass\n",
    "from datasets import load_from_disk\n",
    "from omegaconf import OmegaConf\n",
    "\n",
    "from citylearn.agents.rbc import HourRBC\n",
    "from citylearn.agents.q_learning import TabularQLearning\n",
    "from citylearn.citylearn import CityLearnEnv\n",
    "from citylearn.data import DataSet\n",
    "from citylearn.reward_function import RewardFunction\n",
    "from citylearn.wrappers import NormalizedObservationWrapper\n",
    "from citylearn.wrappers import StableBaselines3Wrapper\n",
    "from citylearn.wrappers import TabularQLearningWrapper\n",
    "\n",
    "from stable_baselines3.a2c import A2C\n",
    "\n",
    "from torch.utils.data import DataLoader\n",
    "from trajectory.models.gpt import GPT, GPTTrainer\n",
    "\n",
    "from trajectory.utils.common import pad_along_axis\n",
    "from trajectory.utils.discretization import KBinsDiscretizer\n",
    "from trajectory.utils.env import create_env\n",
    "\n",
    "%matplotlib inline\n",
    "import matplotlib.pyplot as plt\n"
   ]
  },
  {
   "cell_type": "code",
   "execution_count": 2,
   "id": "80baffec-e634-4bc3-901f-304bb8701c7c",
   "metadata": {},
   "outputs": [],
   "source": [
    "offline_data_path = \"data_interactions/PPO/model_PPO_timesteps_100000_seed_572.pkl\""
   ]
  },
  {
   "cell_type": "code",
   "execution_count": 3,
   "id": "bbd8393c-4744-4f29-9d65-e6f7bee81a17",
   "metadata": {},
   "outputs": [],
   "source": [
    "dataset = load_from_disk(offline_data_path)"
   ]
  },
  {
   "cell_type": "code",
   "execution_count": 4,
   "id": "9fabcab7-d2f3-4cb7-928b-989f7ab6436b",
   "metadata": {},
   "outputs": [],
   "source": [
    "def join_trajectory(states, actions, rewards, discount=0.99):\n",
    "    traj_length = states.shape[0]\n",
    "    # I can vectorize this for all dataset as once,\n",
    "    # but better to be safe and do it once and slow and right (and cache it)\n",
    "    \n",
    "    if actions.ndim == 3 :\n",
    "        actions = actions.reshape(actions.shape[0],actions.shape[1])\n",
    "    \n",
    "    if rewards.ndim == 1 :\n",
    "        rewards = rewards.reshape(rewards.shape[0],1)\n",
    "        \n",
    "    print(\"Discount \"+str(discount))\n",
    "    discounts = (discount ** np.arange(traj_length))\n",
    "\n",
    "    values = np.zeros_like(rewards)\n",
    "    for t in range(traj_length):\n",
    "        # discounted return-to-go from state s_t:\n",
    "        # r_{t+1} + y * r_{t+2} + y^2 * r_{t+3} + ...\n",
    "        # .T as rewards of shape [len, 1], see https://github.com/Howuhh/faster-trajectory-transformer/issues/9\n",
    "        values[t] = (rewards[t + 1:].T * discounts[:-t - 1]).sum()\n",
    "    print(states.shape)\n",
    "    print(actions.shape)\n",
    "    print(rewards.shape)\n",
    "    print(values.shape)\n",
    "\n",
    "    joined_transition = np.concatenate([states, actions, rewards, values], axis=-1)\n",
    "\n",
    "    return joined_transition\n",
    "\n",
    "def segment(states, actions, rewards, terminals):\n",
    "    assert len(states) == len(terminals)\n",
    "    \n",
    "    trajectories = {}\n",
    "\n",
    "    episode_num = 0\n",
    "    for t in trange(len(terminals), desc=\"Segmenting\"):\n",
    "        if episode_num not in trajectories:\n",
    "            trajectories[episode_num] = {\n",
    "                \"states\": [],\n",
    "                \"actions\": [],\n",
    "                \"rewards\": []\n",
    "            }\n",
    "        \n",
    "        trajectories[episode_num][\"states\"].append(states[t])\n",
    "        trajectories[episode_num][\"actions\"].append(actions[t])\n",
    "        trajectories[episode_num][\"rewards\"].append(rewards[t])\n",
    "\n",
    "        if terminals[t]:\n",
    "            # next episode\n",
    "            episode_num = episode_num + 1\n",
    "\n",
    "    trajectories_lens = [len(v[\"states\"]) for k, v in trajectories.items()]\n",
    "\n",
    "    for t in trajectories:\n",
    "        trajectories[t][\"states\"] = np.stack(trajectories[t][\"states\"], axis=0)\n",
    "        trajectories[t][\"actions\"] = np.stack(trajectories[t][\"actions\"], axis=0)\n",
    "        trajectories[t][\"rewards\"] = np.stack(trajectories[t][\"rewards\"], axis=0)\n",
    "\n",
    "    return trajectories, trajectories_lens\n"
   ]
  },
  {
   "cell_type": "code",
   "execution_count": 5,
   "id": "962c1c07-0b48-4875-acda-5abee0f4f606",
   "metadata": {},
   "outputs": [
    {
     "data": {
      "application/vnd.jupyter.widget-view+json": {
       "model_id": "b2b202c9372046c197308b384d8a0655",
       "version_major": 2,
       "version_minor": 0
      },
      "text/plain": [
       "Segmenting:   0%|          | 0/100352 [00:00<?, ?it/s]"
      ]
     },
     "metadata": {},
     "output_type": "display_data"
    }
   ],
   "source": [
    "trajectories,traj_lengths = segment(dataset[\"observations\"],dataset[\"actions\"],dataset[\"rewards\"],dataset[\"dones\"])"
   ]
  },
  {
   "cell_type": "code",
   "execution_count": 14,
   "id": "ada91b0f-c042-4fb6-89b5-247af143d287",
   "metadata": {},
   "outputs": [
    {
     "data": {
      "text/plain": [
       "26"
      ]
     },
     "execution_count": 14,
     "metadata": {},
     "output_type": "execute_result"
    }
   ],
   "source": [
    "len(trajectories[0][\"states\"][0])"
   ]
  },
  {
   "cell_type": "code",
   "execution_count": 6,
   "id": "3af2dcc5-38c2-42cc-8523-aee7e471f0fb",
   "metadata": {},
   "outputs": [
    {
     "data": {
      "text/plain": [
       "array([[ -3.44464449],\n",
       "       [-11.90737871],\n",
       "       [ -5.21592383],\n",
       "       ...,\n",
       "       [-11.21602929],\n",
       "       [ -8.80495369],\n",
       "       [ -3.23890096]])"
      ]
     },
     "execution_count": 6,
     "metadata": {},
     "output_type": "execute_result"
    }
   ],
   "source": [
    "trajectories[0][\"rewards\"].reshape(8759,1)"
   ]
  },
  {
   "cell_type": "code",
   "execution_count": 7,
   "id": "13ba8684-edf1-4c1c-9549-eb1357488f81",
   "metadata": {},
   "outputs": [
    {
     "name": "stdout",
     "output_type": "stream",
     "text": [
      "Discount 0.99\n",
      "(8759, 26)\n",
      "(8759, 5)\n",
      "(8759, 1)\n",
      "(8759, 1)\n"
     ]
    }
   ],
   "source": [
    "joined= join_trajectory(trajectories[0][\"states\"], trajectories[0][\"actions\"], trajectories[0][\"rewards\"],discount = 0.99)"
   ]
  },
  {
   "cell_type": "code",
   "execution_count": 8,
   "id": "a41c7263-9a5e-46de-97d2-8ae268a05077",
   "metadata": {},
   "outputs": [],
   "source": [
    "class DiscretizedDataset(Dataset):\n",
    "    def __init__(self, dataset,env_name=\"city_learn\", num_bins=100, seq_len=10, discount=0.99, strategy=\"uniform\", cache_path=\"data\"):\n",
    "        self.seq_len = seq_len\n",
    "        self.discount = discount\n",
    "        self.num_bins = num_bins\n",
    "        self.dataset = dataset\n",
    "        self.env_name = env_name\n",
    "        \n",
    "        trajectories, traj_lengths = segment(self.dataset[\"observations\"],self.dataset[\"actions\"],self.dataset[\"rewards\"],self.dataset[\"dones\"])\n",
    "        self.trajectories = trajectories\n",
    "        self.traj_lengths = traj_lengths\n",
    "        self.cache_path = cache_path\n",
    "        self.cache_name = f\"{env_name}_{num_bins}_{seq_len}_{strategy}_{discount}\"\n",
    "        \n",
    "        self.joined_transitions = []\n",
    "        for t in tqdm(trajectories, desc=\"Joining transitions\"):\n",
    "            self.joined_transitions.append(\n",
    "                    join_trajectory(trajectories[t][\"states\"], trajectories[t][\"actions\"], trajectories[t][\"rewards\"],discount = self.discount)\n",
    "                )\n",
    "        \"\"\"\n",
    "        if cache_path is None or not os.path.exists(os.path.join(cache_path, self.cache_name)):\n",
    "            self.joined_transitions = []\n",
    "            for t in tqdm(trajectories, desc=\"Joining transitions\"):\n",
    "                self.joined_transitions.append(\n",
    "                    join_trajectory(trajectories[t][\"states\"], trajectories[t][\"actions\"], trajectories[t][\"rewards\"],discount = self.discount)\n",
    "                )\n",
    "\n",
    "            os.makedirs(os.path.join(cache_path), exist_ok=True)\n",
    "            # save cached version\n",
    "            with open(os.path.join(cache_path, self.cache_name), \"wb\") as f:\n",
    "                pickle.dump(self.joined_transitions, f)\n",
    "        else:\n",
    "            with open(os.path.join(cache_path, self.cache_name), \"rb\") as f:\n",
    "                self.joined_transitions = pickle.load(f)\n",
    "        \"\"\"\n",
    "\n",
    "        self.discretizer = KBinsDiscretizer(\n",
    "            np.concatenate(self.joined_transitions, axis=0),\n",
    "            num_bins=num_bins,\n",
    "            strategy=strategy\n",
    "        )\n",
    "\n",
    "        # get valid indices for seq_len sampling\n",
    "        indices = []\n",
    "        for path_ind, length in enumerate(traj_lengths):\n",
    "            end = length - 1\n",
    "            for i in range(end):\n",
    "                indices.append((path_ind, i, i + self.seq_len))\n",
    "        self.indices = np.array(indices)\n",
    "\n",
    "    def get_env_name(self):\n",
    "        return self.env.name\n",
    "\n",
    "    def get_discretizer(self):\n",
    "        return self.discretizer\n",
    "\n",
    "    def __len__(self):\n",
    "        return len(self.indices)\n",
    "\n",
    "    def __getitem__(self, idx):\n",
    "        #print(idx)\n",
    "        traj_idx, start_idx, end_idx = self.indices[idx]\n",
    "        \n",
    "        joined = self.joined_transitions[traj_idx][start_idx:end_idx]\n",
    "        \n",
    "\n",
    "        loss_pad_mask = np.ones((self.seq_len, joined.shape[-1]))\n",
    "        if joined.shape[0] < self.seq_len:\n",
    "            # pad to seq_len if at the end of trajectory, mask for padding\n",
    "            loss_pad_mask[joined.shape[0]:] = 0\n",
    "            joined = pad_along_axis(joined, pad_to=self.seq_len, axis=0)\n",
    "\n",
    "        joined_discrete = self.discretizer.encode(joined).reshape(-1).astype(np.longlong)\n",
    "        loss_pad_mask = loss_pad_mask.reshape(-1)\n",
    "\n",
    "        return joined_discrete[:-1], joined_discrete[1:], loss_pad_mask[:-1]\n"
   ]
  },
  {
   "cell_type": "code",
   "execution_count": 9,
   "id": "81e435b0-cdf2-49cb-9b7c-026cb722e839",
   "metadata": {},
   "outputs": [
    {
     "name": "stderr",
     "output_type": "stream",
     "text": [
      "/home/ml-stud15/anaconda3/envs/stable_env/lib/python3.9/site-packages/notebook/utils.py:280: DeprecationWarning: distutils Version classes are deprecated. Use packaging.version instead.\n",
      "  return LooseVersion(v) >= LooseVersion(check)\n"
     ]
    }
   ],
   "source": [
    "config = OmegaConf.load(\"configs/medium/city_learn.yaml\")\n",
    "wandb.init(\n",
    "        **config.wandb,\n",
    "        config=dict(OmegaConf.to_container(config, resolve=True))\n",
    "    )\n",
    "device = \"cuda:0\""
   ]
  },
  {
   "cell_type": "code",
   "execution_count": 10,
   "id": "25748ab5-7790-4465-8a6f-5e542d8f7eae",
   "metadata": {},
   "outputs": [
    {
     "data": {
      "application/vnd.jupyter.widget-view+json": {
       "model_id": "878ef40d55704ee482ac178de6d0d908",
       "version_major": 2,
       "version_minor": 0
      },
      "text/plain": [
       "Segmenting:   0%|          | 0/100352 [00:00<?, ?it/s]"
      ]
     },
     "metadata": {},
     "output_type": "display_data"
    },
    {
     "data": {
      "application/vnd.jupyter.widget-view+json": {
       "model_id": "0873266a7dd84b18b554a9613343b87b",
       "version_major": 2,
       "version_minor": 0
      },
      "text/plain": [
       "Joining transitions:   0%|          | 0/12 [00:00<?, ?it/s]"
      ]
     },
     "metadata": {},
     "output_type": "display_data"
    },
    {
     "name": "stdout",
     "output_type": "stream",
     "text": [
      "Discount 0.99\n",
      "(8759, 26)\n",
      "(8759, 5)\n",
      "(8759, 1)\n",
      "(8759, 1)\n",
      "Discount 0.99\n",
      "(8759, 26)\n",
      "(8759, 5)\n",
      "(8759, 1)\n",
      "(8759, 1)\n",
      "Discount 0.99\n",
      "(8759, 26)\n",
      "(8759, 5)\n",
      "(8759, 1)\n",
      "(8759, 1)\n",
      "Discount 0.99\n",
      "(8759, 26)\n",
      "(8759, 5)\n",
      "(8759, 1)\n",
      "(8759, 1)\n",
      "Discount 0.99\n",
      "(8759, 26)\n",
      "(8759, 5)\n",
      "(8759, 1)\n",
      "(8759, 1)\n",
      "Discount 0.99\n",
      "(8759, 26)\n",
      "(8759, 5)\n",
      "(8759, 1)\n",
      "(8759, 1)\n",
      "Discount 0.99\n",
      "(8759, 26)\n",
      "(8759, 5)\n",
      "(8759, 1)\n",
      "(8759, 1)\n",
      "Discount 0.99\n",
      "(8759, 26)\n",
      "(8759, 5)\n",
      "(8759, 1)\n",
      "(8759, 1)\n",
      "Discount 0.99\n",
      "(8759, 26)\n",
      "(8759, 5)\n",
      "(8759, 1)\n",
      "(8759, 1)\n",
      "Discount 0.99\n",
      "(8759, 26)\n",
      "(8759, 5)\n",
      "(8759, 1)\n",
      "(8759, 1)\n",
      "Discount 0.99\n",
      "(8759, 26)\n",
      "(8759, 5)\n",
      "(8759, 1)\n",
      "(8759, 1)\n",
      "Discount 0.99\n",
      "(4003, 26)\n",
      "(4003, 5)\n",
      "(4003, 1)\n",
      "(4003, 1)\n"
     ]
    }
   ],
   "source": [
    "datasets = DiscretizedDataset(dataset,discount = 0.99)"
   ]
  },
  {
   "cell_type": "code",
   "execution_count": 11,
   "id": "4c555029-ab15-4ab9-bece-d90901c78ab9",
   "metadata": {},
   "outputs": [
    {
     "data": {
      "text/plain": [
       "(33,)"
      ]
     },
     "execution_count": 11,
     "metadata": {},
     "output_type": "execute_result"
    }
   ],
   "source": [
    "datasets.joined_transitions[0][0].shape"
   ]
  },
  {
   "cell_type": "code",
   "execution_count": 12,
   "id": "1d19225b-8c50-40c3-8be3-c7c0ffe884ce",
   "metadata": {},
   "outputs": [],
   "source": [
    "batch_size = 64\n",
    "dataloader = DataLoader(datasets, batch_size=batch_size, shuffle=True, num_workers=8, pin_memory=True)\n"
   ]
  },
  {
   "cell_type": "code",
   "execution_count": 15,
   "id": "5d2d8f80-83ba-4bc3-a985-2a5576cfc23a",
   "metadata": {},
   "outputs": [
    {
     "name": "stdout",
     "output_type": "stream",
     "text": [
      "torch.Size([64, 329])\n"
     ]
    }
   ],
   "source": [
    "for batch in dataloader:\n",
    "    print(batch[0].size())\n",
    "    break"
   ]
  },
  {
   "cell_type": "markdown",
   "id": "8078e505-fc06-4d1a-a102-72a023e33eea",
   "metadata": {},
   "source": [
    "### Training Part"
   ]
  },
  {
   "cell_type": "code",
   "execution_count": 13,
   "id": "058987b4-f81a-459b-a98e-545fabe31436",
   "metadata": {},
   "outputs": [],
   "source": [
    "path = \"configs/medium/city_learn.yaml\"\n",
    "config = OmegaConf.load(\"configs/medium/city_learn_traj.yaml\")\n",
    "trainer_conf = config.trainer\n",
    "data_conf = config.dataset"
   ]
  },
  {
   "cell_type": "code",
   "execution_count": 14,
   "id": "975d455c-aec7-47a1-b9cc-3162be60b684",
   "metadata": {},
   "outputs": [
    {
     "data": {
      "text/plain": [
       "GPT(\n",
       "  (tok_emb): Embedding(3300, 128)\n",
       "  (drop_emb): Dropout(p=0.1, inplace=False)\n",
       "  (blocks): ModuleList(\n",
       "    (0-3): 4 x TransformerBlock(\n",
       "      (norm1): LayerNorm((128,), eps=1e-05, elementwise_affine=True)\n",
       "      (norm2): LayerNorm((128,), eps=1e-05, elementwise_affine=True)\n",
       "      (drop): Dropout(p=0.1, inplace=False)\n",
       "      (attention): MultiheadAttention(\n",
       "        (out_proj): NonDynamicallyQuantizableLinear(in_features=128, out_features=128, bias=True)\n",
       "      )\n",
       "      (mlp): Sequential(\n",
       "        (0): Linear(in_features=128, out_features=512, bias=True)\n",
       "        (1): GELU(approximate='none')\n",
       "        (2): Linear(in_features=512, out_features=128, bias=True)\n",
       "        (3): Dropout(p=0.1, inplace=False)\n",
       "      )\n",
       "    )\n",
       "  )\n",
       "  (norm): LayerNorm((128,), eps=1e-05, elementwise_affine=True)\n",
       "  (head): EinLinear(n_models=33, in_features=128, out_features=100, bias=False)\n",
       ")"
      ]
     },
     "execution_count": 14,
     "metadata": {},
     "output_type": "execute_result"
    }
   ],
   "source": [
    "model = GPT(**config.model)\n",
    "model.to(device)"
   ]
  },
  {
   "cell_type": "code",
   "execution_count": 15,
   "id": "aa6de591-511a-41b4-ac02-5c7db52a142f",
   "metadata": {},
   "outputs": [],
   "source": [
    "num_epochs = int(3e4 / len(datasets) * trainer_conf.num_epochs_ref)\n",
    "\n",
    "warmup_tokens = len(datasets) * data_conf.seq_len * config.model.transition_dim\n",
    "final_tokens = warmup_tokens * num_epochs"
   ]
  },
  {
   "cell_type": "code",
   "execution_count": 16,
   "id": "46f42e3e-37cb-4ae6-90a8-d1443eeffc9c",
   "metadata": {},
   "outputs": [
    {
     "data": {
      "text/plain": [
       "14"
      ]
     },
     "execution_count": 16,
     "metadata": {},
     "output_type": "execute_result"
    }
   ],
   "source": [
    "num_epochs"
   ]
  },
  {
   "cell_type": "code",
   "execution_count": 17,
   "id": "dc3b1ad2-36ff-40f8-a247-0d053b4e14a6",
   "metadata": {},
   "outputs": [],
   "source": [
    "trainer = GPTTrainer(\n",
    "        final_tokens=final_tokens,\n",
    "        warmup_tokens=warmup_tokens,\n",
    "        action_weight=trainer_conf.action_weight,\n",
    "        value_weight=trainer_conf.value_weight,\n",
    "        reward_weight=trainer_conf.reward_weight,\n",
    "        learning_rate=trainer_conf.lr,\n",
    "        betas=trainer_conf.betas,\n",
    "        weight_decay=trainer_conf.weight_decay,\n",
    "        clip_grad=trainer_conf.clip_grad,\n",
    "        eval_seed=trainer_conf.eval_seed,\n",
    "        eval_every=trainer_conf.eval_every,\n",
    "        eval_episodes=trainer_conf.eval_episodes,\n",
    "        eval_temperature=trainer_conf.eval_temperature,\n",
    "        eval_discount=trainer_conf.eval_discount,\n",
    "        eval_plan_every=trainer_conf.eval_plan_every,\n",
    "        eval_beam_width=trainer_conf.eval_beam_width,\n",
    "        eval_beam_steps=trainer_conf.eval_beam_steps,\n",
    "        eval_beam_context=trainer_conf.eval_beam_context,\n",
    "        eval_sample_expand=trainer_conf.eval_sample_expand,\n",
    "        eval_k_obs=trainer_conf.eval_k_obs,  # as in original implementation\n",
    "        eval_k_reward=trainer_conf.eval_k_reward,\n",
    "        eval_k_act=trainer_conf.eval_k_act,\n",
    "        checkpoints_path=trainer_conf.checkpoints_path,\n",
    "        save_every=1,\n",
    "        device=device\n",
    "    )"
   ]
  },
  {
   "cell_type": "code",
   "execution_count": 18,
   "id": "3aadc9e6-ab84-4996-9de8-1eee7a2ace7f",
   "metadata": {},
   "outputs": [
    {
     "data": {
      "application/vnd.jupyter.widget-view+json": {
       "model_id": "5f774210efbd43abb5ef2ef0138b95b0",
       "version_major": 2,
       "version_minor": 0
      },
      "text/plain": [
       "Training:   0%|          | 0/14 [00:00<?, ?it/s]"
      ]
     },
     "metadata": {},
     "output_type": "display_data"
    },
    {
     "data": {
      "application/vnd.jupyter.widget-view+json": {
       "model_id": "",
       "version_major": 2,
       "version_minor": 0
      },
      "text/plain": [
       "Epoch:   0%|          | 0/1568 [00:00<?, ?it/s]"
      ]
     },
     "metadata": {},
     "output_type": "display_data"
    },
    {
     "name": "stdout",
     "output_type": "stream",
     "text": [
      "   EPOCH 1: 5.208583519399168\n"
     ]
    },
    {
     "data": {
      "application/vnd.jupyter.widget-view+json": {
       "model_id": "",
       "version_major": 2,
       "version_minor": 0
      },
      "text/plain": [
       "Epoch:   0%|          | 0/1568 [00:00<?, ?it/s]"
      ]
     },
     "metadata": {},
     "output_type": "display_data"
    },
    {
     "name": "stdout",
     "output_type": "stream",
     "text": [
      "   EPOCH 2: 4.204621164260852\n"
     ]
    },
    {
     "data": {
      "application/vnd.jupyter.widget-view+json": {
       "model_id": "",
       "version_major": 2,
       "version_minor": 0
      },
      "text/plain": [
       "Epoch:   0%|          | 0/1568 [01:20<?, ?it/s]"
      ]
     },
     "metadata": {},
     "output_type": "display_data"
    },
    {
     "name": "stderr",
     "output_type": "stream",
     "text": [
      "Exception ignored in: Exception ignored in: <function _MultiProcessingDataLoaderIter.__del__ at 0x7fb7f1ac45e0>\n",
      "<function _MultiProcessingDataLoaderIter.__del__ at 0x7fb7f1ac45e0>Exception ignored in: Traceback (most recent call last):\n",
      "\n",
      "  File \"/home/ml-stud15/anaconda3/envs/stable_env/lib/python3.9/site-packages/torch/utils/data/dataloader.py\", line 1479, in __del__\n",
      "<function _MultiProcessingDataLoaderIter.__del__ at 0x7fb7f1ac45e0>Traceback (most recent call last):\n",
      "    \n",
      "  File \"/home/ml-stud15/anaconda3/envs/stable_env/lib/python3.9/site-packages/torch/utils/data/dataloader.py\", line 1479, in __del__\n",
      "self._shutdown_workers()Traceback (most recent call last):\n",
      "\n",
      "      File \"/home/ml-stud15/anaconda3/envs/stable_env/lib/python3.9/site-packages/torch/utils/data/dataloader.py\", line 1479, in __del__\n",
      "  File \"/home/ml-stud15/anaconda3/envs/stable_env/lib/python3.9/site-packages/torch/utils/data/dataloader.py\", line 1462, in _shutdown_workers\n",
      "self._shutdown_workers()        \n",
      "if w.is_alive():self._shutdown_workers()\n",
      "  File \"/home/ml-stud15/anaconda3/envs/stable_env/lib/python3.9/site-packages/torch/utils/data/dataloader.py\", line 1462, in _shutdown_workers\n",
      "\n",
      "  File \"/home/ml-stud15/anaconda3/envs/stable_env/lib/python3.9/multiprocessing/process.py\", line 160, in is_alive\n",
      "      File \"/home/ml-stud15/anaconda3/envs/stable_env/lib/python3.9/site-packages/torch/utils/data/dataloader.py\", line 1462, in _shutdown_workers\n",
      "    assert self._parent_pid == os.getpid(), 'can only test a child process'    \n",
      "if w.is_alive():if w.is_alive():AssertionError\n",
      "\n",
      ":   File \"/home/ml-stud15/anaconda3/envs/stable_env/lib/python3.9/multiprocessing/process.py\", line 160, in is_alive\n",
      "can only test a child process  File \"/home/ml-stud15/anaconda3/envs/stable_env/lib/python3.9/multiprocessing/process.py\", line 160, in is_alive\n",
      "\n",
      "        assert self._parent_pid == os.getpid(), 'can only test a child process'assert self._parent_pid == os.getpid(), 'can only test a child process'\n",
      "\n",
      "Exception ignored in: AssertionErrorAssertionError<function _MultiProcessingDataLoaderIter.__del__ at 0x7fb7f1ac45e0>: : \n",
      "can only test a child processTraceback (most recent call last):\n",
      "can only test a child process\n",
      "  File \"/home/ml-stud15/anaconda3/envs/stable_env/lib/python3.9/site-packages/torch/utils/data/dataloader.py\", line 1479, in __del__\n",
      "\n",
      "    self._shutdown_workers()\n",
      "  File \"/home/ml-stud15/anaconda3/envs/stable_env/lib/python3.9/site-packages/torch/utils/data/dataloader.py\", line 1462, in _shutdown_workers\n",
      "Exception ignored in: Exception ignored in: <function _MultiProcessingDataLoaderIter.__del__ at 0x7fb7f1ac45e0><function _MultiProcessingDataLoaderIter.__del__ at 0x7fb7f1ac45e0>    \n",
      "if w.is_alive():\n",
      "Traceback (most recent call last):\n",
      "\n",
      "Traceback (most recent call last):\n",
      "  File \"/home/ml-stud15/anaconda3/envs/stable_env/lib/python3.9/site-packages/torch/utils/data/dataloader.py\", line 1479, in __del__\n",
      "  File \"/home/ml-stud15/anaconda3/envs/stable_env/lib/python3.9/multiprocessing/process.py\", line 160, in is_alive\n",
      "  File \"/home/ml-stud15/anaconda3/envs/stable_env/lib/python3.9/site-packages/torch/utils/data/dataloader.py\", line 1479, in __del__\n",
      "        assert self._parent_pid == os.getpid(), 'can only test a child process'    self._shutdown_workers()\n",
      "self._shutdown_workers()AssertionError\n",
      ": \n",
      "  File \"/home/ml-stud15/anaconda3/envs/stable_env/lib/python3.9/site-packages/torch/utils/data/dataloader.py\", line 1462, in _shutdown_workers\n",
      "can only test a child process  File \"/home/ml-stud15/anaconda3/envs/stable_env/lib/python3.9/site-packages/torch/utils/data/dataloader.py\", line 1462, in _shutdown_workers\n",
      "\n",
      "        if w.is_alive():if w.is_alive():\n",
      "  File \"/home/ml-stud15/anaconda3/envs/stable_env/lib/python3.9/multiprocessing/process.py\", line 160, in is_alive\n",
      "\n",
      "      File \"/home/ml-stud15/anaconda3/envs/stable_env/lib/python3.9/multiprocessing/process.py\", line 160, in is_alive\n",
      "assert self._parent_pid == os.getpid(), 'can only test a child process'    \n",
      "assert self._parent_pid == os.getpid(), 'can only test a child process'AssertionError\n",
      ": can only test a child processAssertionError\n",
      ": can only test a child process\n"
     ]
    },
    {
     "name": "stdout",
     "output_type": "stream",
     "text": [
      "   EPOCH 3: 3.937248721385705\n"
     ]
    },
    {
     "data": {
      "application/vnd.jupyter.widget-view+json": {
       "model_id": "",
       "version_major": 2,
       "version_minor": 0
      },
      "text/plain": [
       "Epoch:   0%|          | 0/1568 [00:00<?, ?it/s]"
      ]
     },
     "metadata": {},
     "output_type": "display_data"
    },
    {
     "name": "stdout",
     "output_type": "stream",
     "text": [
      "   EPOCH 4: 3.7893836208994514\n"
     ]
    },
    {
     "data": {
      "application/vnd.jupyter.widget-view+json": {
       "model_id": "",
       "version_major": 2,
       "version_minor": 0
      },
      "text/plain": [
       "Epoch:   0%|          | 0/1568 [00:00<?, ?it/s]"
      ]
     },
     "metadata": {},
     "output_type": "display_data"
    },
    {
     "name": "stdout",
     "output_type": "stream",
     "text": [
      "   EPOCH 5: 3.70218578502506\n"
     ]
    },
    {
     "data": {
      "application/vnd.jupyter.widget-view+json": {
       "model_id": "",
       "version_major": 2,
       "version_minor": 0
      },
      "text/plain": [
       "Epoch:   0%|          | 0/1568 [00:00<?, ?it/s]"
      ]
     },
     "metadata": {},
     "output_type": "display_data"
    },
    {
     "name": "stdout",
     "output_type": "stream",
     "text": [
      "   EPOCH 6: 3.642668913940583\n"
     ]
    },
    {
     "data": {
      "application/vnd.jupyter.widget-view+json": {
       "model_id": "",
       "version_major": 2,
       "version_minor": 0
      },
      "text/plain": [
       "Epoch:   0%|          | 0/1568 [00:00<?, ?it/s]"
      ]
     },
     "metadata": {},
     "output_type": "display_data"
    },
    {
     "name": "stdout",
     "output_type": "stream",
     "text": [
      "   EPOCH 7: 3.59653997517662\n"
     ]
    },
    {
     "data": {
      "application/vnd.jupyter.widget-view+json": {
       "model_id": "",
       "version_major": 2,
       "version_minor": 0
      },
      "text/plain": [
       "Epoch:   0%|          | 0/1568 [00:00<?, ?it/s]"
      ]
     },
     "metadata": {},
     "output_type": "display_data"
    },
    {
     "name": "stderr",
     "output_type": "stream",
     "text": [
      "Exception ignored in: <function _MultiProcessingDataLoaderIter.__del__ at 0x7fb7f1ac45e0>\n",
      "Traceback (most recent call last):\n",
      "  File \"/home/ml-stud15/anaconda3/envs/stable_env/lib/python3.9/site-packages/torch/utils/data/dataloader.py\", line 1479, in __del__\n",
      "    self._shutdown_workers()\n",
      "  File \"/home/ml-stud15/anaconda3/envs/stable_env/lib/python3.9/site-packages/torch/utils/data/dataloader.py\", line 1462, in _shutdown_workers\n",
      "    if w.is_alive():\n",
      "  File \"/home/ml-stud15/anaconda3/envs/stable_env/lib/python3.9/multiprocessing/process.py\", line 160, in is_alive\n",
      "    assert self._parent_pid == os.getpid(), 'can only test a child process'\n",
      "AssertionError: can only test a child process\n",
      "Exception ignored in: <function _MultiProcessingDataLoaderIter.__del__ at 0x7fb7f1ac45e0>\n",
      "Traceback (most recent call last):\n",
      "  File \"/home/ml-stud15/anaconda3/envs/stable_env/lib/python3.9/site-packages/torch/utils/data/dataloader.py\", line 1479, in __del__\n",
      "    self._shutdown_workers()\n",
      "  File \"/home/ml-stud15/anaconda3/envs/stable_env/lib/python3.9/site-packages/torch/utils/data/dataloader.py\", line 1462, in _shutdown_workers\n",
      "    if w.is_alive():\n",
      "  File \"/home/ml-stud15/anaconda3/envs/stable_env/lib/python3.9/multiprocessing/process.py\", line 160, in is_alive\n",
      "    assert self._parent_pid == os.getpid(), 'can only test a child process'\n",
      "AssertionError: can only test a child process\n",
      "Exception ignored in: <function _MultiProcessingDataLoaderIter.__del__ at 0x7fb7f1ac45e0>\n",
      "Traceback (most recent call last):\n",
      "  File \"/home/ml-stud15/anaconda3/envs/stable_env/lib/python3.9/site-packages/torch/utils/data/dataloader.py\", line 1479, in __del__\n",
      "    self._shutdown_workers()\n",
      "  File \"/home/ml-stud15/anaconda3/envs/stable_env/lib/python3.9/site-packages/torch/utils/data/dataloader.py\", line 1462, in _shutdown_workers\n",
      "    if w.is_alive():\n",
      "  File \"/home/ml-stud15/anaconda3/envs/stable_env/lib/python3.9/multiprocessing/process.py\", line 160, in is_alive\n",
      "    assert self._parent_pid == os.getpid(), 'can only test a child process'\n",
      "AssertionError: can only test a child process\n",
      "Exception ignored in: <function _MultiProcessingDataLoaderIter.__del__ at 0x7fb7f1ac45e0>\n",
      "Traceback (most recent call last):\n",
      "  File \"/home/ml-stud15/anaconda3/envs/stable_env/lib/python3.9/site-packages/torch/utils/data/dataloader.py\", line 1479, in __del__\n",
      "    self._shutdown_workers()\n",
      "  File \"/home/ml-stud15/anaconda3/envs/stable_env/lib/python3.9/site-packages/torch/utils/data/dataloader.py\", line 1462, in _shutdown_workers\n",
      "    if w.is_alive():\n",
      "  File \"/home/ml-stud15/anaconda3/envs/stable_env/lib/python3.9/multiprocessing/process.py\", line 160, in is_alive\n",
      "    assert self._parent_pid == os.getpid(), 'can only test a child process'\n",
      "AssertionError: can only test a child process\n",
      "Exception ignored in: <function _MultiProcessingDataLoaderIter.__del__ at 0x7fb7f1ac45e0>\n",
      "Traceback (most recent call last):\n",
      "  File \"/home/ml-stud15/anaconda3/envs/stable_env/lib/python3.9/site-packages/torch/utils/data/dataloader.py\", line 1479, in __del__\n",
      "    self._shutdown_workers()\n",
      "  File \"/home/ml-stud15/anaconda3/envs/stable_env/lib/python3.9/site-packages/torch/utils/data/dataloader.py\", line 1462, in _shutdown_workers\n",
      "    if w.is_alive():\n",
      "  File \"/home/ml-stud15/anaconda3/envs/stable_env/lib/python3.9/multiprocessing/process.py\", line 160, in is_alive\n",
      "    assert self._parent_pid == os.getpid(), 'can only test a child process'\n",
      "AssertionError: \n",
      "can only test a child processException ignored in: <function _MultiProcessingDataLoaderIter.__del__ at 0x7fb7f1ac45e0>\n",
      "Traceback (most recent call last):\n",
      "  File \"/home/ml-stud15/anaconda3/envs/stable_env/lib/python3.9/site-packages/torch/utils/data/dataloader.py\", line 1479, in __del__\n",
      "    self._shutdown_workers()\n",
      "  File \"/home/ml-stud15/anaconda3/envs/stable_env/lib/python3.9/site-packages/torch/utils/data/dataloader.py\", line 1462, in _shutdown_workers\n",
      "    if w.is_alive():\n",
      "  File \"/home/ml-stud15/anaconda3/envs/stable_env/lib/python3.9/multiprocessing/process.py\", line 160, in is_alive\n",
      "    assert self._parent_pid == os.getpid(), 'can only test a child process'\n",
      "AssertionError: can only test a child process\n",
      "Exception ignored in: <function _MultiProcessingDataLoaderIter.__del__ at 0x7fb7f1ac45e0>\n",
      "Traceback (most recent call last):\n",
      "  File \"/home/ml-stud15/anaconda3/envs/stable_env/lib/python3.9/site-packages/torch/utils/data/dataloader.py\", line 1479, in __del__\n",
      "    self._shutdown_workers()\n",
      "  File \"/home/ml-stud15/anaconda3/envs/stable_env/lib/python3.9/site-packages/torch/utils/data/dataloader.py\", line 1462, in _shutdown_workers\n",
      "    if w.is_alive():\n",
      "  File \"/home/ml-stud15/anaconda3/envs/stable_env/lib/python3.9/multiprocessing/process.py\", line 160, in is_alive\n",
      "    assert self._parent_pid == os.getpid(), 'can only test a child process'\n",
      "AssertionError: can only test a child process\n",
      "Exception ignored in: <function _MultiProcessingDataLoaderIter.__del__ at 0x7fb7f1ac45e0>\n",
      "Traceback (most recent call last):\n",
      "  File \"/home/ml-stud15/anaconda3/envs/stable_env/lib/python3.9/site-packages/torch/utils/data/dataloader.py\", line 1479, in __del__\n",
      "    self._shutdown_workers()\n",
      "  File \"/home/ml-stud15/anaconda3/envs/stable_env/lib/python3.9/site-packages/torch/utils/data/dataloader.py\", line 1462, in _shutdown_workers\n",
      "    if w.is_alive():\n",
      "  File \"/home/ml-stud15/anaconda3/envs/stable_env/lib/python3.9/multiprocessing/process.py\", line 160, in is_alive\n",
      "    assert self._parent_pid == os.getpid(), 'can only test a child process'\n",
      "AssertionError: can only test a child process\n"
     ]
    },
    {
     "name": "stdout",
     "output_type": "stream",
     "text": [
      "   EPOCH 8: 3.5569109584974266\n"
     ]
    },
    {
     "data": {
      "application/vnd.jupyter.widget-view+json": {
       "model_id": "",
       "version_major": 2,
       "version_minor": 0
      },
      "text/plain": [
       "Epoch:   0%|          | 0/1568 [00:00<?, ?it/s]"
      ]
     },
     "metadata": {},
     "output_type": "display_data"
    },
    {
     "name": "stdout",
     "output_type": "stream",
     "text": [
      "   EPOCH 9: 3.5215758410977123\n"
     ]
    },
    {
     "data": {
      "application/vnd.jupyter.widget-view+json": {
       "model_id": "",
       "version_major": 2,
       "version_minor": 0
      },
      "text/plain": [
       "Epoch:   0%|          | 0/1568 [00:00<?, ?it/s]"
      ]
     },
     "metadata": {},
     "output_type": "display_data"
    },
    {
     "name": "stdout",
     "output_type": "stream",
     "text": [
      "   EPOCH 10: 3.4915563310790403\n"
     ]
    },
    {
     "data": {
      "application/vnd.jupyter.widget-view+json": {
       "model_id": "",
       "version_major": 2,
       "version_minor": 0
      },
      "text/plain": [
       "Epoch:   0%|          | 0/1568 [00:00<?, ?it/s]"
      ]
     },
     "metadata": {},
     "output_type": "display_data"
    },
    {
     "name": "stdout",
     "output_type": "stream",
     "text": [
      "   EPOCH 11: 3.467680165991402\n"
     ]
    },
    {
     "data": {
      "application/vnd.jupyter.widget-view+json": {
       "model_id": "",
       "version_major": 2,
       "version_minor": 0
      },
      "text/plain": [
       "Epoch:   0%|          | 0/1568 [00:00<?, ?it/s]"
      ]
     },
     "metadata": {},
     "output_type": "display_data"
    },
    {
     "name": "stdout",
     "output_type": "stream",
     "text": [
      "   EPOCH 12: 3.4512651699067414\n"
     ]
    },
    {
     "data": {
      "application/vnd.jupyter.widget-view+json": {
       "model_id": "",
       "version_major": 2,
       "version_minor": 0
      },
      "text/plain": [
       "Epoch:   0%|          | 0/1568 [00:00<?, ?it/s]"
      ]
     },
     "metadata": {},
     "output_type": "display_data"
    },
    {
     "name": "stderr",
     "output_type": "stream",
     "text": [
      "Exception ignored in: <function _MultiProcessingDataLoaderIter.__del__ at 0x7fb7f1ac45e0>\n",
      "Traceback (most recent call last):\n",
      "  File \"/home/ml-stud15/anaconda3/envs/stable_env/lib/python3.9/site-packages/torch/utils/data/dataloader.py\", line 1479, in __del__\n",
      "    self._shutdown_workers()\n",
      "  File \"/home/ml-stud15/anaconda3/envs/stable_env/lib/python3.9/site-packages/torch/utils/data/dataloader.py\", line 1462, in _shutdown_workers\n",
      "    if w.is_alive():\n",
      "  File \"/home/ml-stud15/anaconda3/envs/stable_env/lib/python3.9/multiprocessing/process.py\", line 160, in is_alive\n",
      "    assert self._parent_pid == os.getpid(), 'can only test a child process'\n",
      "AssertionError: can only test a child process\n",
      "Exception ignored in: <function _MultiProcessingDataLoaderIter.__del__ at 0x7fb7f1ac45e0>\n",
      "Traceback (most recent call last):\n",
      "  File \"/home/ml-stud15/anaconda3/envs/stable_env/lib/python3.9/site-packages/torch/utils/data/dataloader.py\", line 1479, in __del__\n",
      "    self._shutdown_workers()\n",
      "  File \"/home/ml-stud15/anaconda3/envs/stable_env/lib/python3.9/site-packages/torch/utils/data/dataloader.py\", line 1462, in _shutdown_workers\n",
      "    if w.is_alive():\n",
      "  File \"/home/ml-stud15/anaconda3/envs/stable_env/lib/python3.9/multiprocessing/process.py\", line 160, in is_alive\n",
      "    assert self._parent_pid == os.getpid(), 'can only test a child process'\n",
      "AssertionError: can only test a child process\n",
      "Exception ignored in: <function _MultiProcessingDataLoaderIter.__del__ at 0x7fb7f1ac45e0>\n",
      "Traceback (most recent call last):\n",
      "  File \"/home/ml-stud15/anaconda3/envs/stable_env/lib/python3.9/site-packages/torch/utils/data/dataloader.py\", line 1479, in __del__\n",
      "    self._shutdown_workers()\n",
      "  File \"/home/ml-stud15/anaconda3/envs/stable_env/lib/python3.9/site-packages/torch/utils/data/dataloader.py\", line 1462, in _shutdown_workers\n",
      "    if w.is_alive():\n",
      "  File \"/home/ml-stud15/anaconda3/envs/stable_env/lib/python3.9/multiprocessing/process.py\", line 160, in is_alive\n",
      "    assert self._parent_pid == os.getpid(), 'can only test a child process'\n",
      "AssertionError: can only test a child process\n",
      "Exception ignored in: <function _MultiProcessingDataLoaderIter.__del__ at 0x7fb7f1ac45e0>\n",
      "Traceback (most recent call last):\n",
      "  File \"/home/ml-stud15/anaconda3/envs/stable_env/lib/python3.9/site-packages/torch/utils/data/dataloader.py\", line 1479, in __del__\n",
      "    self._shutdown_workers()\n",
      "  File \"/home/ml-stud15/anaconda3/envs/stable_env/lib/python3.9/site-packages/torch/utils/data/dataloader.py\", line 1462, in _shutdown_workers\n",
      "    if w.is_alive():\n",
      "  File \"/home/ml-stud15/anaconda3/envs/stable_env/lib/python3.9/multiprocessing/process.py\", line 160, in is_alive\n",
      "    assert self._parent_pid == os.getpid(), 'can only test a child process'\n",
      "AssertionError: can only test a child process\n",
      "Exception ignored in: <function _MultiProcessingDataLoaderIter.__del__ at 0x7fb7f1ac45e0>\n",
      "Traceback (most recent call last):\n",
      "  File \"/home/ml-stud15/anaconda3/envs/stable_env/lib/python3.9/site-packages/torch/utils/data/dataloader.py\", line 1479, in __del__\n",
      "    self._shutdown_workers()\n",
      "  File \"/home/ml-stud15/anaconda3/envs/stable_env/lib/python3.9/site-packages/torch/utils/data/dataloader.py\", line 1462, in _shutdown_workers\n",
      "    if w.is_alive():\n",
      "  File \"/home/ml-stud15/anaconda3/envs/stable_env/lib/python3.9/multiprocessing/process.py\", line 160, in is_alive\n",
      "    assert self._parent_pid == os.getpid(), 'can only test a child process'\n",
      "AssertionError: can only test a child process\n",
      "Exception ignored in: <function _MultiProcessingDataLoaderIter.__del__ at 0x7fb7f1ac45e0>\n",
      "Traceback (most recent call last):\n",
      "  File \"/home/ml-stud15/anaconda3/envs/stable_env/lib/python3.9/site-packages/torch/utils/data/dataloader.py\", line 1479, in __del__\n",
      "    self._shutdown_workers()\n",
      "  File \"/home/ml-stud15/anaconda3/envs/stable_env/lib/python3.9/site-packages/torch/utils/data/dataloader.py\", line 1462, in _shutdown_workers\n",
      "    if w.is_alive():\n",
      "  File \"/home/ml-stud15/anaconda3/envs/stable_env/lib/python3.9/multiprocessing/process.py\", line 160, in is_alive\n",
      "    assert self._parent_pid == os.getpid(), 'can only test a child process'\n",
      "AssertionError: can only test a child process\n",
      "Exception ignored in: <function _MultiProcessingDataLoaderIter.__del__ at 0x7fb7f1ac45e0>\n",
      "Traceback (most recent call last):\n",
      "  File \"/home/ml-stud15/anaconda3/envs/stable_env/lib/python3.9/site-packages/torch/utils/data/dataloader.py\", line 1479, in __del__\n",
      "    self._shutdown_workers()\n",
      "  File \"/home/ml-stud15/anaconda3/envs/stable_env/lib/python3.9/site-packages/torch/utils/data/dataloader.py\", line 1462, in _shutdown_workers\n",
      "    if w.is_alive():\n",
      "  File \"/home/ml-stud15/anaconda3/envs/stable_env/lib/python3.9/multiprocessing/process.py\", line 160, in is_alive\n",
      "    assert self._parent_pid == os.getpid(), 'can only test a child process'\n",
      "AssertionError: can only test a child process\n",
      "Exception ignored in: <function _MultiProcessingDataLoaderIter.__del__ at 0x7fb7f1ac45e0>\n",
      "Traceback (most recent call last):\n",
      "  File \"/home/ml-stud15/anaconda3/envs/stable_env/lib/python3.9/site-packages/torch/utils/data/dataloader.py\", line 1479, in __del__\n",
      "    self._shutdown_workers()\n",
      "  File \"/home/ml-stud15/anaconda3/envs/stable_env/lib/python3.9/site-packages/torch/utils/data/dataloader.py\", line 1462, in _shutdown_workers\n",
      "    if w.is_alive():\n",
      "  File \"/home/ml-stud15/anaconda3/envs/stable_env/lib/python3.9/multiprocessing/process.py\", line 160, in is_alive\n",
      "    assert self._parent_pid == os.getpid(), 'can only test a child process'\n",
      "AssertionError: can only test a child process\n"
     ]
    },
    {
     "name": "stdout",
     "output_type": "stream",
     "text": [
      "   EPOCH 13: 3.444154729218725\n"
     ]
    },
    {
     "data": {
      "application/vnd.jupyter.widget-view+json": {
       "model_id": "",
       "version_major": 2,
       "version_minor": 0
      },
      "text/plain": [
       "Epoch:   0%|          | 0/1568 [00:00<?, ?it/s]"
      ]
     },
     "metadata": {},
     "output_type": "display_data"
    },
    {
     "name": "stderr",
     "output_type": "stream",
     "text": [
      "Exception ignored in: Exception ignored in: <function _MultiProcessingDataLoaderIter.__del__ at 0x7fb7f1ac45e0><function _MultiProcessingDataLoaderIter.__del__ at 0x7fb7f1ac45e0>\n",
      "\n",
      "Traceback (most recent call last):\n",
      "  File \"/home/ml-stud15/anaconda3/envs/stable_env/lib/python3.9/site-packages/torch/utils/data/dataloader.py\", line 1479, in __del__\n",
      "Traceback (most recent call last):\n",
      "      File \"/home/ml-stud15/anaconda3/envs/stable_env/lib/python3.9/site-packages/torch/utils/data/dataloader.py\", line 1479, in __del__\n",
      "Exception ignored in: self._shutdown_workers()    <function _MultiProcessingDataLoaderIter.__del__ at 0x7fb7f1ac45e0>\n",
      "self._shutdown_workers()\n",
      "  File \"/home/ml-stud15/anaconda3/envs/stable_env/lib/python3.9/site-packages/torch/utils/data/dataloader.py\", line 1462, in _shutdown_workers\n",
      "\n",
      "Traceback (most recent call last):\n",
      "      File \"/home/ml-stud15/anaconda3/envs/stable_env/lib/python3.9/site-packages/torch/utils/data/dataloader.py\", line 1462, in _shutdown_workers\n",
      "if w.is_alive():  File \"/home/ml-stud15/anaconda3/envs/stable_env/lib/python3.9/site-packages/torch/utils/data/dataloader.py\", line 1479, in __del__\n",
      "    \n",
      "    if w.is_alive():  File \"/home/ml-stud15/anaconda3/envs/stable_env/lib/python3.9/multiprocessing/process.py\", line 160, in is_alive\n",
      "self._shutdown_workers()\n",
      "    \n",
      "  File \"/home/ml-stud15/anaconda3/envs/stable_env/lib/python3.9/multiprocessing/process.py\", line 160, in is_alive\n",
      "assert self._parent_pid == os.getpid(), 'can only test a child process'  File \"/home/ml-stud15/anaconda3/envs/stable_env/lib/python3.9/site-packages/torch/utils/data/dataloader.py\", line 1462, in _shutdown_workers\n",
      "    \n",
      "    assert self._parent_pid == os.getpid(), 'can only test a child process'AssertionErrorif w.is_alive():\n",
      ": \n",
      "can only test a child processAssertionError  File \"/home/ml-stud15/anaconda3/envs/stable_env/lib/python3.9/multiprocessing/process.py\", line 160, in is_alive\n",
      ": \n",
      "    can only test a child processassert self._parent_pid == os.getpid(), 'can only test a child process'Exception ignored in: \n",
      "\n",
      "<function _MultiProcessingDataLoaderIter.__del__ at 0x7fb7f1ac45e0>AssertionError\n",
      ": Traceback (most recent call last):\n",
      "can only test a child process  File \"/home/ml-stud15/anaconda3/envs/stable_env/lib/python3.9/site-packages/torch/utils/data/dataloader.py\", line 1479, in __del__\n",
      "\n",
      "    self._shutdown_workers()\n",
      "  File \"/home/ml-stud15/anaconda3/envs/stable_env/lib/python3.9/site-packages/torch/utils/data/dataloader.py\", line 1462, in _shutdown_workers\n",
      "    if w.is_alive():\n",
      "Exception ignored in: Exception ignored in:   File \"/home/ml-stud15/anaconda3/envs/stable_env/lib/python3.9/multiprocessing/process.py\", line 160, in is_alive\n",
      "<function _MultiProcessingDataLoaderIter.__del__ at 0x7fb7f1ac45e0><function _MultiProcessingDataLoaderIter.__del__ at 0x7fb7f1ac45e0>    \n",
      "\n",
      "assert self._parent_pid == os.getpid(), 'can only test a child process'Traceback (most recent call last):\n",
      "Traceback (most recent call last):\n",
      "\n",
      "  File \"/home/ml-stud15/anaconda3/envs/stable_env/lib/python3.9/site-packages/torch/utils/data/dataloader.py\", line 1479, in __del__\n",
      "AssertionError  File \"/home/ml-stud15/anaconda3/envs/stable_env/lib/python3.9/site-packages/torch/utils/data/dataloader.py\", line 1479, in __del__\n",
      "    :     self._shutdown_workers()self._shutdown_workers()can only test a child process\n",
      "\n",
      "\n",
      "  File \"/home/ml-stud15/anaconda3/envs/stable_env/lib/python3.9/site-packages/torch/utils/data/dataloader.py\", line 1462, in _shutdown_workers\n",
      "  File \"/home/ml-stud15/anaconda3/envs/stable_env/lib/python3.9/site-packages/torch/utils/data/dataloader.py\", line 1462, in _shutdown_workers\n",
      "        if w.is_alive():Exception ignored in: if w.is_alive():\n",
      "<function _MultiProcessingDataLoaderIter.__del__ at 0x7fb7f1ac45e0>\n",
      "  File \"/home/ml-stud15/anaconda3/envs/stable_env/lib/python3.9/multiprocessing/process.py\", line 160, in is_alive\n",
      "\n",
      "  File \"/home/ml-stud15/anaconda3/envs/stable_env/lib/python3.9/multiprocessing/process.py\", line 160, in is_alive\n",
      "    Traceback (most recent call last):\n",
      "    assert self._parent_pid == os.getpid(), 'can only test a child process'  File \"/home/ml-stud15/anaconda3/envs/stable_env/lib/python3.9/site-packages/torch/utils/data/dataloader.py\", line 1479, in __del__\n",
      "assert self._parent_pid == os.getpid(), 'can only test a child process'\n",
      "    \n",
      "AssertionErrorself._shutdown_workers()AssertionError: \n",
      ": can only test a child process  File \"/home/ml-stud15/anaconda3/envs/stable_env/lib/python3.9/site-packages/torch/utils/data/dataloader.py\", line 1462, in _shutdown_workers\n",
      "can only test a child process\n",
      "    \n",
      "if w.is_alive():Exception ignored in: <function _MultiProcessingDataLoaderIter.__del__ at 0x7fb7f1ac45e0>\n",
      "  File \"/home/ml-stud15/anaconda3/envs/stable_env/lib/python3.9/multiprocessing/process.py\", line 160, in is_alive\n",
      "\n",
      "    Traceback (most recent call last):\n",
      "assert self._parent_pid == os.getpid(), 'can only test a child process'  File \"/home/ml-stud15/anaconda3/envs/stable_env/lib/python3.9/site-packages/torch/utils/data/dataloader.py\", line 1479, in __del__\n",
      "\n",
      "AssertionError    : self._shutdown_workers()can only test a child process\n",
      "Exception ignored in: \n",
      "  File \"/home/ml-stud15/anaconda3/envs/stable_env/lib/python3.9/site-packages/torch/utils/data/dataloader.py\", line 1462, in _shutdown_workers\n",
      "<function _MultiProcessingDataLoaderIter.__del__ at 0x7fb7f1ac45e0>\n",
      "    Traceback (most recent call last):\n",
      "if w.is_alive():Exception ignored in:   File \"/home/ml-stud15/anaconda3/envs/stable_env/lib/python3.9/site-packages/torch/utils/data/dataloader.py\", line 1479, in __del__\n",
      "\n",
      "<function _MultiProcessingDataLoaderIter.__del__ at 0x7fb7f1ac45e0>  File \"/home/ml-stud15/anaconda3/envs/stable_env/lib/python3.9/multiprocessing/process.py\", line 160, in is_alive\n",
      "    \n",
      "self._shutdown_workers()    Traceback (most recent call last):\n",
      "\n",
      "assert self._parent_pid == os.getpid(), 'can only test a child process'  File \"/home/ml-stud15/anaconda3/envs/stable_env/lib/python3.9/site-packages/torch/utils/data/dataloader.py\", line 1479, in __del__\n",
      "  File \"/home/ml-stud15/anaconda3/envs/stable_env/lib/python3.9/site-packages/torch/utils/data/dataloader.py\", line 1462, in _shutdown_workers\n",
      "\n",
      "        AssertionErrorself._shutdown_workers()if w.is_alive():: \n",
      "\n",
      "can only test a child process  File \"/home/ml-stud15/anaconda3/envs/stable_env/lib/python3.9/site-packages/torch/utils/data/dataloader.py\", line 1462, in _shutdown_workers\n",
      "  File \"/home/ml-stud15/anaconda3/envs/stable_env/lib/python3.9/multiprocessing/process.py\", line 160, in is_alive\n",
      "\n",
      "        if w.is_alive():Exception ignored in: assert self._parent_pid == os.getpid(), 'can only test a child process'\n",
      "\n",
      "<function _MultiProcessingDataLoaderIter.__del__ at 0x7fb7f1ac45e0>  File \"/home/ml-stud15/anaconda3/envs/stable_env/lib/python3.9/multiprocessing/process.py\", line 160, in is_alive\n",
      "AssertionError\n",
      "    : Traceback (most recent call last):\n",
      "assert self._parent_pid == os.getpid(), 'can only test a child process'can only test a child process  File \"/home/ml-stud15/anaconda3/envs/stable_env/lib/python3.9/site-packages/torch/utils/data/dataloader.py\", line 1479, in __del__\n",
      "\n",
      "\n",
      "AssertionError    : self._shutdown_workers()can only test a child processException ignored in: <function _MultiProcessingDataLoaderIter.__del__ at 0x7fb7f1ac45e0>\n",
      "\n",
      "\n",
      "Traceback (most recent call last):\n",
      "  File \"/home/ml-stud15/anaconda3/envs/stable_env/lib/python3.9/site-packages/torch/utils/data/dataloader.py\", line 1462, in _shutdown_workers\n",
      "  File \"/home/ml-stud15/anaconda3/envs/stable_env/lib/python3.9/site-packages/torch/utils/data/dataloader.py\", line 1479, in __del__\n",
      "        if w.is_alive():self._shutdown_workers()\n",
      "\n",
      "  File \"/home/ml-stud15/anaconda3/envs/stable_env/lib/python3.9/multiprocessing/process.py\", line 160, in is_alive\n",
      "  File \"/home/ml-stud15/anaconda3/envs/stable_env/lib/python3.9/site-packages/torch/utils/data/dataloader.py\", line 1462, in _shutdown_workers\n",
      "    assert self._parent_pid == os.getpid(), 'can only test a child process'    \n",
      "Exception ignored in: if w.is_alive():AssertionError<function _MultiProcessingDataLoaderIter.__del__ at 0x7fb7f1ac45e0>\n",
      ": \n",
      "  File \"/home/ml-stud15/anaconda3/envs/stable_env/lib/python3.9/multiprocessing/process.py\", line 160, in is_alive\n",
      "can only test a child processTraceback (most recent call last):\n",
      "    \n",
      "  File \"/home/ml-stud15/anaconda3/envs/stable_env/lib/python3.9/site-packages/torch/utils/data/dataloader.py\", line 1479, in __del__\n",
      "assert self._parent_pid == os.getpid(), 'can only test a child process'\n",
      "    AssertionErrorself._shutdown_workers(): \n",
      "can only test a child process  File \"/home/ml-stud15/anaconda3/envs/stable_env/lib/python3.9/site-packages/torch/utils/data/dataloader.py\", line 1462, in _shutdown_workers\n",
      "\n",
      "    if w.is_alive():Exception ignored in: \n",
      "<function _MultiProcessingDataLoaderIter.__del__ at 0x7fb7f1ac45e0>  File \"/home/ml-stud15/anaconda3/envs/stable_env/lib/python3.9/multiprocessing/process.py\", line 160, in is_alive\n",
      "\n",
      "    assert self._parent_pid == os.getpid(), 'can only test a child process'\n",
      "Traceback (most recent call last):\n",
      "AssertionError  File \"/home/ml-stud15/anaconda3/envs/stable_env/lib/python3.9/site-packages/torch/utils/data/dataloader.py\", line 1479, in __del__\n",
      "Exception ignored in: : can only test a child process<function _MultiProcessingDataLoaderIter.__del__ at 0x7fb7f1ac45e0>    \n",
      "\n",
      "self._shutdown_workers()Traceback (most recent call last):\n",
      "\n",
      "  File \"/home/ml-stud15/anaconda3/envs/stable_env/lib/python3.9/site-packages/torch/utils/data/dataloader.py\", line 1479, in __del__\n",
      "  File \"/home/ml-stud15/anaconda3/envs/stable_env/lib/python3.9/site-packages/torch/utils/data/dataloader.py\", line 1462, in _shutdown_workers\n",
      "        self._shutdown_workers()if w.is_alive():\n",
      "\n",
      "  File \"/home/ml-stud15/anaconda3/envs/stable_env/lib/python3.9/site-packages/torch/utils/data/dataloader.py\", line 1462, in _shutdown_workers\n",
      "  File \"/home/ml-stud15/anaconda3/envs/stable_env/lib/python3.9/multiprocessing/process.py\", line 160, in is_alive\n",
      "        if w.is_alive():assert self._parent_pid == os.getpid(), 'can only test a child process'\n",
      "\n",
      "  File \"/home/ml-stud15/anaconda3/envs/stable_env/lib/python3.9/multiprocessing/process.py\", line 160, in is_alive\n",
      "AssertionError    : assert self._parent_pid == os.getpid(), 'can only test a child process'can only test a child process\n",
      "\n",
      "AssertionError: can only test a child process\n",
      "Exception ignored in: <function _MultiProcessingDataLoaderIter.__del__ at 0x7fb7f1ac45e0>\n",
      "Traceback (most recent call last):\n",
      "  File \"/home/ml-stud15/anaconda3/envs/stable_env/lib/python3.9/site-packages/torch/utils/data/dataloader.py\", line 1479, in __del__\n",
      "    self._shutdown_workers()\n",
      "  File \"/home/ml-stud15/anaconda3/envs/stable_env/lib/python3.9/site-packages/torch/utils/data/dataloader.py\", line 1462, in _shutdown_workers\n",
      "    if w.is_alive():\n",
      "  File \"/home/ml-stud15/anaconda3/envs/stable_env/lib/python3.9/multiprocessing/process.py\", line 160, in is_alive\n",
      "    assert self._parent_pid == os.getpid(), 'can only test a child process'\n",
      "AssertionError: can only test a child process\n",
      "Exception ignored in: <function _MultiProcessingDataLoaderIter.__del__ at 0x7fb7f1ac45e0>\n",
      "Traceback (most recent call last):\n",
      "  File \"/home/ml-stud15/anaconda3/envs/stable_env/lib/python3.9/site-packages/torch/utils/data/dataloader.py\", line 1479, in __del__\n",
      "    self._shutdown_workers()\n",
      "  File \"/home/ml-stud15/anaconda3/envs/stable_env/lib/python3.9/site-packages/torch/utils/data/dataloader.py\", line 1462, in _shutdown_workers\n",
      "    if w.is_alive():\n",
      "  File \"/home/ml-stud15/anaconda3/envs/stable_env/lib/python3.9/multiprocessing/process.py\", line 160, in is_alive\n",
      "    assert self._parent_pid == os.getpid(), 'can only test a child process'\n",
      "AssertionError: can only test a child process\n",
      "Exception ignored in: <function _MultiProcessingDataLoaderIter.__del__ at 0x7fb7f1ac45e0>\n",
      "Traceback (most recent call last):\n",
      "  File \"/home/ml-stud15/anaconda3/envs/stable_env/lib/python3.9/site-packages/torch/utils/data/dataloader.py\", line 1479, in __del__\n",
      "    self._shutdown_workers()\n",
      "  File \"/home/ml-stud15/anaconda3/envs/stable_env/lib/python3.9/site-packages/torch/utils/data/dataloader.py\", line 1462, in _shutdown_workers\n",
      "    if w.is_alive():\n",
      "  File \"/home/ml-stud15/anaconda3/envs/stable_env/lib/python3.9/multiprocessing/process.py\", line 160, in is_alive\n",
      "    assert self._parent_pid == os.getpid(), 'can only test a child process'\n",
      "AssertionError: can only test a child process\n",
      "Exception ignored in: <function _MultiProcessingDataLoaderIter.__del__ at 0x7fb7f1ac45e0>\n",
      "Traceback (most recent call last):\n",
      "  File \"/home/ml-stud15/anaconda3/envs/stable_env/lib/python3.9/site-packages/torch/utils/data/dataloader.py\", line 1479, in __del__\n",
      "    self._shutdown_workers()\n",
      "  File \"/home/ml-stud15/anaconda3/envs/stable_env/lib/python3.9/site-packages/torch/utils/data/dataloader.py\", line 1462, in _shutdown_workers\n",
      "    if w.is_alive():\n",
      "  File \"/home/ml-stud15/anaconda3/envs/stable_env/lib/python3.9/multiprocessing/process.py\", line 160, in is_alive\n",
      "    assert self._parent_pid == os.getpid(), 'can only test a child process'\n",
      "AssertionError: can only test a child process\n",
      "Exception ignored in: <function _MultiProcessingDataLoaderIter.__del__ at 0x7fb7f1ac45e0>\n",
      "Traceback (most recent call last):\n",
      "  File \"/home/ml-stud15/anaconda3/envs/stable_env/lib/python3.9/site-packages/torch/utils/data/dataloader.py\", line 1479, in __del__\n",
      "    self._shutdown_workers()\n",
      "  File \"/home/ml-stud15/anaconda3/envs/stable_env/lib/python3.9/site-packages/torch/utils/data/dataloader.py\", line 1462, in _shutdown_workers\n",
      "    if w.is_alive():\n",
      "  File \"/home/ml-stud15/anaconda3/envs/stable_env/lib/python3.9/multiprocessing/process.py\", line 160, in is_alive\n",
      "    assert self._parent_pid == os.getpid(), 'can only test a child process'\n",
      "AssertionError: can only test a child process\n"
     ]
    },
    {
     "name": "stdout",
     "output_type": "stream",
     "text": [
      "   EPOCH 14: 3.4392617026875443\n"
     ]
    },
    {
     "data": {
      "text/plain": [
       "GPT(\n",
       "  (tok_emb): Embedding(3300, 128)\n",
       "  (drop_emb): Dropout(p=0.1, inplace=False)\n",
       "  (blocks): ModuleList(\n",
       "    (0-3): 4 x TransformerBlock(\n",
       "      (norm1): LayerNorm((128,), eps=1e-05, elementwise_affine=True)\n",
       "      (norm2): LayerNorm((128,), eps=1e-05, elementwise_affine=True)\n",
       "      (drop): Dropout(p=0.1, inplace=False)\n",
       "      (attention): MultiheadAttention(\n",
       "        (out_proj): NonDynamicallyQuantizableLinear(in_features=128, out_features=128, bias=True)\n",
       "      )\n",
       "      (mlp): Sequential(\n",
       "        (0): Linear(in_features=128, out_features=512, bias=True)\n",
       "        (1): GELU(approximate='none')\n",
       "        (2): Linear(in_features=512, out_features=128, bias=True)\n",
       "        (3): Dropout(p=0.1, inplace=False)\n",
       "      )\n",
       "    )\n",
       "  )\n",
       "  (norm): LayerNorm((128,), eps=1e-05, elementwise_affine=True)\n",
       "  (head): EinLinear(n_models=33, in_features=128, out_features=100, bias=False)\n",
       ")"
      ]
     },
     "execution_count": 18,
     "metadata": {},
     "output_type": "execute_result"
    }
   ],
   "source": [
    "trainer.train(\n",
    "        model=model,\n",
    "        dataloader=dataloader,\n",
    "        num_epochs=num_epochs\n",
    "    )"
   ]
  },
  {
   "cell_type": "code",
   "execution_count": null,
   "id": "a61c2ad5-ad29-4ce4-930d-18c08ed0e3ac",
   "metadata": {},
   "outputs": [],
   "source": [
    "device "
   ]
  },
  {
   "cell_type": "code",
   "execution_count": null,
   "id": "9988f245-b463-4b80-9bc0-d9f7121f8451",
   "metadata": {},
   "outputs": [],
   "source": [
    "torch.cuda.is_available()"
   ]
  },
  {
   "cell_type": "code",
   "execution_count": null,
   "id": "7ca70c08-ffd6-4532-ad67-a6c87bcd2e02",
   "metadata": {},
   "outputs": [],
   "source": []
  }
 ],
 "metadata": {
  "kernelspec": {
   "display_name": "Python 3 (ipykernel)",
   "language": "python",
   "name": "python3"
  },
  "language_info": {
   "codemirror_mode": {
    "name": "ipython",
    "version": 3
   },
   "file_extension": ".py",
   "mimetype": "text/x-python",
   "name": "python",
   "nbconvert_exporter": "python",
   "pygments_lexer": "ipython3",
   "version": "3.9.12"
  }
 },
 "nbformat": 4,
 "nbformat_minor": 5
}
